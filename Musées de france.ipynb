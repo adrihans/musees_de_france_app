{
 "cells": [
  {
   "cell_type": "markdown",
   "metadata": {},
   "source": [
    "# Dashboard - Musées de France\n",
    "\n",
    "**Datasets considérés dans ce projet:**\n",
    "- [Fréquentation des musées de France](https://data.culture.gouv.fr/explore/dataset/frequentation-des-musees-de-france/)\n",
    "\n",
    "- [Base Muséofile](https://data.culture.gouv.fr/explore/dataset/musees-de-france-base-museofile/information/)\n",
    "\n",
    "- [Base Joconde](https://data.culture.gouv.fr/explore/dataset/base-joconde-extrait/)\n",
    "\n",
    "\n",
    "**Interface déjà développée par le ministère de la culture:**\n",
    "[Lien](https://www.culture.gouv.fr/Aides-demarches/Protections-labels-et-appellations/Composants-Labels/MF/Carte-des-musees-de-France#/pinpoints/17150474)"
   ]
  },
  {
   "cell_type": "code",
   "execution_count": 5,
   "metadata": {},
   "outputs": [],
   "source": [
    "import pandas as pd\n",
    "import numpy as np\n",
    "import seaborn as sns\n",
    "import matplotlib.pyplot as plt\n",
    "import re\n",
    "import unidecode"
   ]
  },
  {
   "cell_type": "markdown",
   "metadata": {
    "heading_collapsed": true
   },
   "source": [
    "## Base sur la fréquentation :"
   ]
  },
  {
   "cell_type": "code",
   "execution_count": 6,
   "metadata": {
    "hidden": true
   },
   "outputs": [],
   "source": [
    "df_freq = pd.read_csv('data_clean/df_freq_clean.csv')"
   ]
  },
  {
   "cell_type": "code",
   "execution_count": 7,
   "metadata": {
    "hidden": true
   },
   "outputs": [
    {
     "data": {
      "text/plain": [
       "(59876, 7)"
      ]
     },
     "execution_count": 7,
     "metadata": {},
     "output_type": "execute_result"
    }
   ],
   "source": [
    "df_freq.shape"
   ]
  },
  {
   "cell_type": "code",
   "execution_count": 8,
   "metadata": {
    "hidden": true,
    "scrolled": true
   },
   "outputs": [
    {
     "data": {
      "text/html": [
       "<div>\n",
       "<style scoped>\n",
       "    .dataframe tbody tr th:only-of-type {\n",
       "        vertical-align: middle;\n",
       "    }\n",
       "\n",
       "    .dataframe tbody tr th {\n",
       "        vertical-align: top;\n",
       "    }\n",
       "\n",
       "    .dataframe thead th {\n",
       "        text-align: right;\n",
       "    }\n",
       "</style>\n",
       "<table border=\"1\" class=\"dataframe\">\n",
       "  <thead>\n",
       "    <tr style=\"text-align: right;\">\n",
       "      <th></th>\n",
       "      <th>REF DU MUSEE</th>\n",
       "      <th>REGION</th>\n",
       "      <th>NOM DU MUSEE</th>\n",
       "      <th>VILLE</th>\n",
       "      <th>Type de fréquentation</th>\n",
       "      <th>Année</th>\n",
       "      <th>Entrées</th>\n",
       "    </tr>\n",
       "  </thead>\n",
       "  <tbody>\n",
       "    <tr>\n",
       "      <th>0</th>\n",
       "      <td>7511701</td>\n",
       "      <td>ÎLE-DE-France</td>\n",
       "      <td>Musée National Jean-Jacques Henner</td>\n",
       "      <td>PARIS</td>\n",
       "      <td>Payante</td>\n",
       "      <td>2008</td>\n",
       "      <td>0.0</td>\n",
       "    </tr>\n",
       "    <tr>\n",
       "      <th>1</th>\n",
       "      <td>7511701</td>\n",
       "      <td>ÎLE-DE-France</td>\n",
       "      <td>Musée National Jean-Jacques Henner</td>\n",
       "      <td>PARIS</td>\n",
       "      <td>Payante</td>\n",
       "      <td>2002</td>\n",
       "      <td>803.0</td>\n",
       "    </tr>\n",
       "    <tr>\n",
       "      <th>2</th>\n",
       "      <td>7511701</td>\n",
       "      <td>ÎLE-DE-France</td>\n",
       "      <td>Musée National Jean-Jacques Henner</td>\n",
       "      <td>PARIS</td>\n",
       "      <td>Payante</td>\n",
       "      <td>2004</td>\n",
       "      <td>0.0</td>\n",
       "    </tr>\n",
       "    <tr>\n",
       "      <th>3</th>\n",
       "      <td>7511701</td>\n",
       "      <td>ÎLE-DE-France</td>\n",
       "      <td>Musée National Jean-Jacques Henner</td>\n",
       "      <td>PARIS</td>\n",
       "      <td>Payante</td>\n",
       "      <td>2010</td>\n",
       "      <td>8729.0</td>\n",
       "    </tr>\n",
       "    <tr>\n",
       "      <th>4</th>\n",
       "      <td>7511801</td>\n",
       "      <td>ÎLE-DE-France</td>\n",
       "      <td>Musée de Montmartre</td>\n",
       "      <td>PARIS</td>\n",
       "      <td>Payante</td>\n",
       "      <td>2009</td>\n",
       "      <td>50541.0</td>\n",
       "    </tr>\n",
       "  </tbody>\n",
       "</table>\n",
       "</div>"
      ],
      "text/plain": [
       "  REF DU MUSEE         REGION                        NOM DU MUSEE  VILLE  \\\n",
       "0      7511701  ÎLE-DE-France  Musée National Jean-Jacques Henner  PARIS   \n",
       "1      7511701  ÎLE-DE-France  Musée National Jean-Jacques Henner  PARIS   \n",
       "2      7511701  ÎLE-DE-France  Musée National Jean-Jacques Henner  PARIS   \n",
       "3      7511701  ÎLE-DE-France  Musée National Jean-Jacques Henner  PARIS   \n",
       "4      7511801  ÎLE-DE-France                 Musée de Montmartre  PARIS   \n",
       "\n",
       "  Type de fréquentation  Année  Entrées  \n",
       "0               Payante   2008      0.0  \n",
       "1               Payante   2002    803.0  \n",
       "2               Payante   2004      0.0  \n",
       "3               Payante   2010   8729.0  \n",
       "4               Payante   2009  50541.0  "
      ]
     },
     "execution_count": 8,
     "metadata": {},
     "output_type": "execute_result"
    }
   ],
   "source": [
    "df_freq.head()"
   ]
  },
  {
   "cell_type": "markdown",
   "metadata": {
    "hidden": true
   },
   "source": [
    "Pour plus d'informations sur ce dataset, vous pouvez trouver une analyse dans ce repo en suivant [ce lien]"
   ]
  },
  {
   "cell_type": "markdown",
   "metadata": {
    "heading_collapsed": true
   },
   "source": [
    "## Base Joconde : "
   ]
  },
  {
   "cell_type": "code",
   "execution_count": 9,
   "metadata": {
    "hidden": true
   },
   "outputs": [],
   "source": [
    "df_joconde=pd.read_csv('data_clean/df_joconde_reduced.csv')"
   ]
  },
  {
   "cell_type": "code",
   "execution_count": 10,
   "metadata": {
    "hidden": true,
    "scrolled": true
   },
   "outputs": [
    {
     "data": {
      "text/html": [
       "<div>\n",
       "<style scoped>\n",
       "    .dataframe tbody tr th:only-of-type {\n",
       "        vertical-align: middle;\n",
       "    }\n",
       "\n",
       "    .dataframe tbody tr th {\n",
       "        vertical-align: top;\n",
       "    }\n",
       "\n",
       "    .dataframe thead th {\n",
       "        text-align: right;\n",
       "    }\n",
       "</style>\n",
       "<table border=\"1\" class=\"dataframe\">\n",
       "  <thead>\n",
       "    <tr style=\"text-align: right;\">\n",
       "      <th></th>\n",
       "      <th>Numéro de l'objet</th>\n",
       "      <th>Domaine</th>\n",
       "      <th>Dénomination</th>\n",
       "      <th>Appellation</th>\n",
       "      <th>Titre</th>\n",
       "      <th>Auteur</th>\n",
       "      <th>Précisions sur l'auteur</th>\n",
       "      <th>Lieu de création</th>\n",
       "      <th>Période de création</th>\n",
       "      <th>Millésime</th>\n",
       "      <th>...</th>\n",
       "      <th>ID-notice</th>\n",
       "      <th>Lieu de conservation</th>\n",
       "      <th>Identifiant Museofile</th>\n",
       "      <th>Date d'import</th>\n",
       "      <th>Date de mise à jour</th>\n",
       "      <th>Label Musée de France</th>\n",
       "      <th>Ecole</th>\n",
       "      <th>Dépôt</th>\n",
       "      <th>ville</th>\n",
       "      <th>geolocalisation_ville</th>\n",
       "    </tr>\n",
       "  </thead>\n",
       "  <tbody>\n",
       "    <tr>\n",
       "      <th>0</th>\n",
       "      <td>03 2 3</td>\n",
       "      <td>dessin</td>\n",
       "      <td>NaN</td>\n",
       "      <td>NaN</td>\n",
       "      <td>VUE PRISE A CHARBONNIERE ; BOIS DE L'ETOILE</td>\n",
       "      <td>ALLEMAND Hector</td>\n",
       "      <td>Lyon, 1809 ; Lyon, 1886</td>\n",
       "      <td>NaN</td>\n",
       "      <td>4e quart 19e siècle</td>\n",
       "      <td>1880</td>\n",
       "      <td>...</td>\n",
       "      <td>000DE021526</td>\n",
       "      <td>Montpellier;musée Fabre</td>\n",
       "      <td>M0476</td>\n",
       "      <td>NaN</td>\n",
       "      <td>NaN</td>\n",
       "      <td>Musée de France#au sens de la loi n°2002-5 du ...</td>\n",
       "      <td>France</td>\n",
       "      <td>NaN</td>\n",
       "      <td>Montpellier</td>\n",
       "      <td>43.611024,3.875521</td>\n",
       "    </tr>\n",
       "    <tr>\n",
       "      <th>1</th>\n",
       "      <td>876 3 105</td>\n",
       "      <td>dessin</td>\n",
       "      <td>NaN</td>\n",
       "      <td>NaN</td>\n",
       "      <td>LA CHASSE AUX LOUPS ET AUX RENARDS</td>\n",
       "      <td>DELACROIX Eugène ; RUBENS Peter Paul (d'après)</td>\n",
       "      <td>Delacroix : Charenton-Saint-Maurice, 1798 ; Pa...</td>\n",
       "      <td>NaN</td>\n",
       "      <td>2e quart 19e siècle;3e quart 19e siècle</td>\n",
       "      <td>1863 avant</td>\n",
       "      <td>...</td>\n",
       "      <td>000DE021580</td>\n",
       "      <td>Montpellier;musée Fabre</td>\n",
       "      <td>M0476</td>\n",
       "      <td>NaN</td>\n",
       "      <td>1995-06-19</td>\n",
       "      <td>Musée de France#au sens de la loi n°2002-5 du ...</td>\n",
       "      <td>France ; Flandres (d'après)</td>\n",
       "      <td>NaN</td>\n",
       "      <td>Montpellier</td>\n",
       "      <td>43.611024,3.875521</td>\n",
       "    </tr>\n",
       "    <tr>\n",
       "      <th>2</th>\n",
       "      <td>D 5808_5809 ; D 5810</td>\n",
       "      <td>dessin</td>\n",
       "      <td>double face</td>\n",
       "      <td>NaN</td>\n",
       "      <td>ABSIDE DE L'EGLISE SAINT JACQUES ET SAINT CHRI...</td>\n",
       "      <td>RODIN Auguste</td>\n",
       "      <td>Paris, 1840 ; Meudon, 1917</td>\n",
       "      <td>NaN</td>\n",
       "      <td>4e quart 19e siècle</td>\n",
       "      <td>1890 entre ; 1897 et ; ?</td>\n",
       "      <td>...</td>\n",
       "      <td>000DE018069</td>\n",
       "      <td>Paris;musée Rodin</td>\n",
       "      <td>M5044</td>\n",
       "      <td>NaN</td>\n",
       "      <td>2009-02-16</td>\n",
       "      <td>Musée de France#au sens de la loi n°2002-5 du ...</td>\n",
       "      <td>France</td>\n",
       "      <td>NaN</td>\n",
       "      <td>Paris</td>\n",
       "      <td>48.8589,2.3469</td>\n",
       "    </tr>\n",
       "    <tr>\n",
       "      <th>3</th>\n",
       "      <td>D 5886</td>\n",
       "      <td>dessin</td>\n",
       "      <td>NaN</td>\n",
       "      <td>NaN</td>\n",
       "      <td>MOULURES A AZAY ?</td>\n",
       "      <td>RODIN Auguste</td>\n",
       "      <td>Paris, 1840 ; Meudon, 1917</td>\n",
       "      <td>NaN</td>\n",
       "      <td>4e quart 19e siècle</td>\n",
       "      <td>1890 vers ; ?</td>\n",
       "      <td>...</td>\n",
       "      <td>000DE018125</td>\n",
       "      <td>Paris;musée Rodin</td>\n",
       "      <td>M5044</td>\n",
       "      <td>NaN</td>\n",
       "      <td>2009-02-16</td>\n",
       "      <td>Musée de France#au sens de la loi n°2002-5 du ...</td>\n",
       "      <td>France</td>\n",
       "      <td>NaN</td>\n",
       "      <td>Paris</td>\n",
       "      <td>48.8589,2.3469</td>\n",
       "    </tr>\n",
       "    <tr>\n",
       "      <th>4</th>\n",
       "      <td>D 5930</td>\n",
       "      <td>dessin</td>\n",
       "      <td>NaN</td>\n",
       "      <td>NaN</td>\n",
       "      <td>DEUX PERSONNAGES LUTTANT DOS A DOS</td>\n",
       "      <td>RODIN Auguste</td>\n",
       "      <td>Paris, 1840 ; Meudon, 1917</td>\n",
       "      <td>NaN</td>\n",
       "      <td>1er quart 19e siècle</td>\n",
       "      <td>1883 ; ?</td>\n",
       "      <td>...</td>\n",
       "      <td>000DE018160</td>\n",
       "      <td>Paris;musée Rodin</td>\n",
       "      <td>M5044</td>\n",
       "      <td>NaN</td>\n",
       "      <td>2009-02-16</td>\n",
       "      <td>Musée de France#au sens de la loi n°2002-5 du ...</td>\n",
       "      <td>France</td>\n",
       "      <td>NaN</td>\n",
       "      <td>Paris</td>\n",
       "      <td>48.8589,2.3469</td>\n",
       "    </tr>\n",
       "  </tbody>\n",
       "</table>\n",
       "<p>5 rows × 36 columns</p>\n",
       "</div>"
      ],
      "text/plain": [
       "      Numéro de l'objet Domaine Dénomination Appellation  \\\n",
       "0                03 2 3  dessin          NaN         NaN   \n",
       "1             876 3 105  dessin          NaN         NaN   \n",
       "2  D 5808_5809 ; D 5810  dessin  double face         NaN   \n",
       "3                D 5886  dessin          NaN         NaN   \n",
       "4                D 5930  dessin          NaN         NaN   \n",
       "\n",
       "                                               Titre  \\\n",
       "0        VUE PRISE A CHARBONNIERE ; BOIS DE L'ETOILE   \n",
       "1                 LA CHASSE AUX LOUPS ET AUX RENARDS   \n",
       "2  ABSIDE DE L'EGLISE SAINT JACQUES ET SAINT CHRI...   \n",
       "3                                  MOULURES A AZAY ?   \n",
       "4                 DEUX PERSONNAGES LUTTANT DOS A DOS   \n",
       "\n",
       "                                           Auteur  \\\n",
       "0                                 ALLEMAND Hector   \n",
       "1  DELACROIX Eugène ; RUBENS Peter Paul (d'après)   \n",
       "2                                   RODIN Auguste   \n",
       "3                                   RODIN Auguste   \n",
       "4                                   RODIN Auguste   \n",
       "\n",
       "                             Précisions sur l'auteur Lieu de création  \\\n",
       "0                            Lyon, 1809 ; Lyon, 1886              NaN   \n",
       "1  Delacroix : Charenton-Saint-Maurice, 1798 ; Pa...              NaN   \n",
       "2                         Paris, 1840 ; Meudon, 1917              NaN   \n",
       "3                         Paris, 1840 ; Meudon, 1917              NaN   \n",
       "4                         Paris, 1840 ; Meudon, 1917              NaN   \n",
       "\n",
       "                       Période de création                 Millésime  ...  \\\n",
       "0                      4e quart 19e siècle                      1880  ...   \n",
       "1  2e quart 19e siècle;3e quart 19e siècle                1863 avant  ...   \n",
       "2                      4e quart 19e siècle  1890 entre ; 1897 et ; ?  ...   \n",
       "3                      4e quart 19e siècle             1890 vers ; ?  ...   \n",
       "4                     1er quart 19e siècle                  1883 ; ?  ...   \n",
       "\n",
       "     ID-notice     Lieu de conservation Identifiant Museofile Date d'import  \\\n",
       "0  000DE021526  Montpellier;musée Fabre                 M0476           NaN   \n",
       "1  000DE021580  Montpellier;musée Fabre                 M0476           NaN   \n",
       "2  000DE018069        Paris;musée Rodin                 M5044           NaN   \n",
       "3  000DE018125        Paris;musée Rodin                 M5044           NaN   \n",
       "4  000DE018160        Paris;musée Rodin                 M5044           NaN   \n",
       "\n",
       "  Date de mise à jour                              Label Musée de France  \\\n",
       "0                 NaN  Musée de France#au sens de la loi n°2002-5 du ...   \n",
       "1          1995-06-19  Musée de France#au sens de la loi n°2002-5 du ...   \n",
       "2          2009-02-16  Musée de France#au sens de la loi n°2002-5 du ...   \n",
       "3          2009-02-16  Musée de France#au sens de la loi n°2002-5 du ...   \n",
       "4          2009-02-16  Musée de France#au sens de la loi n°2002-5 du ...   \n",
       "\n",
       "                         Ecole Dépôt        ville geolocalisation_ville  \n",
       "0                       France   NaN  Montpellier    43.611024,3.875521  \n",
       "1  France ; Flandres (d'après)   NaN  Montpellier    43.611024,3.875521  \n",
       "2                       France   NaN        Paris        48.8589,2.3469  \n",
       "3                       France   NaN        Paris        48.8589,2.3469  \n",
       "4                       France   NaN        Paris        48.8589,2.3469  \n",
       "\n",
       "[5 rows x 36 columns]"
      ]
     },
     "execution_count": 10,
     "metadata": {},
     "output_type": "execute_result"
    }
   ],
   "source": [
    "df_joconde.head()"
   ]
  },
  {
   "cell_type": "code",
   "execution_count": 11,
   "metadata": {
    "hidden": true
   },
   "outputs": [
    {
     "data": {
      "text/plain": [
       "(3269, 36)"
      ]
     },
     "execution_count": 11,
     "metadata": {},
     "output_type": "execute_result"
    }
   ],
   "source": [
    "df_joconde.shape"
   ]
  },
  {
   "cell_type": "code",
   "execution_count": 12,
   "metadata": {
    "hidden": true,
    "scrolled": true
   },
   "outputs": [
    {
     "data": {
      "text/plain": [
       "Numéro de l'objet                 1\n",
       "Domaine                           0\n",
       "Dénomination                    993\n",
       "Appellation                    3188\n",
       "Titre                             0\n",
       "Auteur                            0\n",
       "Précisions sur l'auteur         945\n",
       "Lieu de création               2210\n",
       "Période de création             144\n",
       "Millésime                      1284\n",
       "Période de l'original copié    3215\n",
       "Epoque                         3114\n",
       "Utilisation                    2745\n",
       "Période d'utilisation          3191\n",
       "Millésime d'utilisation        3210\n",
       "Dimensions                      119\n",
       "Matériaux-techniques            222\n",
       "Géographie historique          3248\n",
       "Découverte                     3118\n",
       "Sujet                           596\n",
       "Source de la représentation    3148\n",
       "Onomastique                    3254\n",
       "Statut juridique                 12\n",
       "Date d'acquisition              527\n",
       "Date de dépôt                  2864\n",
       "Ancien dépôt                   3211\n",
       "ID-notice                         0\n",
       "Lieu de conservation              0\n",
       "Identifiant Museofile             0\n",
       "Date d'import                   649\n",
       "Date de mise à jour            2226\n",
       "Label Musée de France           327\n",
       "Ecole                          1064\n",
       "Dépôt                          2681\n",
       "ville                             0\n",
       "geolocalisation_ville             0\n",
       "dtype: int64"
      ]
     },
     "execution_count": 12,
     "metadata": {},
     "output_type": "execute_result"
    }
   ],
   "source": [
    "df_joconde.isna().sum()"
   ]
  },
  {
   "cell_type": "markdown",
   "metadata": {
    "heading_collapsed": true
   },
   "source": [
    "## Base Muséofile :"
   ]
  },
  {
   "cell_type": "code",
   "execution_count": 13,
   "metadata": {
    "hidden": true
   },
   "outputs": [],
   "source": [
    "df_museofile = pd.read_csv('data_clean/df_geo_museofile.csv')"
   ]
  },
  {
   "cell_type": "code",
   "execution_count": 14,
   "metadata": {
    "hidden": true
   },
   "outputs": [
    {
     "data": {
      "text/plain": [
       "(1114, 28)"
      ]
     },
     "execution_count": 14,
     "metadata": {},
     "output_type": "execute_result"
    }
   ],
   "source": [
    "df_museofile.shape"
   ]
  },
  {
   "cell_type": "code",
   "execution_count": 15,
   "metadata": {
    "hidden": true,
    "scrolled": true
   },
   "outputs": [
    {
     "data": {
      "text/html": [
       "<div>\n",
       "<style scoped>\n",
       "    .dataframe tbody tr th:only-of-type {\n",
       "        vertical-align: middle;\n",
       "    }\n",
       "\n",
       "    .dataframe tbody tr th {\n",
       "        vertical-align: top;\n",
       "    }\n",
       "\n",
       "    .dataframe thead th {\n",
       "        text-align: right;\n",
       "    }\n",
       "</style>\n",
       "<table border=\"1\" class=\"dataframe\">\n",
       "  <thead>\n",
       "    <tr style=\"text-align: right;\">\n",
       "      <th></th>\n",
       "      <th>Unnamed: 0</th>\n",
       "      <th>Identifiant</th>\n",
       "      <th>Adresse</th>\n",
       "      <th>Artiste</th>\n",
       "      <th>Atout</th>\n",
       "      <th>Catégorie</th>\n",
       "      <th>Code_Postal</th>\n",
       "      <th>Domaine_thématique</th>\n",
       "      <th>Département</th>\n",
       "      <th>Date_de_saisie</th>\n",
       "      <th>...</th>\n",
       "      <th>Région</th>\n",
       "      <th>Téléphone</th>\n",
       "      <th>Thèmes</th>\n",
       "      <th>URL</th>\n",
       "      <th>Ville</th>\n",
       "      <th>geolocalisation</th>\n",
       "      <th>coord_x</th>\n",
       "      <th>coord_y</th>\n",
       "      <th>merc_x</th>\n",
       "      <th>merc_y</th>\n",
       "    </tr>\n",
       "  </thead>\n",
       "  <tbody>\n",
       "    <tr>\n",
       "      <th>0</th>\n",
       "      <td>0</td>\n",
       "      <td>M0410</td>\n",
       "      <td>Parc de Bécon, 178 Boulevard Saint Denis</td>\n",
       "      <td>Ary Scheffer, René Ménard, Fernand Roybet, Car...</td>\n",
       "      <td>Situé dans le parc de Bécon dont l’origine rem...</td>\n",
       "      <td>Maison d'artiste</td>\n",
       "      <td>92400</td>\n",
       "      <td>Arts décoratifs;Art moderne et contemporain;Be...</td>\n",
       "      <td>Hauts-de-Seine</td>\n",
       "      <td>2019-01-21</td>\n",
       "      <td>...</td>\n",
       "      <td>Ile-de-France</td>\n",
       "      <td>01 71 05 77 92</td>\n",
       "      <td>Beaux-Arts : Dessin, Estampe et Affiche, Peint...</td>\n",
       "      <td>http://www.museeroybetfould.fr</td>\n",
       "      <td>Courbevoie</td>\n",
       "      <td>48.900998,2.271279</td>\n",
       "      <td>48.900998</td>\n",
       "      <td>2.271279</td>\n",
       "      <td>252837.621729</td>\n",
       "      <td>6.258079e+06</td>\n",
       "    </tr>\n",
       "    <tr>\n",
       "      <th>1</th>\n",
       "      <td>2</td>\n",
       "      <td>M5076</td>\n",
       "      <td>Place Monsenergue</td>\n",
       "      <td>Joseph Vernet, Pascal de La Rose, Morel-Fatio,...</td>\n",
       "      <td>Conservatoire de l'histoire de l'arsenal et du...</td>\n",
       "      <td>NaN</td>\n",
       "      <td>83000</td>\n",
       "      <td>Histoire</td>\n",
       "      <td>Var</td>\n",
       "      <td>2019-01-21</td>\n",
       "      <td>...</td>\n",
       "      <td>Provence-Alpes-Côte d'Azur</td>\n",
       "      <td>04 94 02 02 01</td>\n",
       "      <td>Archéologie nationale : Gallo-romain, Moderne;...</td>\n",
       "      <td>http://www.musee-marine.fr</td>\n",
       "      <td>Toulon</td>\n",
       "      <td>43.122018,5.929368</td>\n",
       "      <td>43.122018</td>\n",
       "      <td>5.929368</td>\n",
       "      <td>660054.226486</td>\n",
       "      <td>5.330563e+06</td>\n",
       "    </tr>\n",
       "    <tr>\n",
       "      <th>2</th>\n",
       "      <td>3</td>\n",
       "      <td>M5071</td>\n",
       "      <td>129 rue de Grenelle</td>\n",
       "      <td>NaN</td>\n",
       "      <td>Objets d'art et supports pédagogiques. Collect...</td>\n",
       "      <td>NaN</td>\n",
       "      <td>75007</td>\n",
       "      <td>Histoire;Technique et industrie</td>\n",
       "      <td>Paris</td>\n",
       "      <td>2019-01-21</td>\n",
       "      <td>...</td>\n",
       "      <td>Ile-de-France</td>\n",
       "      <td>01 45 51 95 05</td>\n",
       "      <td>Architecture et urbanisme;Collections militair...</td>\n",
       "      <td>http://www.museedesplansreliefs.culture.fr/</td>\n",
       "      <td>Paris</td>\n",
       "      <td>48.858219,2.312885</td>\n",
       "      <td>48.858219</td>\n",
       "      <td>2.312885</td>\n",
       "      <td>257469.180463</td>\n",
       "      <td>6.250838e+06</td>\n",
       "    </tr>\n",
       "    <tr>\n",
       "      <th>3</th>\n",
       "      <td>4</td>\n",
       "      <td>M0387</td>\n",
       "      <td>Place Gévelot</td>\n",
       "      <td>NaN</td>\n",
       "      <td>Maquettes anciennes de bateaux fluviaux, archi...</td>\n",
       "      <td>NaN</td>\n",
       "      <td>78700</td>\n",
       "      <td>Beaux-arts;Histoire;Technique et industrie</td>\n",
       "      <td>Yvelines</td>\n",
       "      <td>2019-01-21</td>\n",
       "      <td>...</td>\n",
       "      <td>Ile-de-France</td>\n",
       "      <td>01 34 90 39 50</td>\n",
       "      <td>Ethnologie : Métiers et Outils;Histoire : Musé...</td>\n",
       "      <td>http://www.conflans-sainte-honorine.fr/decouvr...</td>\n",
       "      <td>Conflans-Sainte-Honorine</td>\n",
       "      <td>48.992445,2.095621</td>\n",
       "      <td>48.992445</td>\n",
       "      <td>2.095621</td>\n",
       "      <td>233283.462616</td>\n",
       "      <td>6.273580e+06</td>\n",
       "    </tr>\n",
       "    <tr>\n",
       "      <th>4</th>\n",
       "      <td>5</td>\n",
       "      <td>M0449</td>\n",
       "      <td>rue Jean Mayodon</td>\n",
       "      <td>Jean Bellegambe, Brueghel de Velours, Dietrich...</td>\n",
       "      <td>Deux pôles d'intérêt majeurs ressortent des co...</td>\n",
       "      <td>NaN</td>\n",
       "      <td>30100</td>\n",
       "      <td>Archéologie;Arts décoratifs;Beaux-arts</td>\n",
       "      <td>Gard</td>\n",
       "      <td>2019-01-21</td>\n",
       "      <td>...</td>\n",
       "      <td>Occitanie</td>\n",
       "      <td>04 66 86 30 40</td>\n",
       "      <td>Archéologie nationale : Protohistoire, Gallo-r...</td>\n",
       "      <td>http://www.ales.fr/sortir-bouger/musees/musee-...</td>\n",
       "      <td>Alès</td>\n",
       "      <td>44.129352,4.080982</td>\n",
       "      <td>44.129352</td>\n",
       "      <td>4.080982</td>\n",
       "      <td>454292.838177</td>\n",
       "      <td>5.485482e+06</td>\n",
       "    </tr>\n",
       "  </tbody>\n",
       "</table>\n",
       "<p>5 rows × 28 columns</p>\n",
       "</div>"
      ],
      "text/plain": [
       "   Unnamed: 0 Identifiant                                   Adresse  \\\n",
       "0           0       M0410  Parc de Bécon, 178 Boulevard Saint Denis   \n",
       "1           2       M5076                         Place Monsenergue   \n",
       "2           3       M5071                       129 rue de Grenelle   \n",
       "3           4       M0387                             Place Gévelot   \n",
       "4           5       M0449                          rue Jean Mayodon   \n",
       "\n",
       "                                             Artiste  \\\n",
       "0  Ary Scheffer, René Ménard, Fernand Roybet, Car...   \n",
       "1  Joseph Vernet, Pascal de La Rose, Morel-Fatio,...   \n",
       "2                                                NaN   \n",
       "3                                                NaN   \n",
       "4  Jean Bellegambe, Brueghel de Velours, Dietrich...   \n",
       "\n",
       "                                               Atout         Catégorie  \\\n",
       "0  Situé dans le parc de Bécon dont l’origine rem...  Maison d'artiste   \n",
       "1  Conservatoire de l'histoire de l'arsenal et du...               NaN   \n",
       "2  Objets d'art et supports pédagogiques. Collect...               NaN   \n",
       "3  Maquettes anciennes de bateaux fluviaux, archi...               NaN   \n",
       "4  Deux pôles d'intérêt majeurs ressortent des co...               NaN   \n",
       "\n",
       "   Code_Postal                                 Domaine_thématique  \\\n",
       "0        92400  Arts décoratifs;Art moderne et contemporain;Be...   \n",
       "1        83000                                           Histoire   \n",
       "2        75007                    Histoire;Technique et industrie   \n",
       "3        78700         Beaux-arts;Histoire;Technique et industrie   \n",
       "4        30100             Archéologie;Arts décoratifs;Beaux-arts   \n",
       "\n",
       "      Département Date_de_saisie  ...                      Région  \\\n",
       "0  Hauts-de-Seine     2019-01-21  ...               Ile-de-France   \n",
       "1             Var     2019-01-21  ...  Provence-Alpes-Côte d'Azur   \n",
       "2           Paris     2019-01-21  ...               Ile-de-France   \n",
       "3        Yvelines     2019-01-21  ...               Ile-de-France   \n",
       "4            Gard     2019-01-21  ...                   Occitanie   \n",
       "\n",
       "        Téléphone                                             Thèmes  \\\n",
       "0  01 71 05 77 92  Beaux-Arts : Dessin, Estampe et Affiche, Peint...   \n",
       "1  04 94 02 02 01  Archéologie nationale : Gallo-romain, Moderne;...   \n",
       "2  01 45 51 95 05  Architecture et urbanisme;Collections militair...   \n",
       "3  01 34 90 39 50  Ethnologie : Métiers et Outils;Histoire : Musé...   \n",
       "4  04 66 86 30 40  Archéologie nationale : Protohistoire, Gallo-r...   \n",
       "\n",
       "                                                 URL  \\\n",
       "0                     http://www.museeroybetfould.fr   \n",
       "1                         http://www.musee-marine.fr   \n",
       "2        http://www.museedesplansreliefs.culture.fr/   \n",
       "3  http://www.conflans-sainte-honorine.fr/decouvr...   \n",
       "4  http://www.ales.fr/sortir-bouger/musees/musee-...   \n",
       "\n",
       "                      Ville     geolocalisation    coord_x   coord_y  \\\n",
       "0                Courbevoie  48.900998,2.271279  48.900998  2.271279   \n",
       "1                    Toulon  43.122018,5.929368  43.122018  5.929368   \n",
       "2                     Paris  48.858219,2.312885  48.858219  2.312885   \n",
       "3  Conflans-Sainte-Honorine  48.992445,2.095621  48.992445  2.095621   \n",
       "4                      Alès  44.129352,4.080982  44.129352  4.080982   \n",
       "\n",
       "          merc_x        merc_y  \n",
       "0  252837.621729  6.258079e+06  \n",
       "1  660054.226486  5.330563e+06  \n",
       "2  257469.180463  6.250838e+06  \n",
       "3  233283.462616  6.273580e+06  \n",
       "4  454292.838177  5.485482e+06  \n",
       "\n",
       "[5 rows x 28 columns]"
      ]
     },
     "execution_count": 15,
     "metadata": {},
     "output_type": "execute_result"
    }
   ],
   "source": [
    "df_museofile.head()"
   ]
  },
  {
   "cell_type": "code",
   "execution_count": 16,
   "metadata": {
    "hidden": true
   },
   "outputs": [
    {
     "data": {
      "text/plain": [
       "Unnamed: 0               0\n",
       "Identifiant              0\n",
       "Adresse                 62\n",
       "Artiste                707\n",
       "Atout                   72\n",
       "Catégorie              882\n",
       "Code_Postal              0\n",
       "Domaine_thématique      30\n",
       "Département              0\n",
       "Date_de_saisie          32\n",
       "Histoire                93\n",
       "Intérêt                322\n",
       "Lieu                   652\n",
       "Nom_officiel             1\n",
       "Nom_usage              442\n",
       "Personnage_phare       595\n",
       "Protection_bâtiment    711\n",
       "Protection_espace      606\n",
       "Région                   0\n",
       "Téléphone               20\n",
       "Thèmes                 112\n",
       "URL                      0\n",
       "Ville                    0\n",
       "geolocalisation          0\n",
       "coord_x                  0\n",
       "coord_y                  0\n",
       "merc_x                   0\n",
       "merc_y                   0\n",
       "dtype: int64"
      ]
     },
     "execution_count": 16,
     "metadata": {},
     "output_type": "execute_result"
    }
   ],
   "source": [
    "df_museofile.isna().sum()"
   ]
  },
  {
   "cell_type": "markdown",
   "metadata": {
    "heading_collapsed": true,
    "hidden": true
   },
   "source": [
    "### Valeurs des colonnes NANs pour un affichage Dashboard plus adequat:"
   ]
  },
  {
   "cell_type": "code",
   "execution_count": 18,
   "metadata": {
    "hidden": true
   },
   "outputs": [],
   "source": [
    "values = {'Adresse': 'Adresse non renseignée', \n",
    "          'Thèmes' : 'Thèmes non renseignés', \n",
    "          'Catégorie': 'Catégorie non renseignée', \n",
    "          'Atout': 'Atout non renseigné'}\n",
    "df_museofile.fillna(value=values, inplace=True)"
   ]
  },
  {
   "cell_type": "markdown",
   "metadata": {
    "heading_collapsed": true,
    "hidden": true
   },
   "source": [
    "### Liste des différents thèmes des musées : "
   ]
  },
  {
   "cell_type": "markdown",
   "metadata": {
    "hidden": true
   },
   "source": [
    "On pourrait essayer, dans Bokeh, d'établir une selection par le thème du  musée. \n",
    "\n",
    "On pourrait alors imaginer chercher des musées sur la carte par leur thème."
   ]
  },
  {
   "cell_type": "code",
   "execution_count": 19,
   "metadata": {
    "hidden": true
   },
   "outputs": [],
   "source": [
    "list_themes=[]\n",
    "import re\n",
    "for row in df_museofile['Thèmes']:\n",
    "    list_themes.extend([theme for theme in re.split('\\.|;|,', row)])"
   ]
  },
  {
   "cell_type": "code",
   "execution_count": 20,
   "metadata": {
    "hidden": true
   },
   "outputs": [
    {
     "data": {
      "text/plain": [
       "9944"
      ]
     },
     "execution_count": 20,
     "metadata": {},
     "output_type": "execute_result"
    }
   ],
   "source": [
    "len(list_themes)"
   ]
  },
  {
   "cell_type": "code",
   "execution_count": 21,
   "metadata": {
    "hidden": true
   },
   "outputs": [
    {
     "data": {
      "text/plain": [
       "(1455,)"
      ]
     },
     "execution_count": 21,
     "metadata": {},
     "output_type": "execute_result"
    }
   ],
   "source": [
    "np.unique(list_themes).shape"
   ]
  },
  {
   "cell_type": "code",
   "execution_count": 22,
   "metadata": {
    "hidden": true
   },
   "outputs": [],
   "source": [
    "for i in range(len(list_themes)):\n",
    "    while list_themes[i].startswith(' '):\n",
    "        list_themes[i]=list_themes[i][1:]\n",
    "    while list_themes[i].endswith(' '):\n",
    "        list_themes[i]=list_themes[i][:-1]"
   ]
  },
  {
   "cell_type": "code",
   "execution_count": 23,
   "metadata": {
    "hidden": true
   },
   "outputs": [
    {
     "data": {
      "text/plain": [
       "(1364,)"
      ]
     },
     "execution_count": 23,
     "metadata": {},
     "output_type": "execute_result"
    }
   ],
   "source": [
    "np.unique(list_themes).shape"
   ]
  },
  {
   "cell_type": "code",
   "execution_count": 24,
   "metadata": {
    "hidden": true
   },
   "outputs": [
    {
     "name": "stdout",
     "output_type": "stream",
     "text": [
      "['', '(Animaux naturalisés et trophées de chasse)', '(Collection de céréales rustiques anciennes', '(Diorama de 4 000 figurines en étain peintes à la main (bataille de Reichsoffen)', '(Emaux du XIVe siècle au XVIIIe siècle)', '(Etrusques)', '(Europe', \"(Grès d'art populaire)\", '(Grès régionaux de La Borne)', '(Histoire des techniques)', '(Histoire technique)', '(Ivoires', '(Jeux et jouets', '(Les Valois (François Ier)', '(Miniatures sur ivoire)', '(Moyen-Orient)', '(Objets confectionnés dans les camps de concentration)', '(Parfumerie', '(Porcelaines', '(Presse', '(Puniques et Ibères)', '(Sapeurs-pompiers)', '(Vitraux)', '(agriculture)', '(modèles de vaisseaux', '(objets de la vie quotidienne du XXème siècle', '(train-jouet', '(émail XIXe siècle', '(émaux)', ')', '-C', '1 récepteur MCRI pour transmission radio)', '1820)', '2 autels de Viollet-le-Duc', '49 appareils photographiques', '60 affiches)', 'ANTIQUITES NATIONALES', 'ARCHEOLOGIE NATIONALE', 'ART MODERNE ET CONTEMPORAIN', 'ART RELIGIEUX', 'ARTS DECORATIFS', 'AUTRES COLLECTIONS', 'AUTRES COLLECTIONS: Photographie', 'Affiches', 'Africaines', 'Afrique du Nord et Proche Orient', 'Afrique et Inde', 'Agriculture', 'Agro-alimentaire', 'Americaines', 'Américaines', 'Amériques', 'André Lafon)', 'Antiquités etrangères : Egyptiennes', 'Antiquités etrangères : Grecques et romaines', 'Antiquités etrangères : Orientales', 'Antiquités nationales', 'Antiquités nationales : Préhistoire', 'Antiquités étrangères', 'Antiquités étrangères (Chine et Extrême-Orient)', 'Antiquités étrangères (Extrême-Orient)', 'Antiquités étrangères (amérindiennes)', 'Antiquités étrangères (en réserve)', \"Antiquités étrangères (objets coptes provenant des fouilles d'Albert Gayet à antinisé en 1904)\", 'Antiquités étrangères : Egyptiennes', 'Antiquités étrangères : Egyptiennes (Textiles coptes)', 'Antiquités étrangères : Grecques et romaines', 'Antiquités étrangères : Grecques et romaines (Bassin méditerrannéen)', 'Antiquités étrangères : Grecques et romaines (Romaines exclusivement)', \"Antiquités étrangères : Grecques et romaines (collection d'ex-votos antiques)\", 'Antiquités étrangères : Grecques et romaines (découvertes en dehors du territoire national)', 'Antiquités étrangères : Grecques et romaines (vases)', 'Antiquités étrangères : Orientales', 'Antiquités étrangères : Orientales (déposées au musée Guimet)', 'Antiquités étrangères : grecques et romaines', 'Antiquités étrangères:', 'Archeologie nationale', 'Archeologie nationale : Gallo-romain', 'Archeologie nationale : Moderne', 'Archeologie nationale : Médiéval', 'Archeologie nationale : Préhistoire', 'Architecture / Urbanisme (Plans', 'Architecture et urbanisme', 'Architecture et urbanisme (1er silo à grains par Duhamel du Monceau', 'Architecture et urbanisme (Architecture et sculptures)', 'Architecture et urbanisme (Bâtiment)', 'Architecture et urbanisme (Eléments sculptés)', 'Architecture et urbanisme (Epoque gallo-romaine)', 'Architecture et urbanisme (Maquettes des monuments romans)', 'Architecture et urbanisme (Maquettes)', 'Architecture et urbanisme (Plan de la ville', 'Architecture et urbanisme (Plan de la ville en relief', \"Architecture et urbanisme (Plan-relief de la ville d'Arras en 1713)\", 'Architecture et urbanisme (Plans', 'Architecture et urbanisme (Plans des oeuvres de Claudius Abry)', 'Architecture et urbanisme (Plans)', 'Architecture et urbanisme (Plans-reliefs)', 'Architecture et urbanisme (Villa gallo-romaine)', 'Architecture et urbanisme (architecture industrielle et urbanisme', \"Architecture et urbanisme (de l'Hôtel des Monnaies\", 'Architecture et urbanisme (en réserve)', 'Architecture et urbanisme (fonds Doucet)', \"Architecture et urbanisme (maquette d'un intérieur morvandiau)\", 'Architecture et urbanisme (maquette de la ville gallo-romaine de Jublains et de son sanctuaire)', 'Architecture et urbanisme (plans et maquettes)', 'Architecture et urbanisme (plans)', 'Architecture et urbanisme Art religieux (Religion en Provence orientale)', \"Architecture et urbanisme fFonds de l'architecte P\", 'Archives papier', 'Archives papier (221)', 'Archives papier (Delaherche', \"Archives papier (sur l'émail)\", 'Archives papier (établissement ostréicole)', 'Archives sonores', 'Archives sonores (Musette)', \"Archives sonores (Une dizaine de disques de l'époque)\", 'Archéeologie nationale : Protohistoire', 'Archéeologie nationale : Préhistoire', 'Archéologie', 'Archéologie (préhistoire', 'Archéologie : Produits de fouilles locales (chaussure en cuir du Moyen-Age)', 'Archéologie : Protohistoire', 'Archéologie grecque et romaine', 'Archéologie nationale', 'Archéologie nationale (Antiquités gréco-romaines', 'Archéologie nationale (Préhistoire', 'Archéologie nationale (archéologie antillaise)', 'Archéologie nationale (archéologie bretonne)', 'Archéologie nationale (archéologie des Causses)', 'Archéologie nationale (archéologie régionale', 'Archéologie nationale (en réserve)', 'Archéologie nationale (peu représentée)', 'Archéologie nationale (roches gravées Ibères', 'Archéologie nationale : Gallo-romain', 'Archéologie nationale : Moderne', 'Archéologie nationale : Médiéval', 'Archéologie nationale : Paléo-chrétien', 'Archéologie nationale : Protohistoire', 'Archéologie nationale : Protohistoire (Oppidum gaulis de Péréa)', 'Archéologie nationale : Protohistoire (mérovingien)', 'Archéologie nationale : Préhistoire', 'Archéologie nationale : moderne', 'Archéologie nationale : préhistoire', 'Archéologie nationale\\xa0: Gallo-romain', 'Archéologie régionale', 'Arctique', 'Argenterie', 'Armes', 'Armes (de chasse', 'Armures', 'Armures (Tenues de déportés', 'Armures (Uniformes incendie', 'Armures (souvenirs des guerres 14-18 et 39-45)', 'Art forain', 'Art moderne / Art contemporain', 'Art moderne / Art contemporain (dépôt du FRAC Champagne-Ardenne)', 'Art moderne et contemporain', 'Art moderne et contemporain (Abstraction géométrique)', 'Art moderne et contemporain (Art abstrait à partir des années 1950 : peinture lyrique et gestuelle)', 'Art moderne et contemporain (Art moderne des années 1930)', \"Art moderne et contemporain (Collection de coutellerie d'art contemporain\", 'Art moderne et contemporain (Céramique)', 'Art moderne et contemporain (Design XXe siècle)', 'Art moderne et contemporain (Dépôt du FNAC et acquisitions)', 'Art moderne et contemporain (Ecole de Paris 1950 - 1960', 'Art moderne et contemporain (Estampes)', 'Art moderne et contemporain (Expositions temporaires)', 'Art moderne et contemporain (Fautrier)', 'Art moderne et contemporain (Land art)', 'Art moderne et contemporain (Peinture)', 'Art moderne et contemporain (Photographie et utilisation du médium photographique)', 'Art moderne et contemporain (Photographie)', \"Art moderne et contemporain (Sculptures dans le parc et à l'entrée du musée)\", 'Art moderne et contemporain (gravures sur bois du milieu u XXe siècle)', 'Art moderne et contemporain (médaille contemporaine', 'Art moderne et contemporain (photographies)', \"Art moderne et contemporain (salle d'expos temporaires\", 'Art moderne et contemporain :', 'Art moderne et contemporain Arts décoratifs : Céramique', 'Art religieux', 'Art religieux (2 statues en pierre : Saint-Mathurin', 'Art religieux (Abbaye IX au XVIIIe siècle', 'Art religieux (Architecture du palais de la Berbie)', 'Art religieux (Art chrétien', 'Art religieux (Art chrétien)', 'Art religieux (Art protestant)', 'Art religieux (Art religieux populaire catalan)', 'Art religieux (Art religieux populaire et classique)', 'Art religieux (Art sacré XIIIe-XIXe siècles', 'Art religieux (Bois sculptés du XVIe siècle', 'Art religieux (Bouddhiste et Hindouïste)', 'Art religieux (Byzantin)', 'Art religieux (Bénitiers de chevet)', 'Art religieux (Catholique)', 'Art religieux (Chapiteaux romans', 'Art religieux (Chasuble brodée XVIIe siècle', 'Art religieux (Chrétien)', 'Art religieux (Croix de procession', 'Art religieux (Crèches)', 'Art religieux (Culte de sainte Barbe)', 'Art religieux (Culte luthérien', 'Art religieux (Cuve baptismale', \"Art religieux (Dépôts de la conservation des objets d'art)\", 'Art religieux (Eléments de boiseries', 'Art religieux (Emaux de limoges', 'Art religieux (Estampes et photographies)', 'Art religieux (Ethnologie religieuse des XIXe et XXe siècles)', 'Art religieux (Fin du Moyen-Age et époque moderne)', 'Art religieux (Icônes', 'Art religieux (Mobilier', \"Art religieux (Mobilier d'églises d'Orange)\", 'Art religieux (Objets de culte', 'Art religieux (Objets de dévotion populaire)', 'Art religieux (Objets du culte', 'Art religieux (Objets et mobiliers)', 'Art religieux (Orfèvrerie', 'Art religieux (Orfèvrerie XVIe-XVIIIe siècle', 'Art religieux (Ornements liturgiques', 'Art religieux (Ornements sacerdotaux)', 'Art religieux (Peintures', 'Art religieux (Peintures et sculptures XVIe-XVIIIe siècle)', 'Art religieux (Primitifs aragonais)', 'Art religieux (Quelques statues', 'Art religieux (Retables)', 'Art religieux (Sculptures', 'Art religieux (Sculptures XII-XVe siècles)', \"Art religieux (Sculptures de la cathédrale d'Angoulême\", 'Art religieux (Sculptures et monuments funéraires)', 'Art religieux (Sculptures et peintures murales du haut Moyen Age', 'Art religieux (Sculptures médiévales)', 'Art religieux (Sculptures polychromes', 'Art religieux (Sculptures sur bois conservées en réserves)', \"Art religieux (Site de l'abbaye Saint-Bénigne)\", 'Art religieux (Statuaire', 'Art religieux (Statuaire antique et médiévale', 'Art religieux (Statuaire et objets de culte)', 'Art religieux (Statuaire locale en dépôt au musée)', 'Art religieux (Statuaire locale et régionale du XIVe au XIXe siècle)', 'Art religieux (Statuaire notamment)', 'Art religieux (Statue du XIVe siècle)', 'Art religieux (Statues', 'Art religieux (Statues en bois', 'Art religieux (Statues locales)', 'Art religieux (Statues religieuses et art local', 'Art religieux (Tableau des pénitents)', 'Art religieux (Trésor de la cathédrale', 'Art religieux (Trésor de la cathédrale)', 'Art religieux (Vases sacrés', 'Art religieux (Vêtements et objets religieux', 'Art religieux (Vêtements sacerdotaux', 'Art religieux (XVIIe et XVIIIe siècles : vie du carmel)', 'Art religieux (art catholique et protestant)', 'Art religieux (art juif)', 'Art religieux (art paléo-chrétien', 'Art religieux (bannières)', 'Art religieux (catholique et juif)', 'Art religieux (catholique)', 'Art religieux (chenets de culte gallo-romains)', 'Art religieux (chrétien et bouddhique)', \"Art religieux (châpitaux en provenance d'abbayes locales)\", 'Art religieux (croix et christ', 'Art religieux (dans le cadre de la vie domestique)', 'Art religieux (des XVIIIe et XIXe siècles)', 'Art religieux (en rapport avec la religion des mariniers de la Loire)', 'Art religieux (en relation avec Port-Royal', 'Art religieux (espagnol)', 'Art religieux (ex-voto)', \"Art religieux (fragments d'architecture : colonnes\", 'Art religieux (fresques)', 'Art religieux (islamique)', 'Art religieux (juif)', 'Art religieux (lapidaire)', 'Art religieux (luminaires de procession)', \"Art religieux (manuscrits de l'Abbaye de Liessies du XIIe siècle\", 'Art religieux (maquettes de la cathédrale saint Lazare', \"Art religieux (mobilier d'église)\", 'Art religieux (médailles religieuses des XVIIe et XVIIIe siècles)', 'Art religieux (nombreuses images populaires religieuses datant du 17e au 20e siècle)', 'Art religieux (nombreuses statues des XVe et XVIe siècles)', 'Art religieux (non exposé', 'Art religieux (ouvrages religieux divers des XVIIe et XVIIIe siècles)', 'Art religieux (patrimoine religieux local : ex-votos et Santibelli', 'Art religieux (populaire)', 'Art religieux (renaissance allemande)', 'Art religieux (sculptures)', 'Art religieux (section des origines légendaires bibliques)', 'Art religieux (statuaire', 'Art religieux (statuaire populaire des XVIe et XVIIe siècles', 'Art religieux (statuaire régionale en bois', 'Art religieux (statuaire)', 'Art religieux (statues', 'Art religieux (tableaux', 'Art religieux (tableaux flamands XVIe siècle', 'Art religieux (toiles peintes par Jean Hélart sur les vies de Saint-Ignace de Loyola et Saint-François-Xavier)', 'Art religieux (vasque baptismale XIIIe siècle (extérieur', 'Art religieux (vitraux', 'Art religieux (vitraux)', 'Art religieux (vêtement et objet de culte)', 'Art religieux (église Saint-Etienne', \"Art religieux (éléments de l'ancienne église\", 'Art religieux (émaillerie et orfèvrerie du Moyen Age au XIXème siècle', 'Art religieux ARTS DECORATIFS', 'Art religieux chrétien', 'Artillerie', 'Arts du spectacle', 'Arts du spectacle (Carnaval)', 'Arts du spectacle (Dessins', 'Arts du spectacle (Marionnette)', 'Arts du spectacle (Marionnettes du monde entier)', 'Arts du spectacle (Théâtre forain)', 'Arts du spectacle (cabarets', 'Arts du spectacle (joutes languedociennes)', 'Arts du spectacle (magie)', 'Arts du spectacle : Art forain', 'Arts du spectacle : Art forain (Pianos mécaniques)', 'Arts du spectacle : Autre(s)', 'Arts du spectacle : Cinéma', 'Arts du spectacle : Cinéma (Projecteur à éclairage à arc)', \"Arts du spectacle : Cinéma (d'animation)\", 'Arts du spectacle : Cinéma (pré-cinéma)', 'Arts du spectacle : Cirque', 'Arts du spectacle : Danse', 'Arts du spectacle : Théâtre et Opéra', 'Arts du spectacle : Théâtre et Opéra (Miniatures de Molière)', 'Arts du spectacle : jumelles de théâtre', 'Arts décoratifs', 'Arts décoratifs (Art et civilisation juifs', 'Arts décoratifs (Bois)', 'Arts décoratifs (Design : 1966 à nos jours', 'Arts décoratifs (Ferronnerie)', 'Arts décoratifs (Ivoires)', \"Arts décoratifs (Objets d'art)\", \"Arts décoratifs (Objets d'éclairage)\", 'Arts décoratifs (Objets évoquant la vie de Napoléon Ier)', 'Arts décoratifs (Poupées et jouets)', 'Arts décoratifs (faïences des XVIIe et XVIIIe siècles de Moustiers', 'Arts décoratifs (horlogerie)', \"Arts décoratifs (objets d'art)\", 'Arts décoratifs (papier mâché)', 'Arts décoratifs (peaux et gants)', 'Arts décoratifs (religion et stylistique)', 'Arts décoratifs (étain)', 'Arts décoratifs : Céramique', 'Arts décoratifs : Céramique (Dax-Samadet)', 'Arts décoratifs : Céramique (Faïences)', 'Arts décoratifs : Céramique (Porcelaines chinoises et poteries)', 'Arts décoratifs : Céramique (contemporaine)', 'Arts décoratifs : Céramique (de Rubelles et porcelaines de Boissettes et Jacob Petit)', 'Arts décoratifs : Céramique (des artisans locaux du XVIIIe siècle)', 'Arts décoratifs : Céramique (faïences de Charolles)', 'Arts décoratifs : Céramique (non exposé', 'Arts décoratifs : Céramique (porcelaine de Jersey', 'Arts décoratifs : Jouets (poupées et trains)', 'Arts décoratifs : Mobilier', 'Arts décoratifs : Mobilier (Table des Connétables de Montmorency', 'Arts décoratifs : Mobilier (collection de dossiers de chaise', 'Arts décoratifs : Mobilier (jouets)', 'Arts décoratifs : Mobilier (meubles médailler', 'Arts décoratifs : Mobilier (une chambre XIXe siècle)', 'Arts décoratifs : Orfèvrerie', 'Arts décoratifs : Orfèvrerie antique', 'Arts décoratifs : Textile', 'Arts décoratifs : Textiles', 'Arts décoratifs : Textiles (Costumes normands)', \"Arts décoratifs : Textiles (Tapisseries d'Aubusson)\", 'Arts décoratifs : Textiles (Tricot)', 'Arts décoratifs : Textiles (broderies et dentelles du pays)', 'Arts décoratifs : Textiles (costume', 'Arts décoratifs : Textiles (costume)', 'Arts décoratifs : Textiles (dentelle)', 'Arts décoratifs : Textiles (images réalisées au point de croix)', 'Arts décoratifs : Verre', 'Arts décoratifs : Verrerie', 'Arts décoratifs : Verrerie (Verrerie de la grésique en faible quantité)', 'Arts décoratifs : Verrerie (Verres)', 'Arts décoratifs : Verrerie (Vitraux)', 'Arts décoratifs : Verrerie (vitraux', 'Arts décoratifs : céramique', 'Arts décoratifs : mobilier (objets d’art et meubles du XVIIIe siècle)', 'Arts décoratifs : objets d’art', 'Arts décoratifs : orfèvrerie', 'Arts décoratifs : textiles et tabletterie', 'Arts décoratifs\\xa0: céramique', 'Arts et Traditions Populaires', 'Arts et Traditions populaires : Céramique', 'Arts et ethnologie : dessin', 'Arts textiles', 'Asiatique', 'Asiatiques', \"Asiatiques (Asie du Sud-Est continentale et d'Extrême-Orient\", 'Autre(s)', 'Autres collections', 'Autres collections (Litterature)', 'Autres collections (Maison', 'Autres collections : Archives papier', \"Autres collections : Archives papier (653 dossiers d'archives\", 'Autres collections : Archives sonores', \"Autres collections : Archives sonores (Souvenirs de la Résistance et salle d'ethnographie)\", 'Autres collections : Fonds ancien d imprimés', 'Autres collections : Fonds ancien d imprimés (cartes postales)', \"Autres collections : Fonds ancien d'imprimés\", 'Autres collections : Fonds ancien d’imprimés', 'Autres collections : Manuscrits', 'Autres collections : Moulages', 'Autres collections : Numismatique', 'Autres collections : Numismatique (en réserve)', 'Autres collections : Ouvrages de bibliophilie', 'Autres collections : Ouvrages de bibliophilie (sur la chasse)', 'Autres collections : Photographie', 'Aéronautique', 'B', 'BEAUX-ARTS', 'BOSSUET)', 'Bandes dessinées', 'Batellerie', 'Beauvais et Gobelins)', 'Beaux-Arts', 'Beaux-Arts (Art du XXe siècle', 'Beaux-Arts (Hommages à Jean de Lattre de Tassigny)', 'Beaux-Arts (Iconographie de la Vallée de Chamonix', 'Beaux-Arts (XXe siècle)', 'Beaux-Arts (du Moyen-Age au XXe siècle)', 'Beaux-Arts (tauromachie', 'Beaux-Arts : Dessin', 'Beaux-Arts : Dessin (658)', 'Beaux-Arts : Dessin (XVIIIe)', 'Beaux-Arts : Dessin (en réserve)', 'Beaux-Arts : Dessin (et pastels)', 'Beaux-Arts : Dessin (portraits)', 'Beaux-Arts : Estampe et Affiche', 'Beaux-Arts : Estampe et Affiche (Imagerie populaire)', 'Beaux-Arts : Peinture', 'Beaux-Arts : Peinture (Portraits du XVIIe', 'Beaux-Arts : Peinture (XVIIe et XVIIIe)', \"Beaux-Arts : Peinture (ainsi qu'une série de lithographies régionales du XIXe siècle)\", 'Beaux-Arts : Peinture (des bagnards)', 'Beaux-Arts : Peinture (ex voto)', 'Beaux-Arts : Peinture (locale)', 'Beaux-Arts : Sculpture', 'Beaux-Arts : Sculpture (Résistance et déportation)', 'Beaux-Arts : Sculpture (XVIIe', 'Beaux-Arts : Sculpture (du XVe au XIXe siècles)', 'Beaux-Arts : art graphique', 'Beaux-Arts : dessin', 'Beaux-Arts : peinture ( XVIIe - XVIIIe siècles)', 'Beaux-arts', 'Beaux-arts : Dessin', 'Beaux-arts : Peinture', 'Beaux-arts : Peinture (non exposée)', 'Beaux-arts : dessin', 'Beaux-arts\\xa0: Dessin', 'Beaux-arts\\xa0: estampe et affiche', 'Bibliothèque (art baroque français', 'Bigot)', 'Biographie', 'Biographie (André Lamandé', 'Biographie (C', 'Biographie (François Pompon)', 'Biographie (Gaston Couté)', 'Biographie (Jean de Lattre de Tassigny)', 'Biographie (Paschal Grousset', 'Botanique', 'Bzux-Arts : Sculpture', 'Cambodge', 'Camille Pagé)', 'Cartes postales', 'Chapiteaux à feuillages ou figurés et autres éléments décoratifs sculptés', 'Chine', 'Christ en bois du XIIe)', 'Christ en bronze)', 'Cinéma', 'Cirque', 'Civilisation extra-européennes\\xa0: Asiatique (estampes japonaises)', 'Civilisations européennes\\xa0(images populaires provenant d’Allemagne', 'Civilisations extra-européennes', 'Civilisations extra-européennes (Archéologie précolombienne et civilisation SAO', 'Civilisations extra-européennes (En réserves', 'Civilisations extra-européennes (Très peu et très anecdotiques', 'Civilisations extra-européennes (ameridienne)', 'Civilisations extra-européennes (images populaires notamment de centres imagiers d’Inde', 'Civilisations extra-européennes : Africaines', 'Civilisations extra-européennes : Africaines (Afrique subsaharienne', 'Civilisations extra-européennes : Africaines (Mali)', 'Civilisations extra-européennes : Africaines (archéologie', 'Civilisations extra-européennes : Afrique', 'Civilisations extra-européennes : Américaines', 'Civilisations extra-européennes : Américaines (Echanges franco-américains du XVIIIe siècle à nos jours)', 'Civilisations extra-européennes : Américaines (Mexique)', 'Civilisations extra-européennes : Américaines (archélogie précolombienne et des \"Petites antilles\")', 'Civilisations extra-européennes : Américaines (guyanaise)', 'Civilisations extra-européennes : Asiatiques', 'Civilisations extra-européennes : Asiatiques (Chine', 'Civilisations extra-européennes : Asiatiques (Estampes japonaises', 'Civilisations extra-européennes : Asiatiques (Japon)', 'Civilisations extra-européennes : Asiatiques (collection de netsuké)', 'Civilisations extra-européennes : Asie', 'Civilisations extra-européennes : Cambodge', 'Civilisations extra-européennes : Islamiques', 'Civilisations extra-européennes : Japon', 'Civilisations extra-européennes : Océaniennes', 'Coiffes et costumes', 'Collection de lampes et luminaires de toutes les époques', 'Collection de noix de coco et noix sculptées', 'Collection de tapisseries anglaises de Mortlake du XVIIe siècle', 'Collection des cartons de tapisseries', 'Collections génétiques (arbres fruitiers', 'Collections militaires', 'Collections militaires (Cynégétique)', 'Collections militaires (Insignes', 'Collections militaires (Médailles)', 'Collections militaires (Mémorial de la seconde guerre mondiale)', \"Collections militaires (Objets utilitaires de l'armée)\", 'Collections militaires (baïonnettes)', 'Collections militaires (médailles)', 'Collections militaires (numéros de conscription et souvenirs de régiment', 'Collections militaires (petits soldats)', 'Collections militaires (planches de soldats', 'Collections militaires : Armes', 'Collections militaires : Armes (Armes de chasse)', 'Collections militaires : Armes (En réserves', 'Collections militaires : Armes (Fusils anciens)', 'Collections militaires : Armes (Obus', \"Collections militaires : Armes (de l'âge du bronze)\", 'Collections militaires : Armes (médiévales)', 'Collections militaires : Armes (non exposées)', 'Collections militaires : Armes (épées maçonniques)', 'Collections militaires : Armes blanches', 'Collections militaires : Artillerie', 'Collections militaires : Photos et matériel pharmaceutique de la 1ère guerre mondiale', 'Collections militaires : Uniformes', 'Collections militaires : Uniformes (douanes : impôt sur le sel 1806-1945)', \"Collections spécifiques (fonds anciens d'imprimés)\", 'Collections spécifiques : Archives papier', 'Collections spécifiques : Mode', 'Collections spécifiques : Moulages', 'Communication', 'Compagnonnage)', 'Conchyliologie', 'Construction navale', 'Costume', 'Coutellerie', 'Cuirasses', 'Céramique', 'Céramologie', 'Danse', 'Dessin', 'Divers imprimés et manuscrits (félibrige)', 'Documents concernant la guerre de 1914 - 1918 (fonds Lambert)', 'Dufour', 'Décorations', 'Décorations)', 'ETHNOLOGIE', 'Echelles', 'Egyptiennes', 'Electricité', 'Elevage', \"Eléments d'architecture\", 'Emaux', 'Emaux bressans', 'Emaux de Limoges', 'Enfance', 'Entomologie', 'Entomologie (Insectes)', 'Entomologie (papillons)', 'Epoque Moderne', 'Estampe', 'Estampe (ensemble de gravures originales de Pissarro)', 'Estampe et Affiche', 'Estampe et Affiche (487 affiches)', 'Estampe et Affiche (ces oeuvres sont majoritaires dans les collections', 'Estampe et Affiche (non exposé)', 'Estampe et Affiche (petite collection)', 'Ethnologie', 'Ethnologie (Coiffes)', 'Ethnologie (En réserve', 'Ethnologie (Ethnologie locale)', 'Ethnologie (Histoire de la mine et des mineurs)', \"Ethnologie (Histoire et traditions de l'archerie)\", 'Ethnologie (Sport)', 'Ethnologie (amérindienne)', 'Ethnologie (broderies de Lunéville)', 'Ethnologie (collection de poupées anciennes)', 'Ethnologie (collection de tickets', 'Ethnologie (en réserve)', 'Ethnologie (ethnologie urbaine', 'Ethnologie (imagerie en bois gravée', 'Ethnologie (imagerie populaire', 'Ethnologie (machines agricoles', 'Ethnologie (mobilier)', 'Ethnologie (objets de la vie quotidienne)', 'Ethnologie (objets issus des industries locales', 'Ethnologie (précolonbienne)', 'Ethnologie (régionale)', 'Ethnologie :', 'Ethnologie : Art africain', 'Ethnologie : Costume', \"Ethnologie : Costume (Costumes bressans propres à Pont-de-Vaux et coiffes provenant également d'autres villages de Bresse)\", 'Ethnologie : Costume (costume chinois : robe de mandarin)', 'Ethnologie : Costume (costumes traditionnels bretons de travail et quotidiens', \"Ethnologie : Costume (de l'Argonne)\", 'Ethnologie : Céramique', 'Ethnologie : Habitat', 'Ethnologie : Jouets', 'Ethnologie : Mobilier', 'Ethnologie : Mobilier (2 500 fers à repasser)', 'Ethnologie : Métier et outils', 'Ethnologie : Métiers et Outils', 'Ethnologie : Métiers et Outils (Artisanat et objets agricoles)', 'Ethnologie : Métiers et Outils (Exposition permanente sur la vie rurale)', 'Ethnologie : Métiers et Outils (Outillages anciens de luthiers)', 'Ethnologie : Métiers et Outils (Viticulture)', 'Ethnologie : Métiers et Outils (artisanat du cuivre)', 'Ethnologie : Métiers et Outils (collection de coutellerie', 'Ethnologie : Métiers et Outils (enseignant)', 'Ethnologie : Métiers et Outils (métiers à tisser)', 'Ethnologie : Métiers et Outils (non exposée)', 'Ethnologie : Métiers et Outils (pêche)', 'Ethnologie : Métiers et outils', 'Ethnologie : Métiers et outils ( artisanat', 'Ethnologie : Métiers et outils (artisanat', 'Ethnologie : Métiers et outils (construction navale)', 'Ethnologie : Pratiques collectives', 'Ethnologie : Pratiques religieuses et collectives', 'Ethnologie : Pratiques religieuses et collectives (pratiques festives et joutes nautiques)', 'Ethnologie : costume', 'Ethnologie : métiers et outils', 'Ethnologie : taille de la pierre', 'Ethnologie : vie quotidienne en moyenne montagne', 'Etrusques', 'Fabrication d’une céramique', 'Faiences', 'Ferronerie', 'Ferronnerie', 'Fonds ancien d imprimés', 'Fonds ancien d imprimés (388)', \"Fonds ancien d'imprimés\", 'Fonds ancien d’imprimés', \"Fonds anciens d'imprimés\", 'Fromage (le Cantal)', 'Gallo-romain', 'Gallo-romain (céramique', 'Gallo-romain (et mérovingien)', \"Gallo-romain (l'essentiel des collections)\", 'Gallo-romain (objets', 'Gallo-romain (y compris grecques et romaines découvertes sur le territoire national et eaux territoriales', 'Gallo-romain)', \"Gandilhon Gens-d'Armes)\", 'Gobineau)', 'Grecques et romaines', 'Géologie', 'Géologie (cartes)', 'H', 'HISTOIRE', 'HISTOIRE: Histoire militaire', 'Habitat', 'Habitat (maquettes)', \"Habitat (photos et étude : les zones d' habitat\", 'Herpétologie', 'Herpétologie (Reptiles)', 'Herpétologie (reptiles)', 'Histoire', 'Histoire (Cîteaux)', 'Histoire (Histoire de la carte à jouer', \"Histoire (Musée de l'image\", 'Histoire (Premier Empire)', 'Histoire (architecture urbaine', 'Histoire (archives des Amis de Camille Pissarro réunies depuis 1975)', \"Histoire (de la Révolution industrielle - 1860 - à la fermeture - 1966 - d'un centre sidérurgique régional\", 'Histoire (gravures à thèmes historiques', 'Histoire (histoire du compagnonnage)', 'Histoire :', 'Histoire : Biographie', 'Histoire : Biographie (Edmond Rostand)', 'Histoire : Biographie (Eugène Delacroix)', 'Histoire : Biographie (Georges Sand)', 'Histoire : Biographie (J', 'Histoire : Biographie (Jean Cocteau)', 'Histoire : Biographie (Jean-Jacques Rousseau)', 'Histoire : Biographie (Pierre Corneille)', 'Histoire : Biographie (Poète Nathan Katz : 1 500 ouvrages)', 'Histoire : Biographie (Victor Hugo)', 'Histoire : Histoire locale', 'Histoire : Histoire locale et régionale', 'Histoire : Histoire locale et régionale (300 dessins du vieux Melun)', 'Histoire : Histoire locale et régionale (Lyon)', 'Histoire : Histoire locale et régionale (bains de mer)', 'Histoire : Histoire locale et régionale (le Beaujolais)', 'Histoire : Histoire locale et régionale : Sciences fondamentales : Physique', 'Histoire : Histoire militaire', 'Histoire : Histoire militaire (seconde guerre mondiale)', 'Histoire : Histoire religieuse', \"Histoire : Histoire religieuse (Histoire du site de l'abbaye)\", 'Histoire : Histoire religieuse (Protestantisme', 'Histoire : Musée thématique', 'Histoire : Musée thématique (Echanges franco-américains du XVIIIe siècle à nos jours)', 'Histoire : Musée thématique (Ecole militaire de Brienne', 'Histoire : Musée thématique (Histoire de la Vigne et du vin de Touraine', 'Histoire : Musée thématique (Hussards)', 'Histoire : Musée thématique (Musée de la mine et des mineurs)', 'Histoire : Musée thématique (Médecine)', 'Histoire : Musée thématique (ex', 'Histoire : Musée thématique (imprimerie)', 'Histoire : Musée thématique (la mer)', 'Histoire : Musée thématique (médecine)', 'Histoire : Navigation et Pêche', 'Histoire : Pédagogie', 'Histoire : Période historique', 'Histoire : Période historique (-2000 +1660 env', 'Histoire : Période historique (1790-1830)', 'Histoire : Période historique (1870)', 'Histoire : Période historique (5 septembre 1870)', 'Histoire : Période historique (Ancienne', 'Histoire : Période historique (Bataille de La Hougue en 1692)', 'Histoire : Période historique (Catharisme)', 'Histoire : Période historique (Deuxième guerre mondiale)', 'Histoire : Période historique (Moderne', 'Histoire : Période historique (Moderne et contemporaine)', 'Histoire : Période historique (Rattachement de la Savoie à la France)', 'Histoire : Période historique (Restauration)', 'Histoire : Période historique (Seconde Guerre Mondiale)', 'Histoire : Période historique (Seconde guerre mondiale)', 'Histoire : Période historique (Troisième république)', 'Histoire : Période historique (XXe siècle', 'Histoire : Période historique (ancienne', 'Histoire : Période historique (moderne', 'Histoire : deuxième guerre mondiale', 'Histoire : histoire locale et régionale', 'Histoire : musée du monde rural et agricole', 'Histoire : période historique\\xa0: Second Empire et Annexion (1870-1918)', 'Histoire : seconde Guerre mondiale', 'Histoire :Période historique (deuxième guerre mondiale)', 'Histoire Naturelle', \"Histoire d'Issy-les-Moulineaux\", 'Histoire des jardins', 'Histoire des métiers', \"Histoire des sciences (cabinet de physique et d'optique du XIXe siècle)\", 'Histoire du train-jouet et de la maquette', 'Histoire et pratiques religieuses (images de dévotion)', 'Histoire industrielle et technologique', 'Histoire locale', 'Histoire locale et régionale', 'Histoire locale et régionale (1860-1966', 'Histoire locale et régionale (Historique maritime)', \"Histoire locale et régionale (Presqu'île de Guérande)\", 'Histoire locale et régionale (centres imagiers français et étrangers', 'Histoire locale et régionale (histoire de Vierzon aux 19e et 20e siècles)', 'Histoire militaire', 'Histoire militaire (La garnison de Blaye)', 'Histoire militaire (Participation méricaine en France lors des deux conflits mondiaux)', 'Histoire militaire (Seconde guerre mondiale)', 'Histoire militaire (deuxième Guerre mondiale)', 'Histoire religieuse', 'Histoire\\xa0: histoire locale et régionale', 'Horlogerie', 'Horlogerie)', 'Hydrobiologie', 'Ichtyologie', 'Ichtyologie (Poissons)', 'Image animée', 'Image animée (300 témoignages)', 'Image animée (audiovisuel)', 'Image animée (les premiers films tournés sur les populations des trois continents)', 'Imprimerie', 'Inde', 'Industrie', 'Industrie (Taillanderie', 'Insignes', 'Instruments', 'Instruments de mesure et de précision)', 'Instruments de musique', 'Insulinde', 'Invertébrés', 'Invertébrés (marins)', 'Invertébrés marins', 'Invertébrés marins ( coraux', 'Invertébrés marins (Coraux', 'Islamiques', 'Islamiques (Afrique du nord)', 'Italiques et Etrusques', 'Ivoire', 'Ivoires', 'Japon', 'Jeux', 'Jeux et jouets', 'Jouets', \"La chaussure et les accessoires sur les 5 continents et à travers l'histoire (de l'Antiquité au XXIe siècle)\", 'Lapidaire', \"Les Forges du Pays d' Hennebont)\", 'Littérature', 'Littérature : Biographie', 'Machinisme agricole', 'Malacologie', 'Malacologie (Mollusques', 'Mammalogie', 'Mammalogie (Mammifères)', 'Manuscrits', 'Manuscrits (Ouvrages de bibliophilie)', 'Maquette de bâtiment abritant une presse à sardines', 'Maquette de gabarre des marais salants', \"Maquette tactile de marais salant à l'usage des mal-voyants\", 'Maquette technique de marais salant', 'Maquettes', 'Maquettes de bateaux', 'Marseille', \"Matériel archéologique datant d'au moins 6000 ans JC\", 'Minéralogie', 'Minéralogie (minéraux des Vosges)', 'Minéralogie (roches gravées ibères', 'Minéralogie (échantillons de sel)', 'Minéralogique', 'Mobilier', 'Mobilier (Paniers', 'Mobilier (Renaissance)', 'Mobilier (XVIIIe)', 'Mobilier (salon Louis XVI)', 'Moderne', 'Moderne (Industrielle)', 'Montpellier', 'Morbihan)', 'Moulages', 'Musique', 'Musique (en réserve)', 'Musique (instruments', 'Musique : Instruments', 'Musique : Instruments (Carillon)', 'Musique : Instruments (Instruments traditionnels', 'Musique : Instruments (Quelques)', 'Musique : Instruments (extra-europenns)', \"Musique : Instruments (le Violon d'Ingres)\", 'Musique : Instruments (monocorde de Poussot', 'Musique : Instruments (un piano forte)', 'Musique : Instruments (veuze du Rouge de Bréca )', \"Musique : Souvenirs de compositeurs et d'interprètes\", 'Musique : Souvenirs de compositeurs et interprètes', 'Musique : instruments', 'Musée des Douanes)', 'Musée thématique', 'Musée thématique (Construction de la citadelle', 'Musée thématique (sel)', 'Mycologie', 'Mécanique', 'Médiéval', \"Médiéval (Gestion administrative des collections d'archéologie médiévale déposées au musée historique)\", 'Médiéval (moulages des marques de tâcherons de la basilique)', 'Médiéval (mérovingien)', \"Médiévale (éléments d'architecture\", 'Métier et outils', 'Métier et outils HISTOIRE', 'Métiers et Outils', 'Métiers et Outils (cheval)', \"Métiers et Outils (d' un centre sidérurgique : métiers du fer-feu et du bois)\", 'Métiers et Outils (pharmacie)', 'Métiers et outil', 'Métiers et outils', 'Métiers et outils ( artisanat', 'Métiers et outils (artisanat', 'Navigation', 'Navigation (commerce maritime du sel de Guérande)', 'Navigation et Pêche', 'Navigation et pêche', 'Numismatique', 'Numismatique (12 000 pièces)', \"Numismatique (200 pièces d'époque)\", 'Numismatique (quelques monnaies des XIe', \"Objets d'art\", 'Objets d’art', 'Objets liturgiques', 'Océanie', 'Océaniennes', 'Océaniennes (Madagascar et Océan Indien', 'Orfèvrerie', 'Orfèvrerie (Etain', \"Orfèvrerie (Objets d'art)\", 'Orfèvrerie (bijoux)', 'Orfèvrerie (non exposé)', 'Orientales', \"Orientales (statuettes de l'Inde du Sud\", 'Ornithologie', 'Ornithologie (Oiseaux)', 'Ornithologie (Oiseaux) : audiovisuel sur les Oiseaux des Marais salants', 'Ornithologique', 'Ornitologie', 'Ostéologie actuelle', 'Ouvrages de bibliophilie', 'Ouvrages de bibliophilie (livres précieux)', 'Paléo-chrétien', 'Paléo-chrétien (Haut Moyen-Age)', 'Paléo-chrétien (Mérovingien)', 'Paléochrétien', 'Paléolithique', 'Paléontologie', 'Paléontologie (Fossiles)', 'Paléontologie (échantillon-type)', \"Parapluies et ombrelles provenant de l'industrue du parapluie d'Aurillac\", 'Partitions', 'Partitions (Chants de la Résistance)', 'Paysage et environnement', 'Peinture', 'Peinture (du XVIIIe et du XIXe', 'Peinture (notamment du XIXe)', 'Peinture (écoles du nord', 'Peinture (éventails)', 'Peinture française XVIIe-XVIIIe siècles', 'Peintures', 'Philatélie', 'Philatélie (50 (planches comprenant des timbres et des flammes relatifs à des événements commémoratifs)', 'Philippe le Bel', 'Photographie', 'Photographie (3 000 photographies', 'Photographie (Cartes postales)', \"Photographie (Sur l'Afrique notamment\", 'Photographie (cartes postales)', 'Photographie (fonds ancien et iconothèque', \"Photographie (sur l'émail)\", 'Photographies', 'Physique', 'Plans', 'Plans (documentation technique) : plans marais salants', 'Plus de 1300 bois gravés)', 'Pompes à bras', 'Pratiques', 'Pratiques religieuses et collectives', 'Pratiques religieuses et collectives (non exposée)', 'Pratiques religieuses et collectives : Histoire : Histoire locale et régionale', 'Proto-histoire', 'Protohistoire', 'Précolombiennes', 'Préhistoire', 'Préhistoire ETHNOLOGIE', \"Présentées après les travaux d'agrandissement)\", 'Période historique', \"Période historique (Musée de société : histoire du sel de Guérandede l'antiquité à nos jours)\", 'Période historique (première guerre mondiale)', 'Pétrographie', 'SCIENCES DE LA NATURE', 'SCIENCES ET TECHNIQUES', 'Saint-Lazare)', 'Sciences de la nature', 'Sciences de la nature (Architecture des jardins)', 'Sciences de la nature (Collections en réserve)', 'Sciences de la nature (Voir annexe du musée)', \"Sciences de la nature (section créée en 1869 par le don d'Edouard Berthet de son cabinet d'histoire naturelle)\", 'Sciences de la nature (zoologie - aquariologie)', 'Sciences de la nature : Anatomie', 'Sciences de la nature : Botanique', \"Sciences de la nature : Botanique (Herbiers d'E\", 'Sciences de la nature : Entomologie', 'Sciences de la nature : Entomologie (Insectes)', 'Sciences de la nature : Entomologie (papillons exotiques (299)', 'Sciences de la nature : Géologie', 'Sciences de la nature : Géologie (locale', 'Sciences de la nature : Géologie (locale)', 'Sciences de la nature : Herpétologie', 'Sciences de la nature : Herpétologie (Reptiles)', 'Sciences de la nature : Ichtyologie', 'Sciences de la nature : Invertébrés', 'Sciences de la nature : Malacologie', 'Sciences de la nature : Malacologie (coquillages) : objets en coquillages exceptionnels', 'Sciences de la nature : Mammalogie', 'Sciences de la nature : Minéralogie', 'Sciences de la nature : Minéralogie (non exposée)', 'Sciences de la nature : Ornithologie', \"Sciences de la nature : Ornithologie (collection d'insectes du révérend Yves Barbotin)\", 'Sciences de la nature : Paléontologie', 'Sciences de la nature : Préhistoire', 'Sciences de la nature : botanique', 'Sciences de la nature : géologie', 'Sciences de la nature\\xa0: paléotologie', 'Sciences et Techniques', 'Sciences et technique : batellerie', 'Sciences et techniques', 'Sciences et techniques (Agraire', 'Sciences et techniques (Cartonnage et imprimerie)', 'Sciences et techniques (Ecomusée de la Cerise', 'Sciences et techniques (Fabrication artisanale ou industrielle de cloches)', 'Sciences et techniques (Imagerie populaire)', 'Sciences et techniques (Impression sur tissu)', 'Sciences et techniques (Industrie minière', 'Sciences et techniques (Industrie textile)', 'Sciences et techniques (Instrument de cartographie de Cassini)', 'Sciences et techniques (Technique de distillation)', 'Sciences et techniques (agriculture)', 'Sciences et techniques (brasserie et malterie)', 'Sciences et techniques (charpente', 'Sciences et techniques (ensemble d’armes du XVIIe au XIXe siècle)', 'Sciences et techniques (hydraulique)', 'Sciences et techniques (jouets optiques)', 'Sciences et techniques (microtechniques - horlogerie)', \"Sciences et techniques (mécanismes d'un moulin à eau pour la fabrication de farine)\", 'Sciences et techniques (réfectoire orné de toiles peintes', \"Sciences et techniques (sciences de l'homme\", \"Sciences et techniques (techniques d'impression des images populaires)\", 'Sciences et techniques :', 'Sciences et techniques : Agro-alimentaire', 'Sciences et techniques : Agro-alimentaire (Histoire des techniques vini-viticultures en Alsace)', 'Sciences et techniques : Agro-alimentaire (conservation par le sel et sel condiment)', 'Sciences et techniques : Agro-alimentaire (sucre de canne)', 'Sciences et techniques : Agro-alimentaire : Ethnologie : Métiers et outils', 'Sciences et techniques : Aéronautique', 'Sciences et techniques : Communication', 'Sciences et techniques : Communication (3 postes TSF', 'Sciences et techniques : Industrie', 'Sciences et techniques : Industrie (Cordrie', 'Sciences et techniques : Industrie (Mines et textile)', 'Sciences et techniques : Industrie (Sidérurgie)', 'Sciences et techniques : Industrie (automates)', \"Sciences et techniques : Industrie (industries de l'armement)\", 'Sciences et techniques : Industrie (le musée repose sur une ancienne manufacture de poteries de grès et de terres vernissées', 'Sciences et techniques : Industrie (mine)', 'Sciences et techniques : Industrie (objets concernant la raffinerie de sucre et la vinaigrerie)', 'Sciences et techniques : Industrie (porcelaine', 'Sciences et techniques : Industrie (porcelainière)', 'Sciences et techniques : Industrie (textile)', 'Sciences et techniques : Industrie (verre)', 'Sciences et techniques : Industrie minière', 'Sciences et techniques : Mines', 'Sciences et techniques : Navigation et Pêche', 'Sciences et techniques : Navigation et Pêche (instruments de navigation)', 'Sciences et techniques : Navigation et Pêche (lacustre)', 'Sciences et techniques : Navigation et Pêche (maquettes de bateaux)', 'Sciences et techniques : Navigation et Pêche (maquettes)', 'Sciences et techniques : Océaniennes', 'Sciences et techniques : Sciences médicales', 'Sciences et techniques : Sciences médicales (Pharmacie)', 'Sciences et techniques : Sciences médicales (Pots de pharmacie du XVIIIe et XIXe siècles)', 'Sciences et techniques : Sciences médicales (pharmacie)', 'Sciences et techniques : Sciences médicales (pots de pharmacie)', 'Sciences et techniques : Transports terrestres', 'Sciences et techniques : agro-alimentaire', 'Sciences et techniques : charpenterie', 'Sciences et techniques : océanographie', 'Sciences fondamentales', 'Sciences fondamentales : Astronomie', 'Sciences fondamentales : Astronomie (2 globes de Corenelli', 'Sciences fondamentales : Chimie', 'Sciences fondamentales : Chimie (pharmacopée guyanaise)', 'Sciences fondamentales : Physique', 'Sciences médicales', 'Sciences médicales (Dentisterie)', \"Sciences médicales (trousse de trépanation dite d'Ambroise Paré)\", 'Sciences naturelles : Botanique', 'Sculpture', 'Sculpture (Sculpture religieuse)', 'Sculpture (bronzes)', 'Sculpture (en bois du XVe)', 'Sculpture (en bois)', 'Sculpture (sculptures lorraines du XIIe au XVIe siècles)', 'Sculptures XVIe-XIXe siècles)', 'Sculptures lapidaires du XIIIe siècle)', 'Sculptures)', 'Scupture', 'Sibérie', 'Sigillographie', 'Sigillographie (Sceaux des Rois de France : saint Louis', \"Souvenirs de compositeurs et d'interprètes (Gustave Clétiez\", 'Souvenirs de compositeurs et interprètes', 'Sport', 'Statuaire du XIVe au XVIIe siècles)', 'Strasbourg)', 'Technique et industrie : imprimerie', 'Techniques portuaires', 'Temps sociaux', 'Textile', 'Textile (ivoires', 'Textiles', \"Textiles (10 tapisseries d'Aubusson de la fin du XVIe siècle)\", 'Textiles (Dentelle)', 'Textiles (Tapisserie)', 'Textiles (Tapisseries)', 'Textiles (costume', 'Textiles (costumes', 'Textiles (dentelles)', 'Textiles (drap d’Elbeuf)', 'Textiles (tapisseries Flandres', 'Textiles (tapisseries)', 'Textiles (tapsseries)', 'Thèmes non renseignés', 'Théâtre et Opéra', 'Transports terrestres', 'Transports terrestres (route et troque du sel', 'Transports terrestres (trains)', 'Uniformes', 'Urbanisme\\xa0(gravures et plans d’origine de la ville de Sainte-Ménehould)', 'Verre', 'Verrerie', 'Verrerie (Art nouveau et art déco des frères Mullet', \"Verrerie (objets d'art très divers)\", 'Verrerie antique', 'Vie quotidienne', \"Vierge romane à l'enfant\", 'Véhicules', 'Véhicules pompiers', 'XIIe', 'XIXe siècles)', 'XV et XVIe s', 'XVIIIe', 'XVIIIe)', 'XVIe et XVIIe', 'africaines', 'alaskiennes', 'algues', 'aménagement de St Quentin-en-Yvelines)', 'ancienne et contemporaine)', 'animaux domestiques)', 'architecture balnéaire', 'architecture et urbanisme', 'archives', 'archives papier', 'argent)', 'art chrétien', 'art chrétien occidental XVIe-XXe siècle)', \"art d'avant-garde)\", 'art juif)', 'art médiéval)', 'artillerie', 'arts décoratifs)', 'autels votifs', 'biographie (réalisations sociales et industrielles de JBA Godin)', 'bois et pierre du XIIIe au XIXe siècles)', 'bombarde', 'bonnets du XIXe siècle)', 'brassards', 'bronzes archaïque chinois)', 'bronzes)', 'béniters', 'campagne de France en 1814)', 'captivité de Marie-Caroline)', 'casque', 'casques', 'champigons', \"chapelles de l'Aumône)\", 'chapiteaux)', 'charpente', 'chasubles', 'chemin de fer)', 'cinémas)', 'cires de deuil)', 'cirques', 'civilisations extra-européennes\\xa0: océaniennes', 'classée M', 'classée MH)', 'classée Monument Historique', 'coiffes', 'collection de Christ)', 'collections militaires : armes', 'commerce maritime', 'confection', 'construction navale', 'constructions de la guerre de 14-18', 'containers', 'contemporaine)', 'coquillages)', 'croix', 'crustacés)', 'crypte', \"culture de l'olive\", 'céramique', 'céramique (faïences de la manufacture du Bois d’Epense', 'céramiques', 'céramiques chinoises et japonaises', 'dalles funéraires', 'de Belgique)', \"de l'église Notre-Dame d'Autun)\", \"de l'époque romaine à l'ère industrielle\", 'de la Chaîne du Mont-Blanc', 'de ses glaciers)', 'dentelle', 'dentelle)', 'des Pays-Bas', \"devant d'autel)\", 'diapothèque sur le marais salant : environ 10 000 clichés)', \"différentes races d'animaux\", 'distillation', 'dite des Islettes)', 'divers objets rares)', \"dont l'Imagerie d'Epinal)\", 'drapeaux', 'du Japon', 'du Maghreb)', 'dyptique de Rabastens)', 'découvertes lors des fouilles de l’ancien monastère de Saint-Claude)', 'd’Egypte', 'd’Espagne', 'd’Italie', 'environ 70 objets en étain', 'espagnole', 'essentiellement 19e siècle', 'estampe et affiche', 'estampes (cartes à jouer', 'et chansons de traditions populaires)', 'etc', 'etc)', 'ex-voto', 'ex-voto et des petites reliques)', 'exemple du XIXe siècle avec ses collections \"Maison Mantin\")', 'faience', 'fanions', \"fonds anciens d'imprimés\", 'fourneau De Dietrich)', 'française', 'frontière', 'fusils', 'gallo-romain', 'grecques et romaines', 'grès', 'géographie urbaine', 'habitat', 'histoire des idées', 'histoire industrielle et urbaine', 'images de la légende napoléonienne', 'images de propagande', 'images historiques et politiques)', 'incunables', 'incunables (Bible du XIIIe siècle)', 'incunables (Une dizaine de manuscrits)', 'incunables (XXe siècle)', 'incunables (chartes du XIIIe siècle)', 'industrie du balai)', 'informatique', 'instruments de musique', 'italienne', 'jardins du Moulin Joly', 'jetons', \"jusqu'en 1789)\", 'les Routes du Bouddhisme)', 'les ingénieurs', 'les ouvriers', 'lichens', 'logotype', 'machines et instruments)', 'machines)', 'machinisme agricole', 'malacologie)', 'manuscrits', 'maquettes', 'maquettes (villes nouvelles de la région parisienne', 'maquettes : reconstitution de la ville de Saint-Claude au début du XVIIIe siècle dans l’esprit des plans-reliefs des XVIII e et XIXe siècles)', 'maquettes des monuments et équipements de la ville romaine Cemenelum)', 'maquettes)', 'maquettes) : Habitats reconstitués', 'matériel datant de 6000 ans avant J', 'maçonnerie', 'mine de charbon)', 'ministre des Affaires Etrangères pendant la Commune)', 'minéralogie', 'mobilier', \"mobilier d'église des 17 et 18e siècles)\", 'mobilier et objets de jeux', 'mobilier signé', 'mobiliers de tombe des Haut et Bas empires)', 'mobilier…', 'moderne Arts décoratifs : Mobilier', 'moderne et contemporaine', 'moderne et contemporaine)', 'modernes', 'modèles de bateaux', 'monnaies', 'montres et coqs de montre)', 'mosaïque)', 'moto-pompe)', 'moulin à huile', 'mouvement Support-Surface)', 'moyen Age', 'music halls', 'médiéval', 'mérovingien)', 'métier et outils', 'métiers et outils', 'nombreux tableaux de saints', 'numismatique', \"objets d'Art\", \"objets d'art\", 'objets de culte)', 'objets de la vie quotidienne', 'objets en coquillages (artisanat début 19e)', 'objets judaïques de la vie quotidienne)', 'objets liturgiques XVIe-XVIIIe siècle)', 'objets personnels du Colonel Denfert-Rochereau', 'objets usuels', 'orfrois', 'orfèvrerie)', \"ornements d'autels\", 'paléo-chrétien', 'paléontologie', 'parachutes', 'paramentique', 'patrons)', 'paysage landais)', 'peinture', 'peintures', 'peintures XVe-XVIIIe siècle', \"peintures provenant d'églises et de chapelles\", 'peintures sur cuivre)', 'photographie', \"photographies d'art)\", 'piano forte du XXe siècle)', \"pièces d'orfèvrerie\", 'plans et maquettes)', 'plombs', \"portraits d'hommes célèbres)\", 'poteries du Val de Saône', 'première et deuxième guerres mondiales)', \"presse de l'époque)\", 'principalement du XVIII et XIXe', 'production', 'produite dans les centres imagiers français et étrangers', 'protohistoire', \"provenant de l'ancien Hôtel-Dieu de Dourdan\", \"provenant de l'église paroissiale\", 'préhistoire)', 'présence des anciens fours à flamme renversée)', 'puniques trouvées en France ou provenant de fouilles maritimes)', 'quelques statues : Christ', 'religieuses', 'reliquaires', 'rotohistoire', 'sabre', 'sculpture', 'sculptures', 'sculptures du XIIe siècle)', 'sculptures médiévales', 'sculptures sur bois', 'sculptures)', 'sidérurgie', 'statuaire', 'statuaire)', 'statues', 'stèles et monnaies de bronze', 'sépultures', 'tableaux', 'tableaux)', 'tampons (matériel de presse clandestine)', 'tapisserie', 'tarots)', 'techniques du bâtiment', 'tentures de cuirs peints du XVIIIe siècle)', 'textile', 'textile)', 'textiles (costumes de Derain)', 'théâtre)', 'théâtres', 'transformation', 'un terrestre et un céleste)', 'une maie et un berceau)', 'uniformes', 'vaisselle liturgique)', 'verre', 'verrerie', 'vie domestique et rurale de montagne', 'vie quotidienne', 'vitrail', 'vitrail)', 'vitraux', 'vitraux du XIIIe et XIVe siècles', 'vitraux)', 'école de Metz)', 'électricité', 'élevage', 'émaux', 'émaux du XVIIe siècle)', 'émaux limousins', 'étain', 'étrusques', 'étuis']\n"
     ]
    }
   ],
   "source": [
    "print(np.unique(list_themes).tolist())"
   ]
  },
  {
   "cell_type": "markdown",
   "metadata": {},
   "source": [
    "## Joining the frequentation DataFrame and the Museofile DataBase:"
   ]
  },
  {
   "cell_type": "markdown",
   "metadata": {},
   "source": [
    "- Conditionnement avec TFIDF"
   ]
  },
  {
   "cell_type": "code",
   "execution_count": 89,
   "metadata": {},
   "outputs": [],
   "source": [
    "from sklearn.feature_extraction.text import TfidfVectorizer\n",
    "from sklearn.metrics.pairwise import linear_kernel\n",
    "from sklearn.metrics.pairwise import cosine_similarity"
   ]
  },
  {
   "cell_type": "code",
   "execution_count": 90,
   "metadata": {},
   "outputs": [],
   "source": [
    "#Initialization TF-IDF : \n",
    "tfidf = TfidfVectorizer(sublinear_tf=True, min_df=0, norm='l2', encoding='latin-1', ngram_range=(1,1))\n",
    "#Defining the features needed :\n",
    "tfidf_matrix_freq = tfidf.fit_transform(df_freq_travail['NOM DU MUSEE']).toarray()"
   ]
  },
  {
   "cell_type": "code",
   "execution_count": 91,
   "metadata": {},
   "outputs": [],
   "source": [
    "#Function to transform each 'Nom_officiel' in the df_geo_museofile:\n",
    "def transform_query(tfidf, query):\n",
    "    \"\"\"\n",
    "    Function transform_query, which takes the tfidf model and a query, to preprocess it and transform it in a usable form\n",
    "    @Inputs: \n",
    "    tfidf, the tfidf model, fit on the entire corpus\n",
    "    array_embedding_vocab_vector\n",
    "    query, the given str query \n",
    "    \n",
    "    @Outputs: \n",
    "    embedding_tfidf_query, the transformed query, after cleaning, preprocessing, lemmatization and tfidf transformation    \n",
    "    \"\"\"\n",
    "    tfidf_query = tfidf.transform([query]).toarray()\n",
    "    return tfidf_query"
   ]
  },
  {
   "cell_type": "code",
   "execution_count": 92,
   "metadata": {},
   "outputs": [],
   "source": [
    "#Function to find the most similar from the tfidf_matrix:\n",
    "def find_similar_from_query(tfidf_matrix, tfidf_query, top_n=1):\n",
    "    \"\"\"\n",
    "    Function find_documents_from_query, which computes the top_n most relevent articles given the tfidf representation\n",
    "    of the query\n",
    "    \n",
    "    @Inputs:\n",
    "    - tfidf_matrix, the tfidf matrix representation of the entire set of articles\n",
    "    - tfidf_query, the tfidf vector representation of the query\n",
    "    - top_n = 5, the number of documents to find\n",
    "    @Outputs: \n",
    "    indexes_scores, the index of each top_n article in the DataFrame, and the associated cosine_similarity score\n",
    "    \"\"\"\n",
    "    #We calculate the cosine similarity between the query and each document:\n",
    "    #cosine_similarities = linear_kernel(embedding_tfidf_query, embedding_tfidf_matrix).flatten()\n",
    "    \n",
    "    cosine_similarities = cosine_similarity(tfidf_query,tfidf_matrix).flatten()\n",
    "    #We sort the documents from the similarit to the query :\n",
    "    related_docs_indices = [i for i in cosine_similarities.argsort()[::-1]]\n",
    "    #We retrieve the top n documents most similar to the given query :\n",
    "    indexes_scores = [(index, cosine_similarities[index]) for index in related_docs_indices][0:top_n]\n",
    "    return indexes_scores"
   ]
  },
  {
   "cell_type": "markdown",
   "metadata": {},
   "source": [
    "Final function:"
   ]
  },
  {
   "cell_type": "code",
   "execution_count": 93,
   "metadata": {},
   "outputs": [],
   "source": [
    "def final_find(tfidf, query, tfidf_matrix_freq, df,top_n=1):\n",
    "    tfidf_query=transform_query(tfidf, query)\n",
    "    indexes_scores=find_similar_from_query(tfidf_matrix_freq, tfidf_query, top_n=top_n)\n",
    "    for index, score in indexes_scores:\n",
    "        print(index)\n",
    "        print(df.iloc[index], ' score : ', score)\n",
    "    return None"
   ]
  },
  {
   "cell_type": "markdown",
   "metadata": {},
   "source": [
    "#### TESTING WITH TFIDF:"
   ]
  },
  {
   "cell_type": "code",
   "execution_count": null,
   "metadata": {},
   "outputs": [],
   "source": []
  },
  {
   "cell_type": "code",
   "execution_count": null,
   "metadata": {},
   "outputs": [],
   "source": []
  },
  {
   "cell_type": "code",
   "execution_count": null,
   "metadata": {},
   "outputs": [],
   "source": []
  },
  {
   "cell_type": "markdown",
   "metadata": {},
   "source": [
    "### Puting the model in production:"
   ]
  },
  {
   "cell_type": "markdown",
   "metadata": {},
   "source": [
    "#### Conclusion:"
   ]
  },
  {
   "cell_type": "markdown",
   "metadata": {},
   "source": [
    "Au départ : 450 sur les 1114\n",
    "Inlusion: 289\n",
    "\n",
    "Seulement le nom : 92\n",
    "TFIDF avec nom + ville : 26\n",
    "\n",
    "**Vérifier la bonne correspondance**\n",
    "\n",
    "\n",
    "**Vérifier s'il y a vraiment des réponses pour les 26 manquants.**"
   ]
  },
  {
   "cell_type": "markdown",
   "metadata": {},
   "source": [
    "## Visualisation :"
   ]
  },
  {
   "cell_type": "markdown",
   "metadata": {},
   "source": [
    "Tile Providers : https://docs.bokeh.org/en/latest/docs/reference/tile_providers.html\n",
    "\n",
    "Doc : https://towardsdatascience.com/exploring-and-visualizing-chicago-transit-data-using-pandas-and-bokeh-part-ii-intro-to-bokeh-5dca6c5ced10"
   ]
  },
  {
   "cell_type": "code",
   "execution_count": 123,
   "metadata": {},
   "outputs": [],
   "source": [
    "#Necessary imports:\n",
    "from bokeh.plotting import figure, show, output_notebook, output_file, save\n",
    "from bokeh.tile_providers import get_provider, Vendors\n",
    "from bokeh.models import ColumnDataSource, HoverTool, TapTool, OpenURL, Row, Panel, Tabs, Div, Select, Column\n",
    "#Defining the background of the map:\n",
    "WIKIMEDIA=get_provider(Vendors.WIKIMEDIA)"
   ]
  },
  {
   "cell_type": "markdown",
   "metadata": {},
   "source": [
    "Defining the Bokeh app: "
   ]
  },
  {
   "cell_type": "code",
   "execution_count": 133,
   "metadata": {},
   "outputs": [],
   "source": [
    "def musees_de_france_dashboard(doc):\n",
    "    #Defining the source : \n",
    "    source = ColumnDataSource(data=df_geo_museofile)\n",
    "    source_joconde=ColumnDataSource(data=df_joconde_reduced)\n",
    "\n",
    "    #Defining the figure:\n",
    "    #Well defined x and y range to plot the entire France first\n",
    "    p = figure(tools=[\"tap\", \"pan\",\"wheel_zoom\",\"box_zoom\",\"reset\"],x_range=(-2367503.9683695645,5681514.597630888), y_range=(-8775845.636028906,7449981.363790932),\n",
    "              x_axis_type=\"mercator\", y_axis_type=\"mercator\",\n",
    "              title='Musées de France - Base Museofile')\n",
    "\n",
    "    #Defining the mapping background:\n",
    "    p.add_tile(WIKIMEDIA)\n",
    "\n",
    "    #Adding circles for each museum : \n",
    "    Circles=p.circle('merc_x','merc_y',source=source,size=10,line_color=\"#3288bd\", fill_color=\"white\", line_width=3)\n",
    "\n",
    "    \n",
    "    \n",
    "    #Selecting the musuems to show : \n",
    "    #By the region : \n",
    "    region_selection=Select(title=\"Trier par région\", \n",
    "                            options = list(np.unique(source.data['Région'])))\n",
    "    #By the departement:\n",
    "    departement_selection=Select(title=\"Filtrer par département\", \n",
    "                                options = list(np.unique(source.data['Département'])))\n",
    "    #By the theme of the musuem:\n",
    "    theme_selection=Select(title=\"Trier par thème\", \n",
    "                          options = list(['Sculpture', 'Peinture']))\n",
    "    \n",
    "    \n",
    "    \n",
    "    \n",
    "    #Defining the information div about the museum selected\n",
    "    div_info_museum=Div(text=\"\"\"<h5>Informations sur les musées selectionnés</h5><br/>Veuillez cliquer sur un point \n",
    "    représentant un musées pour obtenir des informations sur celui-ci.\"\"\", \n",
    "        style={'overflow-y':'scroll', 'height':'300px', 'width':'500px','max-height':'600px', 'max-width':'400px'})\n",
    "    \n",
    "    \n",
    "    \n",
    "    #Defining the works of art div about the museum selected\n",
    "    div_woa=Div(text=\"\"\"<h5>Oeuvres d'art présentes dans ce musée: </h5>\"\"\", \n",
    "        style={'overflow-y':'scroll', 'height':'300px', 'width':'500px','max-height':'600px', 'max-width':'400px'})\n",
    "    \n",
    "    \n",
    "    \n",
    "    \n",
    "    \n",
    "    \n",
    "    \n",
    "    \n",
    "    \n",
    "    \n",
    "    \n",
    "    \n",
    "    \n",
    "    \n",
    "    \n",
    "    #Defining the update of the div:\n",
    "    def update_div_info_museum():\n",
    "        indexes=source.selected.indices\n",
    "        #We only take the first one : \n",
    "        index=indexes[0]\n",
    "        name=source.data['Nom_officiel'][index]\n",
    "        lien=source.data['URL'][index]\n",
    "        ville=source.data['Ville'][index]\n",
    "        Département=source.data['Département'][index]\n",
    "        Région=source.data['Région'][index]\n",
    "        phone=source.data['Téléphone'][index]\n",
    "        adresse=source.data['Adresse'][index]\n",
    "        code_postal=source.data['Code Postal'][index]\n",
    "        themes=source.data['Thèmes'][index]\n",
    "        adresse_complete=adresse+\" \"+str(code_postal)+\" \"+ville\n",
    "        #Use .format ????\n",
    "        h=\"\"\"<h5>Informations sur les musées selectionnés</h5> <br/><h6>Nom du musée : </h6>\n",
    "        \n",
    "        <a href='\"\"\"+lien+\"\"\"' target=\"_blank\">\"\"\"+name+\"\"\"</a> <br/>\n",
    "        \n",
    "        <h6>Thèmes:</h6>\"\"\"+themes+\"\"\"\n",
    "        \n",
    "        <h6> Ville du musée : </h6> \"\"\"+ville+\"\"\" (\"\"\" + Département + \"\"\" - \"\"\"+Région+\"\"\")<br/>\n",
    "        \n",
    "        <h6>Téléphone : </h6>\"\"\"+phone+\"\"\"<h6>Adresse du musée : </h6>\"\"\"+adresse_complete\n",
    "        div_info_museum.text=h\n",
    "\n",
    "        \n",
    "        \n",
    "    def update_div_woa():\n",
    "        indexes=source.selected.indices\n",
    "        #We only take the first one : \n",
    "        index=indexes[0]\n",
    "        #We look for the Museofile Id: \n",
    "        museofile_id=source.data['Identifiant'][index]\n",
    "        #We define the basic print : \n",
    "        h=\"\"\"<h5>Oeuvres d'art présentes dans ce musée: </h5>\"\"\"\n",
    "        #We make separate answers wether or not the Museofile Id is present in the Joconde Database:\n",
    "    \n",
    "        if museofile_id in source_joconde.data['Identifiant Museofile']:\n",
    "            h+=source_joconde.data['Titre'][source_joconde.data['Identifiant Museofile']==museofile_id][0]\n",
    "        else:\n",
    "            h+=\"\"\"Aucune oeuvre trouvée dans la base Joconde\"\"\"\n",
    "        div_woa.text=h\n",
    "            \n",
    "        \n",
    "        \n",
    "        \n",
    "    def callback_info_woa(attr,old,new):\n",
    "        update_div_info_museum()\n",
    "        update_div_woa()\n",
    "        \n",
    "        \n",
    "        \n",
    "        \n",
    "        \n",
    "        \n",
    "        \n",
    "        \n",
    "        \n",
    "    #Defining Hover tools :\n",
    "    tooltips_museofile = [(\"Nom officiel\", \"@Nom_officiel\"),(\"url\", \"@URL\"),(\"id\", \"@index\")]\n",
    "    #Defining the two hovers, with the corresponding names and tooltips:\n",
    "    hover_museofile=HoverTool(tooltips=tooltips_museofile)\n",
    "    p.add_tools(hover_museofile)\n",
    "\n",
    "\n",
    "    #Defining the way the taptool should be executed:\n",
    "    source.selected.on_change('indices', callback_info_woa)\n",
    "    \n",
    "    \n",
    "    \n",
    "    #Defining the layout of the first tab:\n",
    "    \"\"\"\n",
    "    layout_left=Column(task_selection,query_selection,number_articles, number_sentences,div_html_response)\n",
    "    \n",
    "    #We have the right part with the PCA representation and the clustering.\n",
    "    year_layout=Row(Column(checkbox_year,slider_year),validate_button_year)\n",
    "    layout_right=Column(year_layout, p)\n",
    "    #We define the entire layout:\n",
    "    \"\"\"\n",
    "    selection_layout=Column(region_selection, departement_selection, theme_selection)\n",
    "    info_layout=Column(div_info_museum,div_woa)\n",
    "    entire_layout1=Row(selection_layout,p,info_layout)    \n",
    "    \n",
    "    \n",
    "    \n",
    "    \n",
    "    \n",
    "    \n",
    "    \n",
    "    \n",
    "    \n",
    "    \n",
    "    ########################TAB 2 #######################\n",
    "    div_a_propos=Div(text=\"\"\"<h1>Section à propos de cette application</h1> \n",
    "    <br/><h3>Source des données : </h3> \n",
    "    Toutes les données utilisées ici sont disponible en opendata et mises à disposition \n",
    "    par le ministère de la culture. \n",
    "    <br/> Voici les liens: \n",
    "    <li> <a href=\"https://data.culture.gouv.fr/explore/dataset/musees-de-france-base-museofile/information/\" target=\"_blank\"> Base Museofile</a> </li>\n",
    "    <li> <a href=\"https://data.culture.gouv.fr/explore/dataset/base-joconde-extrait/information/\" target=\"_blank\"> Base Joconde </a></li>\n",
    "    Date de mise à jour des données: 19/05/2020 \n",
    "    <br/><br/> Adrien Hans\n",
    "    <li><a href=\"https://www.linkedin.com/in/adrien-hans/\" target=\"_blank\">LinkedIn</a></li>\n",
    "    <li><a href=\"https://github.com/adrihans\" target=\"_blank\">Github</a></li>\n",
    "    <br/> Le code de ce projet peut être trouvé sur ce <a href=\"https://github.com/adrihans/musees_de_france_app\" target=\"_blank\">repo.</a>\n",
    "    \"\"\")\n",
    "    entire_layout2=Row(div_a_propos)\n",
    "    \n",
    "    \n",
    "    ########################  Defining the tabs ##############\n",
    "    tab1 = Panel(child=entire_layout1, title=\"Cartographie des musées de France\")\n",
    "    tab2 = Panel(child=entire_layout2, title=\"A propos\")\n",
    "    \n",
    "    #Defining all the tabs:\n",
    "    tabs = Tabs(tabs=[tab1, tab2])\n",
    "    doc.add_root(tabs)\n",
    "    \n",
    "    \n",
    "    return doc"
   ]
  },
  {
   "cell_type": "code",
   "execution_count": 44,
   "metadata": {},
   "outputs": [],
   "source": [
    "output_file(\"test2.html\", mode='inline')"
   ]
  },
  {
   "cell_type": "code",
   "execution_count": 52,
   "metadata": {},
   "outputs": [
    {
     "data": {
      "text/html": [
       "\n",
       "    <div class=\"bk-root\">\n",
       "        <a href=\"https://bokeh.org\" target=\"_blank\" class=\"bk-logo bk-logo-small bk-logo-notebook\"></a>\n",
       "        <span id=\"1002\">Loading BokehJS ...</span>\n",
       "    </div>"
      ]
     },
     "metadata": {},
     "output_type": "display_data"
    },
    {
     "data": {
      "application/javascript": [
       "\n",
       "(function(root) {\n",
       "  function now() {\n",
       "    return new Date();\n",
       "  }\n",
       "\n",
       "  var force = true;\n",
       "\n",
       "  if (typeof root._bokeh_onload_callbacks === \"undefined\" || force === true) {\n",
       "    root._bokeh_onload_callbacks = [];\n",
       "    root._bokeh_is_loading = undefined;\n",
       "  }\n",
       "\n",
       "  var JS_MIME_TYPE = 'application/javascript';\n",
       "  var HTML_MIME_TYPE = 'text/html';\n",
       "  var EXEC_MIME_TYPE = 'application/vnd.bokehjs_exec.v0+json';\n",
       "  var CLASS_NAME = 'output_bokeh rendered_html';\n",
       "\n",
       "  /**\n",
       "   * Render data to the DOM node\n",
       "   */\n",
       "  function render(props, node) {\n",
       "    var script = document.createElement(\"script\");\n",
       "    node.appendChild(script);\n",
       "  }\n",
       "\n",
       "  /**\n",
       "   * Handle when an output is cleared or removed\n",
       "   */\n",
       "  function handleClearOutput(event, handle) {\n",
       "    var cell = handle.cell;\n",
       "\n",
       "    var id = cell.output_area._bokeh_element_id;\n",
       "    var server_id = cell.output_area._bokeh_server_id;\n",
       "    // Clean up Bokeh references\n",
       "    if (id != null && id in Bokeh.index) {\n",
       "      Bokeh.index[id].model.document.clear();\n",
       "      delete Bokeh.index[id];\n",
       "    }\n",
       "\n",
       "    if (server_id !== undefined) {\n",
       "      // Clean up Bokeh references\n",
       "      var cmd = \"from bokeh.io.state import curstate; print(curstate().uuid_to_server['\" + server_id + \"'].get_sessions()[0].document.roots[0]._id)\";\n",
       "      cell.notebook.kernel.execute(cmd, {\n",
       "        iopub: {\n",
       "          output: function(msg) {\n",
       "            var id = msg.content.text.trim();\n",
       "            if (id in Bokeh.index) {\n",
       "              Bokeh.index[id].model.document.clear();\n",
       "              delete Bokeh.index[id];\n",
       "            }\n",
       "          }\n",
       "        }\n",
       "      });\n",
       "      // Destroy server and session\n",
       "      var cmd = \"import bokeh.io.notebook as ion; ion.destroy_server('\" + server_id + \"')\";\n",
       "      cell.notebook.kernel.execute(cmd);\n",
       "    }\n",
       "  }\n",
       "\n",
       "  /**\n",
       "   * Handle when a new output is added\n",
       "   */\n",
       "  function handleAddOutput(event, handle) {\n",
       "    var output_area = handle.output_area;\n",
       "    var output = handle.output;\n",
       "\n",
       "    // limit handleAddOutput to display_data with EXEC_MIME_TYPE content only\n",
       "    if ((output.output_type != \"display_data\") || (!output.data.hasOwnProperty(EXEC_MIME_TYPE))) {\n",
       "      return\n",
       "    }\n",
       "\n",
       "    var toinsert = output_area.element.find(\".\" + CLASS_NAME.split(' ')[0]);\n",
       "\n",
       "    if (output.metadata[EXEC_MIME_TYPE][\"id\"] !== undefined) {\n",
       "      toinsert[toinsert.length - 1].firstChild.textContent = output.data[JS_MIME_TYPE];\n",
       "      // store reference to embed id on output_area\n",
       "      output_area._bokeh_element_id = output.metadata[EXEC_MIME_TYPE][\"id\"];\n",
       "    }\n",
       "    if (output.metadata[EXEC_MIME_TYPE][\"server_id\"] !== undefined) {\n",
       "      var bk_div = document.createElement(\"div\");\n",
       "      bk_div.innerHTML = output.data[HTML_MIME_TYPE];\n",
       "      var script_attrs = bk_div.children[0].attributes;\n",
       "      for (var i = 0; i < script_attrs.length; i++) {\n",
       "        toinsert[toinsert.length - 1].firstChild.setAttribute(script_attrs[i].name, script_attrs[i].value);\n",
       "        toinsert[toinsert.length - 1].firstChild.textContent = bk_div.children[0].textContent\n",
       "      }\n",
       "      // store reference to server id on output_area\n",
       "      output_area._bokeh_server_id = output.metadata[EXEC_MIME_TYPE][\"server_id\"];\n",
       "    }\n",
       "  }\n",
       "\n",
       "  function register_renderer(events, OutputArea) {\n",
       "\n",
       "    function append_mime(data, metadata, element) {\n",
       "      // create a DOM node to render to\n",
       "      var toinsert = this.create_output_subarea(\n",
       "        metadata,\n",
       "        CLASS_NAME,\n",
       "        EXEC_MIME_TYPE\n",
       "      );\n",
       "      this.keyboard_manager.register_events(toinsert);\n",
       "      // Render to node\n",
       "      var props = {data: data, metadata: metadata[EXEC_MIME_TYPE]};\n",
       "      render(props, toinsert[toinsert.length - 1]);\n",
       "      element.append(toinsert);\n",
       "      return toinsert\n",
       "    }\n",
       "\n",
       "    /* Handle when an output is cleared or removed */\n",
       "    events.on('clear_output.CodeCell', handleClearOutput);\n",
       "    events.on('delete.Cell', handleClearOutput);\n",
       "\n",
       "    /* Handle when a new output is added */\n",
       "    events.on('output_added.OutputArea', handleAddOutput);\n",
       "\n",
       "    /**\n",
       "     * Register the mime type and append_mime function with output_area\n",
       "     */\n",
       "    OutputArea.prototype.register_mime_type(EXEC_MIME_TYPE, append_mime, {\n",
       "      /* Is output safe? */\n",
       "      safe: true,\n",
       "      /* Index of renderer in `output_area.display_order` */\n",
       "      index: 0\n",
       "    });\n",
       "  }\n",
       "\n",
       "  // register the mime type if in Jupyter Notebook environment and previously unregistered\n",
       "  if (root.Jupyter !== undefined) {\n",
       "    var events = require('base/js/events');\n",
       "    var OutputArea = require('notebook/js/outputarea').OutputArea;\n",
       "\n",
       "    if (OutputArea.prototype.mime_types().indexOf(EXEC_MIME_TYPE) == -1) {\n",
       "      register_renderer(events, OutputArea);\n",
       "    }\n",
       "  }\n",
       "\n",
       "  \n",
       "  if (typeof (root._bokeh_timeout) === \"undefined\" || force === true) {\n",
       "    root._bokeh_timeout = Date.now() + 5000;\n",
       "    root._bokeh_failed_load = false;\n",
       "  }\n",
       "\n",
       "  var NB_LOAD_WARNING = {'data': {'text/html':\n",
       "     \"<div style='background-color: #fdd'>\\n\"+\n",
       "     \"<p>\\n\"+\n",
       "     \"BokehJS does not appear to have successfully loaded. If loading BokehJS from CDN, this \\n\"+\n",
       "     \"may be due to a slow or bad network connection. Possible fixes:\\n\"+\n",
       "     \"</p>\\n\"+\n",
       "     \"<ul>\\n\"+\n",
       "     \"<li>re-rerun `output_notebook()` to attempt to load from CDN again, or</li>\\n\"+\n",
       "     \"<li>use INLINE resources instead, as so:</li>\\n\"+\n",
       "     \"</ul>\\n\"+\n",
       "     \"<code>\\n\"+\n",
       "     \"from bokeh.resources import INLINE\\n\"+\n",
       "     \"output_notebook(resources=INLINE)\\n\"+\n",
       "     \"</code>\\n\"+\n",
       "     \"</div>\"}};\n",
       "\n",
       "  function display_loaded() {\n",
       "    var el = document.getElementById(\"1002\");\n",
       "    if (el != null) {\n",
       "      el.textContent = \"BokehJS is loading...\";\n",
       "    }\n",
       "    if (root.Bokeh !== undefined) {\n",
       "      if (el != null) {\n",
       "        el.textContent = \"BokehJS \" + root.Bokeh.version + \" successfully loaded.\";\n",
       "      }\n",
       "    } else if (Date.now() < root._bokeh_timeout) {\n",
       "      setTimeout(display_loaded, 100)\n",
       "    }\n",
       "  }\n",
       "\n",
       "\n",
       "  function run_callbacks() {\n",
       "    try {\n",
       "      root._bokeh_onload_callbacks.forEach(function(callback) {\n",
       "        if (callback != null)\n",
       "          callback();\n",
       "      });\n",
       "    } finally {\n",
       "      delete root._bokeh_onload_callbacks\n",
       "    }\n",
       "    console.debug(\"Bokeh: all callbacks have finished\");\n",
       "  }\n",
       "\n",
       "  function load_libs(css_urls, js_urls, callback) {\n",
       "    if (css_urls == null) css_urls = [];\n",
       "    if (js_urls == null) js_urls = [];\n",
       "\n",
       "    root._bokeh_onload_callbacks.push(callback);\n",
       "    if (root._bokeh_is_loading > 0) {\n",
       "      console.debug(\"Bokeh: BokehJS is being loaded, scheduling callback at\", now());\n",
       "      return null;\n",
       "    }\n",
       "    if (js_urls == null || js_urls.length === 0) {\n",
       "      run_callbacks();\n",
       "      return null;\n",
       "    }\n",
       "    console.debug(\"Bokeh: BokehJS not loaded, scheduling load and callback at\", now());\n",
       "    root._bokeh_is_loading = css_urls.length + js_urls.length;\n",
       "\n",
       "    function on_load() {\n",
       "      root._bokeh_is_loading--;\n",
       "      if (root._bokeh_is_loading === 0) {\n",
       "        console.debug(\"Bokeh: all BokehJS libraries/stylesheets loaded\");\n",
       "        run_callbacks()\n",
       "      }\n",
       "    }\n",
       "\n",
       "    function on_error() {\n",
       "      console.error(\"failed to load \" + url);\n",
       "    }\n",
       "\n",
       "    for (var i = 0; i < css_urls.length; i++) {\n",
       "      var url = css_urls[i];\n",
       "      const element = document.createElement(\"link\");\n",
       "      element.onload = on_load;\n",
       "      element.onerror = on_error;\n",
       "      element.rel = \"stylesheet\";\n",
       "      element.type = \"text/css\";\n",
       "      element.href = url;\n",
       "      console.debug(\"Bokeh: injecting link tag for BokehJS stylesheet: \", url);\n",
       "      document.body.appendChild(element);\n",
       "    }\n",
       "\n",
       "    for (var i = 0; i < js_urls.length; i++) {\n",
       "      var url = js_urls[i];\n",
       "      var element = document.createElement('script');\n",
       "      element.onload = on_load;\n",
       "      element.onerror = on_error;\n",
       "      element.async = false;\n",
       "      element.src = url;\n",
       "      \n",
       "      console.debug(\"Bokeh: injecting script tag for BokehJS library: \", url);\n",
       "      document.head.appendChild(element);\n",
       "    }\n",
       "  };var element = document.getElementById(\"1002\");\n",
       "  if (element == null) {\n",
       "    console.error(\"Bokeh: ERROR: autoload.js configured with elementid '1002' but no matching script tag was found. \")\n",
       "    return false;\n",
       "  }\n",
       "\n",
       "  function inject_raw_css(css) {\n",
       "    const element = document.createElement(\"style\");\n",
       "    element.appendChild(document.createTextNode(css));\n",
       "    document.body.appendChild(element);\n",
       "  }\n",
       "\n",
       "  \n",
       "  var js_urls = [\"https://cdn.bokeh.org/bokeh/release/bokeh-2.0.0.min.js\", \"https://cdn.bokeh.org/bokeh/release/bokeh-widgets-2.0.0.min.js\", \"https://cdn.bokeh.org/bokeh/release/bokeh-tables-2.0.0.min.js\", \"https://cdn.bokeh.org/bokeh/release/bokeh-gl-2.0.0.min.js\"];\n",
       "  var css_urls = [];\n",
       "  \n",
       "\n",
       "  var inline_js = [\n",
       "    function(Bokeh) {\n",
       "      Bokeh.set_log_level(\"info\");\n",
       "    },\n",
       "    function(Bokeh) {\n",
       "    \n",
       "    \n",
       "    }\n",
       "  ];\n",
       "\n",
       "  function run_inline_js() {\n",
       "    \n",
       "    if (root.Bokeh !== undefined || force === true) {\n",
       "      \n",
       "    for (var i = 0; i < inline_js.length; i++) {\n",
       "      inline_js[i].call(root, root.Bokeh);\n",
       "    }\n",
       "    if (force === true) {\n",
       "        display_loaded();\n",
       "      }} else if (Date.now() < root._bokeh_timeout) {\n",
       "      setTimeout(run_inline_js, 100);\n",
       "    } else if (!root._bokeh_failed_load) {\n",
       "      console.log(\"Bokeh: BokehJS failed to load within specified timeout.\");\n",
       "      root._bokeh_failed_load = true;\n",
       "    } else if (force !== true) {\n",
       "      var cell = $(document.getElementById(\"1002\")).parents('.cell').data().cell;\n",
       "      cell.output_area.append_execute_result(NB_LOAD_WARNING)\n",
       "    }\n",
       "\n",
       "  }\n",
       "\n",
       "  if (root._bokeh_is_loading === 0) {\n",
       "    console.debug(\"Bokeh: BokehJS loaded, going straight to plotting\");\n",
       "    run_inline_js();\n",
       "  } else {\n",
       "    load_libs(css_urls, js_urls, function() {\n",
       "      console.debug(\"Bokeh: BokehJS plotting callback run at\", now());\n",
       "      run_inline_js();\n",
       "    });\n",
       "  }\n",
       "}(window));"
      ],
      "application/vnd.bokehjs_load.v0+json": "\n(function(root) {\n  function now() {\n    return new Date();\n  }\n\n  var force = true;\n\n  if (typeof root._bokeh_onload_callbacks === \"undefined\" || force === true) {\n    root._bokeh_onload_callbacks = [];\n    root._bokeh_is_loading = undefined;\n  }\n\n  \n\n  \n  if (typeof (root._bokeh_timeout) === \"undefined\" || force === true) {\n    root._bokeh_timeout = Date.now() + 5000;\n    root._bokeh_failed_load = false;\n  }\n\n  var NB_LOAD_WARNING = {'data': {'text/html':\n     \"<div style='background-color: #fdd'>\\n\"+\n     \"<p>\\n\"+\n     \"BokehJS does not appear to have successfully loaded. If loading BokehJS from CDN, this \\n\"+\n     \"may be due to a slow or bad network connection. Possible fixes:\\n\"+\n     \"</p>\\n\"+\n     \"<ul>\\n\"+\n     \"<li>re-rerun `output_notebook()` to attempt to load from CDN again, or</li>\\n\"+\n     \"<li>use INLINE resources instead, as so:</li>\\n\"+\n     \"</ul>\\n\"+\n     \"<code>\\n\"+\n     \"from bokeh.resources import INLINE\\n\"+\n     \"output_notebook(resources=INLINE)\\n\"+\n     \"</code>\\n\"+\n     \"</div>\"}};\n\n  function display_loaded() {\n    var el = document.getElementById(\"1002\");\n    if (el != null) {\n      el.textContent = \"BokehJS is loading...\";\n    }\n    if (root.Bokeh !== undefined) {\n      if (el != null) {\n        el.textContent = \"BokehJS \" + root.Bokeh.version + \" successfully loaded.\";\n      }\n    } else if (Date.now() < root._bokeh_timeout) {\n      setTimeout(display_loaded, 100)\n    }\n  }\n\n\n  function run_callbacks() {\n    try {\n      root._bokeh_onload_callbacks.forEach(function(callback) {\n        if (callback != null)\n          callback();\n      });\n    } finally {\n      delete root._bokeh_onload_callbacks\n    }\n    console.debug(\"Bokeh: all callbacks have finished\");\n  }\n\n  function load_libs(css_urls, js_urls, callback) {\n    if (css_urls == null) css_urls = [];\n    if (js_urls == null) js_urls = [];\n\n    root._bokeh_onload_callbacks.push(callback);\n    if (root._bokeh_is_loading > 0) {\n      console.debug(\"Bokeh: BokehJS is being loaded, scheduling callback at\", now());\n      return null;\n    }\n    if (js_urls == null || js_urls.length === 0) {\n      run_callbacks();\n      return null;\n    }\n    console.debug(\"Bokeh: BokehJS not loaded, scheduling load and callback at\", now());\n    root._bokeh_is_loading = css_urls.length + js_urls.length;\n\n    function on_load() {\n      root._bokeh_is_loading--;\n      if (root._bokeh_is_loading === 0) {\n        console.debug(\"Bokeh: all BokehJS libraries/stylesheets loaded\");\n        run_callbacks()\n      }\n    }\n\n    function on_error() {\n      console.error(\"failed to load \" + url);\n    }\n\n    for (var i = 0; i < css_urls.length; i++) {\n      var url = css_urls[i];\n      const element = document.createElement(\"link\");\n      element.onload = on_load;\n      element.onerror = on_error;\n      element.rel = \"stylesheet\";\n      element.type = \"text/css\";\n      element.href = url;\n      console.debug(\"Bokeh: injecting link tag for BokehJS stylesheet: \", url);\n      document.body.appendChild(element);\n    }\n\n    for (var i = 0; i < js_urls.length; i++) {\n      var url = js_urls[i];\n      var element = document.createElement('script');\n      element.onload = on_load;\n      element.onerror = on_error;\n      element.async = false;\n      element.src = url;\n      \n      console.debug(\"Bokeh: injecting script tag for BokehJS library: \", url);\n      document.head.appendChild(element);\n    }\n  };var element = document.getElementById(\"1002\");\n  if (element == null) {\n    console.error(\"Bokeh: ERROR: autoload.js configured with elementid '1002' but no matching script tag was found. \")\n    return false;\n  }\n\n  function inject_raw_css(css) {\n    const element = document.createElement(\"style\");\n    element.appendChild(document.createTextNode(css));\n    document.body.appendChild(element);\n  }\n\n  \n  var js_urls = [\"https://cdn.bokeh.org/bokeh/release/bokeh-2.0.0.min.js\", \"https://cdn.bokeh.org/bokeh/release/bokeh-widgets-2.0.0.min.js\", \"https://cdn.bokeh.org/bokeh/release/bokeh-tables-2.0.0.min.js\", \"https://cdn.bokeh.org/bokeh/release/bokeh-gl-2.0.0.min.js\"];\n  var css_urls = [];\n  \n\n  var inline_js = [\n    function(Bokeh) {\n      Bokeh.set_log_level(\"info\");\n    },\n    function(Bokeh) {\n    \n    \n    }\n  ];\n\n  function run_inline_js() {\n    \n    if (root.Bokeh !== undefined || force === true) {\n      \n    for (var i = 0; i < inline_js.length; i++) {\n      inline_js[i].call(root, root.Bokeh);\n    }\n    if (force === true) {\n        display_loaded();\n      }} else if (Date.now() < root._bokeh_timeout) {\n      setTimeout(run_inline_js, 100);\n    } else if (!root._bokeh_failed_load) {\n      console.log(\"Bokeh: BokehJS failed to load within specified timeout.\");\n      root._bokeh_failed_load = true;\n    } else if (force !== true) {\n      var cell = $(document.getElementById(\"1002\")).parents('.cell').data().cell;\n      cell.output_area.append_execute_result(NB_LOAD_WARNING)\n    }\n\n  }\n\n  if (root._bokeh_is_loading === 0) {\n    console.debug(\"Bokeh: BokehJS loaded, going straight to plotting\");\n    run_inline_js();\n  } else {\n    load_libs(css_urls, js_urls, function() {\n      console.debug(\"Bokeh: BokehJS plotting callback run at\", now());\n      run_inline_js();\n    });\n  }\n}(window));"
     },
     "metadata": {},
     "output_type": "display_data"
    }
   ],
   "source": [
    "output_notebook()"
   ]
  },
  {
   "cell_type": "markdown",
   "metadata": {},
   "source": [
    "Showing the Dashboard:"
   ]
  },
  {
   "cell_type": "code",
   "execution_count": 134,
   "metadata": {
    "scrolled": false
   },
   "outputs": [
    {
     "data": {
      "application/vnd.bokehjs_exec.v0+json": "",
      "text/html": [
       "\n",
       "<script id=\"5307\">\n",
       "  var xhr = new XMLHttpRequest()\n",
       "  xhr.responseType = 'blob';\n",
       "  xhr.open('GET', \"http://localhost:51727/autoload.js?bokeh-autoload-element=5307&bokeh-absolute-url=http://localhost:51727&resources=none\", true);\n",
       "  \n",
       "  xhr.onload = function (event) {\n",
       "    var script = document.createElement('script'),\n",
       "    src = URL.createObjectURL(event.target.response);\n",
       "    script.src = src;\n",
       "    document.body.appendChild(script);\n",
       "  };\n",
       "xhr.send();\n",
       "</script>"
      ]
     },
     "metadata": {
      "application/vnd.bokehjs_exec.v0+json": {
       "server_id": "7466342a9c6a497fb6b766af029b9775"
      }
     },
     "output_type": "display_data"
    },
    {
     "name": "stderr",
     "output_type": "stream",
     "text": [
      "ERROR:bokeh.server.protocol_handler:error handling message\n",
      " message: Message 'PATCH-DOC' content: {'events': [{'kind': 'ModelChanged', 'model': {'id': '5362'}, 'attr': 'indices', 'new': []}], 'references': []} \n",
      " error: IndexError('list index out of range')\n",
      "Traceback (most recent call last):\n",
      "  File \"C:\\Users\\adrie\\Anaconda3\\lib\\site-packages\\bokeh\\server\\protocol_handler.py\", line 90, in handle\n",
      "    work = await handler(message, connection)\n",
      "  File \"C:\\Users\\adrie\\Anaconda3\\lib\\site-packages\\bokeh\\server\\session.py\", line 67, in _needs_document_lock_wrapper\n",
      "    result = func(self, *args, **kwargs)\n",
      "  File \"C:\\Users\\adrie\\Anaconda3\\lib\\site-packages\\bokeh\\server\\session.py\", line 261, in _handle_patch\n",
      "    message.apply_to_document(self.document, self)\n",
      "  File \"C:\\Users\\adrie\\Anaconda3\\lib\\site-packages\\bokeh\\protocol\\messages\\patch_doc.py\", line 100, in apply_to_document\n",
      "    doc._with_self_as_curdoc(lambda: doc.apply_json_patch(self.content, setter))\n",
      "  File \"C:\\Users\\adrie\\Anaconda3\\lib\\site-packages\\bokeh\\document\\document.py\", line 1150, in _with_self_as_curdoc\n",
      "    return f()\n",
      "  File \"C:\\Users\\adrie\\Anaconda3\\lib\\site-packages\\bokeh\\protocol\\messages\\patch_doc.py\", line 100, in <lambda>\n",
      "    doc._with_self_as_curdoc(lambda: doc.apply_json_patch(self.content, setter))\n",
      "  File \"C:\\Users\\adrie\\Anaconda3\\lib\\site-packages\\bokeh\\document\\document.py\", line 411, in apply_json_patch\n",
      "    patched_obj.set_from_json(attr, value, models=references, setter=setter)\n",
      "  File \"C:\\Users\\adrie\\Anaconda3\\lib\\site-packages\\bokeh\\core\\has_props.py\", line 340, in set_from_json\n",
      "    descriptor.set_from_json(self, json, models, setter)\n",
      "  File \"C:\\Users\\adrie\\Anaconda3\\lib\\site-packages\\bokeh\\core\\property\\descriptors.py\", line 612, in set_from_json\n",
      "    models, setter)\n",
      "  File \"C:\\Users\\adrie\\Anaconda3\\lib\\site-packages\\bokeh\\core\\property\\descriptors.py\", line 321, in set_from_json\n",
      "    self._internal_set(obj, json, setter=setter)\n",
      "  File \"C:\\Users\\adrie\\Anaconda3\\lib\\site-packages\\bokeh\\core\\property\\descriptors.py\", line 763, in _internal_set\n",
      "    self._real_set(obj, old, value, hint=hint, setter=setter)\n",
      "  File \"C:\\Users\\adrie\\Anaconda3\\lib\\site-packages\\bokeh\\core\\property\\descriptors.py\", line 832, in _real_set\n",
      "    self._trigger(obj, old, value, hint=hint, setter=setter)\n",
      "  File \"C:\\Users\\adrie\\Anaconda3\\lib\\site-packages\\bokeh\\core\\property\\descriptors.py\", line 909, in _trigger\n",
      "    obj.trigger(self.name, old, value, hint, setter)\n",
      "  File \"C:\\Users\\adrie\\Anaconda3\\lib\\site-packages\\bokeh\\model.py\", line 661, in trigger\n",
      "    super().trigger(attr, old, new, hint=hint, setter=setter)\n",
      "  File \"C:\\Users\\adrie\\Anaconda3\\lib\\site-packages\\bokeh\\util\\callback_manager.py\", line 157, in trigger\n",
      "    self._document._notify_change(self, attr, old, new, hint, setter, invoke)\n",
      "  File \"C:\\Users\\adrie\\Anaconda3\\lib\\site-packages\\bokeh\\document\\document.py\", line 1042, in _notify_change\n",
      "    self._trigger_on_change(event)\n",
      "  File \"C:\\Users\\adrie\\Anaconda3\\lib\\site-packages\\bokeh\\document\\document.py\", line 1132, in _trigger_on_change\n",
      "    self._with_self_as_curdoc(event.callback_invoker)\n",
      "  File \"C:\\Users\\adrie\\Anaconda3\\lib\\site-packages\\bokeh\\document\\document.py\", line 1150, in _with_self_as_curdoc\n",
      "    return f()\n",
      "  File \"C:\\Users\\adrie\\Anaconda3\\lib\\site-packages\\bokeh\\util\\callback_manager.py\", line 155, in invoke\n",
      "    callback(attr, old, new)\n",
      "  File \"<ipython-input-133-ed2984c2b3a4>\", line 110, in callback_info_woa\n",
      "    update_div_info_museum()\n",
      "  File \"<ipython-input-133-ed2984c2b3a4>\", line 63, in update_div_info_museum\n",
      "    index=indexes[0]\n",
      "IndexError: list index out of range\n",
      "ERROR:bokeh.server.protocol_handler:error handling message\n",
      " message: Message 'PATCH-DOC' content: {'events': [{'kind': 'ModelChanged', 'model': {'id': '5362'}, 'attr': 'indices', 'new': []}], 'references': []} \n",
      " error: IndexError('list index out of range')\n",
      "Traceback (most recent call last):\n",
      "  File \"C:\\Users\\adrie\\Anaconda3\\lib\\site-packages\\bokeh\\server\\protocol_handler.py\", line 90, in handle\n",
      "    work = await handler(message, connection)\n",
      "  File \"C:\\Users\\adrie\\Anaconda3\\lib\\site-packages\\bokeh\\server\\session.py\", line 67, in _needs_document_lock_wrapper\n",
      "    result = func(self, *args, **kwargs)\n",
      "  File \"C:\\Users\\adrie\\Anaconda3\\lib\\site-packages\\bokeh\\server\\session.py\", line 261, in _handle_patch\n",
      "    message.apply_to_document(self.document, self)\n",
      "  File \"C:\\Users\\adrie\\Anaconda3\\lib\\site-packages\\bokeh\\protocol\\messages\\patch_doc.py\", line 100, in apply_to_document\n",
      "    doc._with_self_as_curdoc(lambda: doc.apply_json_patch(self.content, setter))\n",
      "  File \"C:\\Users\\adrie\\Anaconda3\\lib\\site-packages\\bokeh\\document\\document.py\", line 1150, in _with_self_as_curdoc\n",
      "    return f()\n",
      "  File \"C:\\Users\\adrie\\Anaconda3\\lib\\site-packages\\bokeh\\protocol\\messages\\patch_doc.py\", line 100, in <lambda>\n",
      "    doc._with_self_as_curdoc(lambda: doc.apply_json_patch(self.content, setter))\n",
      "  File \"C:\\Users\\adrie\\Anaconda3\\lib\\site-packages\\bokeh\\document\\document.py\", line 411, in apply_json_patch\n",
      "    patched_obj.set_from_json(attr, value, models=references, setter=setter)\n",
      "  File \"C:\\Users\\adrie\\Anaconda3\\lib\\site-packages\\bokeh\\core\\has_props.py\", line 340, in set_from_json\n",
      "    descriptor.set_from_json(self, json, models, setter)\n",
      "  File \"C:\\Users\\adrie\\Anaconda3\\lib\\site-packages\\bokeh\\core\\property\\descriptors.py\", line 612, in set_from_json\n",
      "    models, setter)\n",
      "  File \"C:\\Users\\adrie\\Anaconda3\\lib\\site-packages\\bokeh\\core\\property\\descriptors.py\", line 321, in set_from_json\n",
      "    self._internal_set(obj, json, setter=setter)\n",
      "  File \"C:\\Users\\adrie\\Anaconda3\\lib\\site-packages\\bokeh\\core\\property\\descriptors.py\", line 763, in _internal_set\n",
      "    self._real_set(obj, old, value, hint=hint, setter=setter)\n",
      "  File \"C:\\Users\\adrie\\Anaconda3\\lib\\site-packages\\bokeh\\core\\property\\descriptors.py\", line 832, in _real_set\n",
      "    self._trigger(obj, old, value, hint=hint, setter=setter)\n",
      "  File \"C:\\Users\\adrie\\Anaconda3\\lib\\site-packages\\bokeh\\core\\property\\descriptors.py\", line 909, in _trigger\n",
      "    obj.trigger(self.name, old, value, hint, setter)\n",
      "  File \"C:\\Users\\adrie\\Anaconda3\\lib\\site-packages\\bokeh\\model.py\", line 661, in trigger\n",
      "    super().trigger(attr, old, new, hint=hint, setter=setter)\n",
      "  File \"C:\\Users\\adrie\\Anaconda3\\lib\\site-packages\\bokeh\\util\\callback_manager.py\", line 157, in trigger\n",
      "    self._document._notify_change(self, attr, old, new, hint, setter, invoke)\n",
      "  File \"C:\\Users\\adrie\\Anaconda3\\lib\\site-packages\\bokeh\\document\\document.py\", line 1042, in _notify_change\n",
      "    self._trigger_on_change(event)\n",
      "  File \"C:\\Users\\adrie\\Anaconda3\\lib\\site-packages\\bokeh\\document\\document.py\", line 1132, in _trigger_on_change\n",
      "    self._with_self_as_curdoc(event.callback_invoker)\n",
      "  File \"C:\\Users\\adrie\\Anaconda3\\lib\\site-packages\\bokeh\\document\\document.py\", line 1150, in _with_self_as_curdoc\n",
      "    return f()\n",
      "  File \"C:\\Users\\adrie\\Anaconda3\\lib\\site-packages\\bokeh\\util\\callback_manager.py\", line 155, in invoke\n",
      "    callback(attr, old, new)\n",
      "  File \"<ipython-input-133-ed2984c2b3a4>\", line 110, in callback_info_woa\n",
      "    update_div_info_museum()\n",
      "  File \"<ipython-input-133-ed2984c2b3a4>\", line 63, in update_div_info_museum\n",
      "    index=indexes[0]\n",
      "IndexError: list index out of range\n"
     ]
    }
   ],
   "source": [
    "show(musees_de_france_dashboard)"
   ]
  },
  {
   "cell_type": "markdown",
   "metadata": {},
   "source": [
    "To help saving in a html file:"
   ]
  },
  {
   "cell_type": "code",
   "execution_count": null,
   "metadata": {},
   "outputs": [],
   "source": [
    "    #Output in the notebook :\n",
    "    output_notebook()\n",
    "    show(p)"
   ]
  },
  {
   "cell_type": "code",
   "execution_count": 74,
   "metadata": {},
   "outputs": [],
   "source": [
    "#Saving in a HTML File:\n",
    "output_file(\"test2.html\", mode='inline')"
   ]
  },
  {
   "cell_type": "code",
   "execution_count": 75,
   "metadata": {},
   "outputs": [
    {
     "ename": "NameError",
     "evalue": "name 'p' is not defined",
     "output_type": "error",
     "traceback": [
      "\u001b[1;31m---------------------------------------------------------------------------\u001b[0m",
      "\u001b[1;31mNameError\u001b[0m                                 Traceback (most recent call last)",
      "\u001b[1;32m<ipython-input-75-309bc1fe1bea>\u001b[0m in \u001b[0;36m<module>\u001b[1;34m\u001b[0m\n\u001b[1;32m----> 1\u001b[1;33m \u001b[0mshow\u001b[0m\u001b[1;33m(\u001b[0m\u001b[0mp\u001b[0m\u001b[1;33m)\u001b[0m\u001b[1;33m\u001b[0m\u001b[1;33m\u001b[0m\u001b[0m\n\u001b[0m",
      "\u001b[1;31mNameError\u001b[0m: name 'p' is not defined"
     ]
    }
   ],
   "source": [
    "show(p)"
   ]
  },
  {
   "cell_type": "code",
   "execution_count": null,
   "metadata": {},
   "outputs": [],
   "source": []
  },
  {
   "cell_type": "code",
   "execution_count": null,
   "metadata": {},
   "outputs": [],
   "source": []
  },
  {
   "cell_type": "code",
   "execution_count": null,
   "metadata": {},
   "outputs": [],
   "source": []
  },
  {
   "cell_type": "code",
   "execution_count": null,
   "metadata": {},
   "outputs": [],
   "source": []
  },
  {
   "cell_type": "code",
   "execution_count": 90,
   "metadata": {},
   "outputs": [],
   "source": [
    "from bokeh.resources import CDN\n",
    "from bokeh.embed import file_html"
   ]
  },
  {
   "cell_type": "code",
   "execution_count": 92,
   "metadata": {},
   "outputs": [
    {
     "name": "stderr",
     "output_type": "stream",
     "text": [
      "WARNING:bokeh.embed.util:\n",
      "You are generating standalone HTML/JS output, but trying to use real Python\n",
      "callbacks (i.e. with on_change or on_event). This combination cannot work.\n",
      "\n",
      "Only JavaScript callbacks may be used with standalone output. For more\n",
      "information on JavaScript callbacks with Bokeh, see:\n",
      "\n",
      "    https://docs.bokeh.org/en/latest/docs/user_guide/interaction/callbacks.html\n",
      "\n",
      "Alternatively, to use real Python callbacks, a Bokeh server application may\n",
      "be used. For more information on building and running Bokeh applications, see:\n",
      "\n",
      "    https://docs.bokeh.org/en/latest/docs/user_guide/server.html\n",
      "\n"
     ]
    }
   ],
   "source": [
    "myplot_html = file_html(tabs, CDN)\n",
    "# this HTML code is very long (~30 K), the cell below doesn't show all the code in NBviewer"
   ]
  }
 ],
 "metadata": {
  "kernelspec": {
   "display_name": "Python 3",
   "language": "python",
   "name": "python3"
  },
  "language_info": {
   "codemirror_mode": {
    "name": "ipython",
    "version": 3
   },
   "file_extension": ".py",
   "mimetype": "text/x-python",
   "name": "python",
   "nbconvert_exporter": "python",
   "pygments_lexer": "ipython3",
   "version": "3.7.4"
  },
  "toc": {
   "base_numbering": 1,
   "nav_menu": {},
   "number_sections": true,
   "sideBar": true,
   "skip_h1_title": true,
   "title_cell": "Table of Contents",
   "title_sidebar": "Contents",
   "toc_cell": false,
   "toc_position": {
    "height": "calc(100% - 180px)",
    "left": "10px",
    "top": "150px",
    "width": "310.4px"
   },
   "toc_section_display": true,
   "toc_window_display": true
  }
 },
 "nbformat": 4,
 "nbformat_minor": 2
}
