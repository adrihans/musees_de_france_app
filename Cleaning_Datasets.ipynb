{
 "cells": [
  {
   "cell_type": "markdown",
   "metadata": {},
   "source": [
    "# Notebook de nettoyage des différents Datasets considérés dans la réalisation de ce projet.\n",
    "\n"
   ]
  },
  {
   "cell_type": "markdown",
   "metadata": {},
   "source": [
    "**But de ce notebook `Cleaning_Datasets` :**\n",
    "- Nettoyer les datasets utilisés ensuite pour développer une interface de visualisation des musées présents dans la base Muséofile en OpenData. \n",
    "\n",
    "**Datasets considérés dans ce projet:**\n",
    "- [Fréquentation des musées de France](https://data.culture.gouv.fr/explore/dataset/frequentation-des-musees-de-france/)\n",
    "\n",
    "- [Base Muséofile](https://data.culture.gouv.fr/explore/dataset/musees-de-france-base-museofile/information/)\n",
    "\n",
    "- [Base Joconde](https://data.culture.gouv.fr/explore/dataset/base-joconde-extrait/)"
   ]
  },
  {
   "cell_type": "markdown",
   "metadata": {
    "heading_collapsed": true
   },
   "source": [
    "## Imports nécessaires : "
   ]
  },
  {
   "cell_type": "code",
   "execution_count": 1,
   "metadata": {
    "hidden": true
   },
   "outputs": [],
   "source": [
    "import pandas as pd\n",
    "import numpy as np\n",
    "\n",
    "import seaborn as sns\n",
    "import matplotlib.pyplot\n",
    "\n",
    "from pyproj import Proj, transform"
   ]
  },
  {
   "cell_type": "markdown",
   "metadata": {
    "heading_collapsed": true
   },
   "source": [
    "## Base fréquentation des musées:"
   ]
  },
  {
   "cell_type": "markdown",
   "metadata": {
    "heading_collapsed": true,
    "hidden": true
   },
   "source": [
    "### Opening"
   ]
  },
  {
   "cell_type": "code",
   "execution_count": 2,
   "metadata": {
    "hidden": true
   },
   "outputs": [],
   "source": [
    "df_freq = pd.read_csv('data/frequentation-des-musees-de-france.csv', sep=';')"
   ]
  },
  {
   "cell_type": "markdown",
   "metadata": {
    "hidden": true
   },
   "source": [
    "### Basic information"
   ]
  },
  {
   "cell_type": "code",
   "execution_count": 3,
   "metadata": {
    "hidden": true
   },
   "outputs": [
    {
     "data": {
      "text/plain": [
       "(59876, 7)"
      ]
     },
     "execution_count": 3,
     "metadata": {},
     "output_type": "execute_result"
    }
   ],
   "source": [
    "df_freq.shape"
   ]
  },
  {
   "cell_type": "code",
   "execution_count": 4,
   "metadata": {
    "hidden": true,
    "scrolled": false
   },
   "outputs": [
    {
     "data": {
      "text/html": [
       "<div>\n",
       "<style scoped>\n",
       "    .dataframe tbody tr th:only-of-type {\n",
       "        vertical-align: middle;\n",
       "    }\n",
       "\n",
       "    .dataframe tbody tr th {\n",
       "        vertical-align: top;\n",
       "    }\n",
       "\n",
       "    .dataframe thead th {\n",
       "        text-align: right;\n",
       "    }\n",
       "</style>\n",
       "<table border=\"1\" class=\"dataframe\">\n",
       "  <thead>\n",
       "    <tr style=\"text-align: right;\">\n",
       "      <th></th>\n",
       "      <th>REF DU MUSEE</th>\n",
       "      <th>REGION</th>\n",
       "      <th>NOM DU MUSEE</th>\n",
       "      <th>VILLE</th>\n",
       "      <th>Type de fréquentation</th>\n",
       "      <th>Année</th>\n",
       "      <th>Entrées</th>\n",
       "    </tr>\n",
       "  </thead>\n",
       "  <tbody>\n",
       "    <tr>\n",
       "      <th>0</th>\n",
       "      <td>7511701</td>\n",
       "      <td>ÎLE-DE-France</td>\n",
       "      <td>Musée National Jean-Jacques Henner</td>\n",
       "      <td>PARIS</td>\n",
       "      <td>Payante</td>\n",
       "      <td>2008</td>\n",
       "      <td>0.0</td>\n",
       "    </tr>\n",
       "    <tr>\n",
       "      <th>1</th>\n",
       "      <td>7511701</td>\n",
       "      <td>ÎLE-DE-France</td>\n",
       "      <td>Musée National Jean-Jacques Henner</td>\n",
       "      <td>PARIS</td>\n",
       "      <td>Payante</td>\n",
       "      <td>2002</td>\n",
       "      <td>803.0</td>\n",
       "    </tr>\n",
       "    <tr>\n",
       "      <th>2</th>\n",
       "      <td>7511701</td>\n",
       "      <td>ÎLE-DE-France</td>\n",
       "      <td>Musée National Jean-Jacques Henner</td>\n",
       "      <td>PARIS</td>\n",
       "      <td>Payante</td>\n",
       "      <td>2004</td>\n",
       "      <td>0.0</td>\n",
       "    </tr>\n",
       "    <tr>\n",
       "      <th>3</th>\n",
       "      <td>7511701</td>\n",
       "      <td>ÎLE-DE-France</td>\n",
       "      <td>Musée National Jean-Jacques Henner</td>\n",
       "      <td>PARIS</td>\n",
       "      <td>Payante</td>\n",
       "      <td>2010</td>\n",
       "      <td>8729.0</td>\n",
       "    </tr>\n",
       "    <tr>\n",
       "      <th>4</th>\n",
       "      <td>7511801</td>\n",
       "      <td>ÎLE-DE-France</td>\n",
       "      <td>Musée de Montmartre</td>\n",
       "      <td>PARIS</td>\n",
       "      <td>Payante</td>\n",
       "      <td>2009</td>\n",
       "      <td>50541.0</td>\n",
       "    </tr>\n",
       "  </tbody>\n",
       "</table>\n",
       "</div>"
      ],
      "text/plain": [
       "  REF DU MUSEE         REGION                        NOM DU MUSEE  VILLE  \\\n",
       "0      7511701  ÎLE-DE-France  Musée National Jean-Jacques Henner  PARIS   \n",
       "1      7511701  ÎLE-DE-France  Musée National Jean-Jacques Henner  PARIS   \n",
       "2      7511701  ÎLE-DE-France  Musée National Jean-Jacques Henner  PARIS   \n",
       "3      7511701  ÎLE-DE-France  Musée National Jean-Jacques Henner  PARIS   \n",
       "4      7511801  ÎLE-DE-France                 Musée de Montmartre  PARIS   \n",
       "\n",
       "  Type de fréquentation  Année  Entrées  \n",
       "0               Payante   2008      0.0  \n",
       "1               Payante   2002    803.0  \n",
       "2               Payante   2004      0.0  \n",
       "3               Payante   2010   8729.0  \n",
       "4               Payante   2009  50541.0  "
      ]
     },
     "execution_count": 4,
     "metadata": {},
     "output_type": "execute_result"
    }
   ],
   "source": [
    "df_freq.head()"
   ]
  },
  {
   "cell_type": "code",
   "execution_count": 5,
   "metadata": {
    "hidden": true
   },
   "outputs": [
    {
     "data": {
      "text/plain": [
       "REF DU MUSEE              0\n",
       "REGION                    0\n",
       "NOM DU MUSEE              0\n",
       "VILLE                     0\n",
       "Type de fréquentation     0\n",
       "Année                     0\n",
       "Entrées                  97\n",
       "dtype: int64"
      ]
     },
     "execution_count": 5,
     "metadata": {},
     "output_type": "execute_result"
    }
   ],
   "source": [
    "df_freq.isna().sum()"
   ]
  },
  {
   "cell_type": "markdown",
   "metadata": {
    "hidden": true
   },
   "source": [
    "### Renaming columns"
   ]
  },
  {
   "cell_type": "markdown",
   "metadata": {
    "hidden": true
   },
   "source": [
    "Noms des colonnes au départ:"
   ]
  },
  {
   "cell_type": "code",
   "execution_count": 6,
   "metadata": {
    "hidden": true
   },
   "outputs": [
    {
     "data": {
      "text/plain": [
       "Index(['REF DU MUSEE', 'REGION', 'NOM DU MUSEE', 'VILLE',\n",
       "       'Type de fréquentation', 'Année', 'Entrées'],\n",
       "      dtype='object')"
      ]
     },
     "execution_count": 6,
     "metadata": {},
     "output_type": "execute_result"
    }
   ],
   "source": [
    "df_freq.columns"
   ]
  },
  {
   "cell_type": "markdown",
   "metadata": {
    "hidden": true
   },
   "source": [
    "Nous pouvons observer que certaines colonnes comportent des espaces. Cela pourrait poser un problème, notamment dans l'utilisation interractive avec Bokeh. \n",
    "\n",
    "Par conséquent, nous allons remplacer les espaces dans les noms de colonnes par des `_`. \n",
    "\n",
    "Pour cela et pour une utilisation plus automatique, nous allons faire une fonction:\n",
    "\n",
    "On utilise aussi `strip` pour effacer les espaces de début et de fin."
   ]
  },
  {
   "cell_type": "code",
   "execution_count": 7,
   "metadata": {
    "hidden": true
   },
   "outputs": [],
   "source": [
    "def rename_columns_spaces(df):\n",
    "    df_func=df.copy()        \n",
    "    df_func.columns = df_func.columns.str.strip()\n",
    "    df_func.columns =df_func.columns.str.replace(' ', '_')\n",
    "    return df_func"
   ]
  },
  {
   "cell_type": "markdown",
   "metadata": {
    "hidden": true
   },
   "source": [
    "Application de la fonction:"
   ]
  },
  {
   "cell_type": "code",
   "execution_count": 8,
   "metadata": {
    "hidden": true
   },
   "outputs": [],
   "source": [
    "df_freq=rename_columns_spaces(df_freq)"
   ]
  },
  {
   "cell_type": "markdown",
   "metadata": {
    "hidden": true
   },
   "source": [
    "Vérification du résultat de la fonction:"
   ]
  },
  {
   "cell_type": "code",
   "execution_count": 9,
   "metadata": {
    "hidden": true
   },
   "outputs": [
    {
     "data": {
      "text/plain": [
       "Index(['REF_DU_MUSEE', 'REGION', 'NOM_DU_MUSEE', 'VILLE',\n",
       "       'Type_de_fréquentation', 'Année', 'Entrées'],\n",
       "      dtype='object')"
      ]
     },
     "execution_count": 9,
     "metadata": {},
     "output_type": "execute_result"
    }
   ],
   "source": [
    "df_freq.columns"
   ]
  },
  {
   "cell_type": "markdown",
   "metadata": {
    "hidden": true
   },
   "source": [
    "Les colonnes ont bien été modifiées."
   ]
  },
  {
   "cell_type": "markdown",
   "metadata": {
    "hidden": true
   },
   "source": [
    "### Bonne correspondance entre Id et nom de musée"
   ]
  },
  {
   "cell_type": "code",
   "execution_count": 10,
   "metadata": {
    "hidden": true
   },
   "outputs": [
    {
     "name": "stdout",
     "output_type": "stream",
     "text": [
      "Nombre de noms de musées uniques : 1108\n",
      "Nombre d'Id de musées uniques : 1249\n"
     ]
    }
   ],
   "source": [
    "print(\"Nombre de noms de musées uniques :\",df_freq['NOM_DU_MUSEE'].nunique())\n",
    "print(\"Nombre d'Id de musées uniques :\",df_freq['REF_DU_MUSEE'].nunique())"
   ]
  },
  {
   "cell_type": "markdown",
   "metadata": {
    "hidden": true
   },
   "source": [
    "Il y a plus d'Id que de noms de musées différents, mais cela est peut-être dû au fait que certains musées portent le même nom. \n",
    "- exemple : *Musée du chateau*\n",
    "\n",
    "On peut vérifier cela:"
   ]
  },
  {
   "cell_type": "code",
   "execution_count": 11,
   "metadata": {
    "hidden": true
   },
   "outputs": [
    {
     "data": {
      "text/html": [
       "<div>\n",
       "<style scoped>\n",
       "    .dataframe tbody tr th:only-of-type {\n",
       "        vertical-align: middle;\n",
       "    }\n",
       "\n",
       "    .dataframe tbody tr th {\n",
       "        vertical-align: top;\n",
       "    }\n",
       "\n",
       "    .dataframe thead th {\n",
       "        text-align: right;\n",
       "    }\n",
       "</style>\n",
       "<table border=\"1\" class=\"dataframe\">\n",
       "  <thead>\n",
       "    <tr style=\"text-align: right;\">\n",
       "      <th></th>\n",
       "      <th>REGION</th>\n",
       "      <th>NOM_DU_MUSEE</th>\n",
       "      <th>VILLE</th>\n",
       "      <th>Type_de_fréquentation</th>\n",
       "      <th>Année</th>\n",
       "      <th>Entrées</th>\n",
       "    </tr>\n",
       "    <tr>\n",
       "      <th>REF_DU_MUSEE</th>\n",
       "      <th></th>\n",
       "      <th></th>\n",
       "      <th></th>\n",
       "      <th></th>\n",
       "      <th></th>\n",
       "      <th></th>\n",
       "    </tr>\n",
       "  </thead>\n",
       "  <tbody>\n",
       "    <tr>\n",
       "      <th>0416601</th>\n",
       "      <td>PROVENCE-ALPES-CÔTE D'AZUR</td>\n",
       "      <td>Musée Archéologique</td>\n",
       "      <td>RIEZ-LA-ROMAINE</td>\n",
       "      <td>Payante</td>\n",
       "      <td>2009</td>\n",
       "      <td>476.0</td>\n",
       "    </tr>\n",
       "    <tr>\n",
       "      <th>1003301</th>\n",
       "      <td>GRAND EST</td>\n",
       "      <td>Musée Municipal</td>\n",
       "      <td>BAR-SUR-AUBE CEDEX</td>\n",
       "      <td>Gratuite</td>\n",
       "      <td>2009</td>\n",
       "      <td>0.0</td>\n",
       "    </tr>\n",
       "    <tr>\n",
       "      <th>1038701</th>\n",
       "      <td>GRAND EST</td>\n",
       "      <td>Muséum d'Histoire Naturelle</td>\n",
       "      <td>TROYES</td>\n",
       "      <td>Payante</td>\n",
       "      <td>2009</td>\n",
       "      <td>0.0</td>\n",
       "    </tr>\n",
       "    <tr>\n",
       "      <th>1038704</th>\n",
       "      <td>GRAND EST</td>\n",
       "      <td>Musée des Beaux-Arts</td>\n",
       "      <td>TROYES</td>\n",
       "      <td>Payante</td>\n",
       "      <td>2004</td>\n",
       "      <td>5572.0</td>\n",
       "    </tr>\n",
       "    <tr>\n",
       "      <th>1106901</th>\n",
       "      <td>OCCITANIE</td>\n",
       "      <td>Musée des Beaux-Arts</td>\n",
       "      <td>CARCASSONNE</td>\n",
       "      <td>Payante</td>\n",
       "      <td>2001</td>\n",
       "      <td>0.0</td>\n",
       "    </tr>\n",
       "  </tbody>\n",
       "</table>\n",
       "</div>"
      ],
      "text/plain": [
       "                                  REGION                 NOM_DU_MUSEE  \\\n",
       "REF_DU_MUSEE                                                            \n",
       "0416601       PROVENCE-ALPES-CÔTE D'AZUR          Musée Archéologique   \n",
       "1003301                        GRAND EST              Musée Municipal   \n",
       "1038701                        GRAND EST  Muséum d'Histoire Naturelle   \n",
       "1038704                        GRAND EST         Musée des Beaux-Arts   \n",
       "1106901                        OCCITANIE         Musée des Beaux-Arts   \n",
       "\n",
       "                           VILLE Type_de_fréquentation  Année  Entrées  \n",
       "REF_DU_MUSEE                                                            \n",
       "0416601          RIEZ-LA-ROMAINE               Payante   2009    476.0  \n",
       "1003301       BAR-SUR-AUBE CEDEX              Gratuite   2009      0.0  \n",
       "1038701                   TROYES               Payante   2009      0.0  \n",
       "1038704                   TROYES               Payante   2004   5572.0  \n",
       "1106901              CARCASSONNE               Payante   2001      0.0  "
      ]
     },
     "execution_count": 11,
     "metadata": {},
     "output_type": "execute_result"
    }
   ],
   "source": [
    "df_freq.groupby('REF_DU_MUSEE').first()[df_freq.groupby('REF_DU_MUSEE')['NOM_DU_MUSEE'].first().duplicated()].head(5)"
   ]
  },
  {
   "cell_type": "markdown",
   "metadata": {
    "hidden": true
   },
   "source": [
    "C'est bien cela, il y a plusieurs `Musée des Beaux-Arts` ou `Musée Municipal`."
   ]
  },
  {
   "cell_type": "markdown",
   "metadata": {
    "hidden": true
   },
   "source": [
    "### Viz"
   ]
  },
  {
   "cell_type": "markdown",
   "metadata": {
    "hidden": true
   },
   "source": [
    "Quels types de fréquentation pour toutes les entrées:"
   ]
  },
  {
   "cell_type": "code",
   "execution_count": 12,
   "metadata": {
    "hidden": true
   },
   "outputs": [
    {
     "data": {
      "text/plain": [
       "<matplotlib.axes._subplots.AxesSubplot at 0x2ac95d17488>"
      ]
     },
     "execution_count": 12,
     "metadata": {},
     "output_type": "execute_result"
    },
    {
     "data": {
      "image/png": "[encoded data removed]",
      "text/plain": [
       "<Figure size 432x288 with 1 Axes>"
      ]
     },
     "metadata": {
      "needs_background": "light"
     },
     "output_type": "display_data"
    }
   ],
   "source": [
    "sns.countplot(df_freq['Type_de_fréquentation'])"
   ]
  },
  {
   "cell_type": "code",
   "execution_count": 13,
   "metadata": {
    "hidden": true
   },
   "outputs": [
    {
     "data": {
      "text/plain": [
       "Type_de_fréquentation\n",
       "Gratuite    19957\n",
       "Payante     19957\n",
       "Totale      19962\n",
       "dtype: int64"
      ]
     },
     "execution_count": 13,
     "metadata": {},
     "output_type": "execute_result"
    }
   ],
   "source": [
    "df_freq.groupby('Type_de_fréquentation').size()"
   ]
  },
  {
   "cell_type": "markdown",
   "metadata": {
    "hidden": true
   },
   "source": [
    "#### NANS - Entrées: "
   ]
  },
  {
   "cell_type": "markdown",
   "metadata": {
    "hidden": true
   },
   "source": [
    "Quels types de fréquentation pour les entrées nan:"
   ]
  },
  {
   "cell_type": "code",
   "execution_count": 14,
   "metadata": {
    "hidden": true
   },
   "outputs": [
    {
     "data": {
      "text/plain": [
       "<matplotlib.axes._subplots.AxesSubplot at 0x2ac96287708>"
      ]
     },
     "execution_count": 14,
     "metadata": {},
     "output_type": "execute_result"
    },
    {
     "data": {
      "image/png": "[encoded data removed]",
      "text/plain": [
       "<Figure size 432x288 with 1 Axes>"
      ]
     },
     "metadata": {
      "needs_background": "light"
     },
     "output_type": "display_data"
    }
   ],
   "source": [
    "sns.countplot(df_freq[df_freq['Entrées'].isna()]['Type_de_fréquentation'])"
   ]
  },
  {
   "cell_type": "code",
   "execution_count": 15,
   "metadata": {
    "hidden": true
   },
   "outputs": [
    {
     "data": {
      "text/plain": [
       "Type_de_fréquentation\n",
       "Gratuite     1\n",
       "Totale      96\n",
       "dtype: int64"
      ]
     },
     "execution_count": 15,
     "metadata": {},
     "output_type": "execute_result"
    }
   ],
   "source": [
    "df_freq[df_freq['Entrées'].isna()].groupby('Type_de_fréquentation').size()"
   ]
  },
  {
   "cell_type": "markdown",
   "metadata": {
    "hidden": true
   },
   "source": [
    "Nous pouvons voir qu'il n'y a qu'une seule fréquentation gratuite non présente. "
   ]
  },
  {
   "cell_type": "code",
   "execution_count": 16,
   "metadata": {
    "hidden": true
   },
   "outputs": [
    {
     "name": "stderr",
     "output_type": "stream",
     "text": [
      "C:\\Users\\adrie\\Anaconda3\\lib\\site-packages\\ipykernel_launcher.py:1: UserWarning: Boolean Series key will be reindexed to match DataFrame index.\n",
      "  \"\"\"Entry point for launching an IPython kernel.\n"
     ]
    },
    {
     "data": {
      "text/html": [
       "<div>\n",
       "<style scoped>\n",
       "    .dataframe tbody tr th:only-of-type {\n",
       "        vertical-align: middle;\n",
       "    }\n",
       "\n",
       "    .dataframe tbody tr th {\n",
       "        vertical-align: top;\n",
       "    }\n",
       "\n",
       "    .dataframe thead th {\n",
       "        text-align: right;\n",
       "    }\n",
       "</style>\n",
       "<table border=\"1\" class=\"dataframe\">\n",
       "  <thead>\n",
       "    <tr style=\"text-align: right;\">\n",
       "      <th></th>\n",
       "      <th>REF_DU_MUSEE</th>\n",
       "      <th>REGION</th>\n",
       "      <th>NOM_DU_MUSEE</th>\n",
       "      <th>VILLE</th>\n",
       "      <th>Type_de_fréquentation</th>\n",
       "      <th>Année</th>\n",
       "      <th>Entrées</th>\n",
       "    </tr>\n",
       "  </thead>\n",
       "  <tbody>\n",
       "    <tr>\n",
       "      <th>29534</th>\n",
       "      <td>3419901</td>\n",
       "      <td>OCCITANIE</td>\n",
       "      <td>Musée de Vulliod Saint-Germain</td>\n",
       "      <td>PEZENAS</td>\n",
       "      <td>Gratuite</td>\n",
       "      <td>2016</td>\n",
       "      <td>NaN</td>\n",
       "    </tr>\n",
       "  </tbody>\n",
       "</table>\n",
       "</div>"
      ],
      "text/plain": [
       "      REF_DU_MUSEE     REGION                    NOM_DU_MUSEE    VILLE  \\\n",
       "29534      3419901  OCCITANIE  Musée de Vulliod Saint-Germain  PEZENAS   \n",
       "\n",
       "      Type_de_fréquentation  Année  Entrées  \n",
       "29534              Gratuite   2016      NaN  "
      ]
     },
     "execution_count": 16,
     "metadata": {},
     "output_type": "execute_result"
    }
   ],
   "source": [
    "df_freq[df_freq['Entrées'].isna()][df_freq['Type_de_fréquentation']=='Gratuite']"
   ]
  },
  {
   "cell_type": "code",
   "execution_count": 17,
   "metadata": {
    "hidden": true,
    "scrolled": true
   },
   "outputs": [
    {
     "data": {
      "text/html": [
       "<div>\n",
       "<style scoped>\n",
       "    .dataframe tbody tr th:only-of-type {\n",
       "        vertical-align: middle;\n",
       "    }\n",
       "\n",
       "    .dataframe tbody tr th {\n",
       "        vertical-align: top;\n",
       "    }\n",
       "\n",
       "    .dataframe thead th {\n",
       "        text-align: right;\n",
       "    }\n",
       "</style>\n",
       "<table border=\"1\" class=\"dataframe\">\n",
       "  <thead>\n",
       "    <tr style=\"text-align: right;\">\n",
       "      <th></th>\n",
       "      <th>REF_DU_MUSEE</th>\n",
       "      <th>REGION</th>\n",
       "      <th>NOM_DU_MUSEE</th>\n",
       "      <th>VILLE</th>\n",
       "      <th>Type_de_fréquentation</th>\n",
       "      <th>Année</th>\n",
       "      <th>Entrées</th>\n",
       "    </tr>\n",
       "  </thead>\n",
       "  <tbody>\n",
       "    <tr>\n",
       "      <th>55066</th>\n",
       "      <td>3419901</td>\n",
       "      <td>OCCITANIE</td>\n",
       "      <td>Musée de Vulliod Saint-Germain</td>\n",
       "      <td>PEZENAS</td>\n",
       "      <td>Totale</td>\n",
       "      <td>2001</td>\n",
       "      <td>6168.0</td>\n",
       "    </tr>\n",
       "    <tr>\n",
       "      <th>17189</th>\n",
       "      <td>3419901</td>\n",
       "      <td>OCCITANIE</td>\n",
       "      <td>Musée de Vulliod Saint-Germain</td>\n",
       "      <td>PEZENAS</td>\n",
       "      <td>Payante</td>\n",
       "      <td>2001</td>\n",
       "      <td>3570.0</td>\n",
       "    </tr>\n",
       "    <tr>\n",
       "      <th>53055</th>\n",
       "      <td>3419901</td>\n",
       "      <td>OCCITANIE</td>\n",
       "      <td>Musée de Vulliod Saint-Germain</td>\n",
       "      <td>PEZENAS</td>\n",
       "      <td>Gratuite</td>\n",
       "      <td>2001</td>\n",
       "      <td>2598.0</td>\n",
       "    </tr>\n",
       "    <tr>\n",
       "      <th>53054</th>\n",
       "      <td>3419901</td>\n",
       "      <td>OCCITANIE</td>\n",
       "      <td>Musée de Vulliod Saint-Germain</td>\n",
       "      <td>PEZENAS</td>\n",
       "      <td>Gratuite</td>\n",
       "      <td>2002</td>\n",
       "      <td>2982.0</td>\n",
       "    </tr>\n",
       "    <tr>\n",
       "      <th>3766</th>\n",
       "      <td>3419901</td>\n",
       "      <td>OCCITANIE</td>\n",
       "      <td>Musée de Vulliod Saint-Germain</td>\n",
       "      <td>PEZENAS</td>\n",
       "      <td>Totale</td>\n",
       "      <td>2002</td>\n",
       "      <td>5517.0</td>\n",
       "    </tr>\n",
       "    <tr>\n",
       "      <th>33586</th>\n",
       "      <td>3419901</td>\n",
       "      <td>OCCITANIE</td>\n",
       "      <td>Musée de Vulliod Saint-Germain</td>\n",
       "      <td>PEZENAS</td>\n",
       "      <td>Payante</td>\n",
       "      <td>2002</td>\n",
       "      <td>2535.0</td>\n",
       "    </tr>\n",
       "    <tr>\n",
       "      <th>41171</th>\n",
       "      <td>3419901</td>\n",
       "      <td>OCCITANIE</td>\n",
       "      <td>Musée de Vulliod Saint-Germain</td>\n",
       "      <td>PEZENAS</td>\n",
       "      <td>Gratuite</td>\n",
       "      <td>2003</td>\n",
       "      <td>2719.0</td>\n",
       "    </tr>\n",
       "    <tr>\n",
       "      <th>35367</th>\n",
       "      <td>3419901</td>\n",
       "      <td>OCCITANIE</td>\n",
       "      <td>Musée de Vulliod Saint-Germain</td>\n",
       "      <td>PEZENAS</td>\n",
       "      <td>Payante</td>\n",
       "      <td>2003</td>\n",
       "      <td>2314.0</td>\n",
       "    </tr>\n",
       "    <tr>\n",
       "      <th>55065</th>\n",
       "      <td>3419901</td>\n",
       "      <td>OCCITANIE</td>\n",
       "      <td>Musée de Vulliod Saint-Germain</td>\n",
       "      <td>PEZENAS</td>\n",
       "      <td>Totale</td>\n",
       "      <td>2003</td>\n",
       "      <td>5033.0</td>\n",
       "    </tr>\n",
       "    <tr>\n",
       "      <th>53057</th>\n",
       "      <td>3419901</td>\n",
       "      <td>OCCITANIE</td>\n",
       "      <td>Musée de Vulliod Saint-Germain</td>\n",
       "      <td>PEZENAS</td>\n",
       "      <td>Gratuite</td>\n",
       "      <td>2004</td>\n",
       "      <td>0.0</td>\n",
       "    </tr>\n",
       "    <tr>\n",
       "      <th>11236</th>\n",
       "      <td>3419901</td>\n",
       "      <td>OCCITANIE</td>\n",
       "      <td>Musée de Vulliod Saint-Germain</td>\n",
       "      <td>PEZENAS</td>\n",
       "      <td>Totale</td>\n",
       "      <td>2004</td>\n",
       "      <td>4451.0</td>\n",
       "    </tr>\n",
       "    <tr>\n",
       "      <th>21117</th>\n",
       "      <td>3419901</td>\n",
       "      <td>OCCITANIE</td>\n",
       "      <td>Musée de Vulliod Saint-Germain</td>\n",
       "      <td>PEZENAS</td>\n",
       "      <td>Payante</td>\n",
       "      <td>2004</td>\n",
       "      <td>4451.0</td>\n",
       "    </tr>\n",
       "    <tr>\n",
       "      <th>25139</th>\n",
       "      <td>3419901</td>\n",
       "      <td>OCCITANIE</td>\n",
       "      <td>Musée de Vulliod Saint-Germain</td>\n",
       "      <td>PEZENAS</td>\n",
       "      <td>Gratuite</td>\n",
       "      <td>2005</td>\n",
       "      <td>1943.0</td>\n",
       "    </tr>\n",
       "    <tr>\n",
       "      <th>11237</th>\n",
       "      <td>3419901</td>\n",
       "      <td>OCCITANIE</td>\n",
       "      <td>Musée de Vulliod Saint-Germain</td>\n",
       "      <td>PEZENAS</td>\n",
       "      <td>Totale</td>\n",
       "      <td>2005</td>\n",
       "      <td>3742.0</td>\n",
       "    </tr>\n",
       "    <tr>\n",
       "      <th>17190</th>\n",
       "      <td>3419901</td>\n",
       "      <td>OCCITANIE</td>\n",
       "      <td>Musée de Vulliod Saint-Germain</td>\n",
       "      <td>PEZENAS</td>\n",
       "      <td>Payante</td>\n",
       "      <td>2005</td>\n",
       "      <td>1799.0</td>\n",
       "    </tr>\n",
       "    <tr>\n",
       "      <th>49076</th>\n",
       "      <td>3419901</td>\n",
       "      <td>OCCITANIE</td>\n",
       "      <td>Musée de Vulliod Saint-Germain</td>\n",
       "      <td>PEZENAS</td>\n",
       "      <td>Totale</td>\n",
       "      <td>2006</td>\n",
       "      <td>3984.0</td>\n",
       "    </tr>\n",
       "    <tr>\n",
       "      <th>1319</th>\n",
       "      <td>3419901</td>\n",
       "      <td>OCCITANIE</td>\n",
       "      <td>Musée de Vulliod Saint-Germain</td>\n",
       "      <td>PEZENAS</td>\n",
       "      <td>Payante</td>\n",
       "      <td>2006</td>\n",
       "      <td>1732.0</td>\n",
       "    </tr>\n",
       "    <tr>\n",
       "      <th>53056</th>\n",
       "      <td>3419901</td>\n",
       "      <td>OCCITANIE</td>\n",
       "      <td>Musée de Vulliod Saint-Germain</td>\n",
       "      <td>PEZENAS</td>\n",
       "      <td>Gratuite</td>\n",
       "      <td>2006</td>\n",
       "      <td>2252.0</td>\n",
       "    </tr>\n",
       "    <tr>\n",
       "      <th>1321</th>\n",
       "      <td>3419901</td>\n",
       "      <td>OCCITANIE</td>\n",
       "      <td>Musée de Vulliod Saint-Germain</td>\n",
       "      <td>PEZENAS</td>\n",
       "      <td>Payante</td>\n",
       "      <td>2007</td>\n",
       "      <td>1782.0</td>\n",
       "    </tr>\n",
       "    <tr>\n",
       "      <th>44127</th>\n",
       "      <td>3419901</td>\n",
       "      <td>OCCITANIE</td>\n",
       "      <td>Musée de Vulliod Saint-Germain</td>\n",
       "      <td>PEZENAS</td>\n",
       "      <td>Gratuite</td>\n",
       "      <td>2007</td>\n",
       "      <td>0.0</td>\n",
       "    </tr>\n",
       "    <tr>\n",
       "      <th>11235</th>\n",
       "      <td>3419901</td>\n",
       "      <td>OCCITANIE</td>\n",
       "      <td>Musée de Vulliod Saint-Germain</td>\n",
       "      <td>PEZENAS</td>\n",
       "      <td>Totale</td>\n",
       "      <td>2007</td>\n",
       "      <td>1782.0</td>\n",
       "    </tr>\n",
       "    <tr>\n",
       "      <th>44125</th>\n",
       "      <td>3419901</td>\n",
       "      <td>OCCITANIE</td>\n",
       "      <td>Musée de Vulliod Saint-Germain</td>\n",
       "      <td>PEZENAS</td>\n",
       "      <td>Gratuite</td>\n",
       "      <td>2008</td>\n",
       "      <td>1733.0</td>\n",
       "    </tr>\n",
       "    <tr>\n",
       "      <th>35365</th>\n",
       "      <td>3419901</td>\n",
       "      <td>OCCITANIE</td>\n",
       "      <td>Musée de Vulliod Saint-Germain</td>\n",
       "      <td>PEZENAS</td>\n",
       "      <td>Payante</td>\n",
       "      <td>2008</td>\n",
       "      <td>2104.0</td>\n",
       "    </tr>\n",
       "    <tr>\n",
       "      <th>55064</th>\n",
       "      <td>3419901</td>\n",
       "      <td>OCCITANIE</td>\n",
       "      <td>Musée de Vulliod Saint-Germain</td>\n",
       "      <td>PEZENAS</td>\n",
       "      <td>Totale</td>\n",
       "      <td>2008</td>\n",
       "      <td>3837.0</td>\n",
       "    </tr>\n",
       "    <tr>\n",
       "      <th>3764</th>\n",
       "      <td>3419901</td>\n",
       "      <td>OCCITANIE</td>\n",
       "      <td>Musée de Vulliod Saint-Germain</td>\n",
       "      <td>PEZENAS</td>\n",
       "      <td>Totale</td>\n",
       "      <td>2009</td>\n",
       "      <td>5522.0</td>\n",
       "    </tr>\n",
       "    <tr>\n",
       "      <th>25138</th>\n",
       "      <td>3419901</td>\n",
       "      <td>OCCITANIE</td>\n",
       "      <td>Musée de Vulliod Saint-Germain</td>\n",
       "      <td>PEZENAS</td>\n",
       "      <td>Gratuite</td>\n",
       "      <td>2009</td>\n",
       "      <td>3356.0</td>\n",
       "    </tr>\n",
       "    <tr>\n",
       "      <th>17188</th>\n",
       "      <td>3419901</td>\n",
       "      <td>OCCITANIE</td>\n",
       "      <td>Musée de Vulliod Saint-Germain</td>\n",
       "      <td>PEZENAS</td>\n",
       "      <td>Payante</td>\n",
       "      <td>2009</td>\n",
       "      <td>2166.0</td>\n",
       "    </tr>\n",
       "    <tr>\n",
       "      <th>21119</th>\n",
       "      <td>3419901</td>\n",
       "      <td>OCCITANIE</td>\n",
       "      <td>Musée de Vulliod Saint-Germain</td>\n",
       "      <td>PEZENAS</td>\n",
       "      <td>Payante</td>\n",
       "      <td>2010</td>\n",
       "      <td>1980.0</td>\n",
       "    </tr>\n",
       "    <tr>\n",
       "      <th>55068</th>\n",
       "      <td>3419901</td>\n",
       "      <td>OCCITANIE</td>\n",
       "      <td>Musée de Vulliod Saint-Germain</td>\n",
       "      <td>PEZENAS</td>\n",
       "      <td>Totale</td>\n",
       "      <td>2010</td>\n",
       "      <td>4971.0</td>\n",
       "    </tr>\n",
       "    <tr>\n",
       "      <th>25141</th>\n",
       "      <td>3419901</td>\n",
       "      <td>OCCITANIE</td>\n",
       "      <td>Musée de Vulliod Saint-Germain</td>\n",
       "      <td>PEZENAS</td>\n",
       "      <td>Gratuite</td>\n",
       "      <td>2010</td>\n",
       "      <td>2991.0</td>\n",
       "    </tr>\n",
       "    <tr>\n",
       "      <th>25140</th>\n",
       "      <td>3419901</td>\n",
       "      <td>OCCITANIE</td>\n",
       "      <td>Musée de Vulliod Saint-Germain</td>\n",
       "      <td>PEZENAS</td>\n",
       "      <td>Gratuite</td>\n",
       "      <td>2011</td>\n",
       "      <td>4603.0</td>\n",
       "    </tr>\n",
       "    <tr>\n",
       "      <th>21118</th>\n",
       "      <td>3419901</td>\n",
       "      <td>OCCITANIE</td>\n",
       "      <td>Musée de Vulliod Saint-Germain</td>\n",
       "      <td>PEZENAS</td>\n",
       "      <td>Payante</td>\n",
       "      <td>2011</td>\n",
       "      <td>1907.0</td>\n",
       "    </tr>\n",
       "    <tr>\n",
       "      <th>11238</th>\n",
       "      <td>3419901</td>\n",
       "      <td>OCCITANIE</td>\n",
       "      <td>Musée de Vulliod Saint-Germain</td>\n",
       "      <td>PEZENAS</td>\n",
       "      <td>Totale</td>\n",
       "      <td>2011</td>\n",
       "      <td>6510.0</td>\n",
       "    </tr>\n",
       "    <tr>\n",
       "      <th>35369</th>\n",
       "      <td>3419901</td>\n",
       "      <td>OCCITANIE</td>\n",
       "      <td>Musée de Vulliod Saint-Germain</td>\n",
       "      <td>PEZENAS</td>\n",
       "      <td>Payante</td>\n",
       "      <td>2012</td>\n",
       "      <td>2979.0</td>\n",
       "    </tr>\n",
       "    <tr>\n",
       "      <th>25142</th>\n",
       "      <td>3419901</td>\n",
       "      <td>OCCITANIE</td>\n",
       "      <td>Musée de Vulliod Saint-Germain</td>\n",
       "      <td>PEZENAS</td>\n",
       "      <td>Gratuite</td>\n",
       "      <td>2012</td>\n",
       "      <td>5115.0</td>\n",
       "    </tr>\n",
       "    <tr>\n",
       "      <th>3768</th>\n",
       "      <td>3419901</td>\n",
       "      <td>OCCITANIE</td>\n",
       "      <td>Musée de Vulliod Saint-Germain</td>\n",
       "      <td>PEZENAS</td>\n",
       "      <td>Totale</td>\n",
       "      <td>2012</td>\n",
       "      <td>8094.0</td>\n",
       "    </tr>\n",
       "    <tr>\n",
       "      <th>53059</th>\n",
       "      <td>3419901</td>\n",
       "      <td>OCCITANIE</td>\n",
       "      <td>Musée de Vulliod Saint-Germain</td>\n",
       "      <td>PEZENAS</td>\n",
       "      <td>Gratuite</td>\n",
       "      <td>2013</td>\n",
       "      <td>5494.0</td>\n",
       "    </tr>\n",
       "    <tr>\n",
       "      <th>55069</th>\n",
       "      <td>3419901</td>\n",
       "      <td>OCCITANIE</td>\n",
       "      <td>Musée de Vulliod Saint-Germain</td>\n",
       "      <td>PEZENAS</td>\n",
       "      <td>Totale</td>\n",
       "      <td>2013</td>\n",
       "      <td>8715.0</td>\n",
       "    </tr>\n",
       "    <tr>\n",
       "      <th>1323</th>\n",
       "      <td>3419901</td>\n",
       "      <td>OCCITANIE</td>\n",
       "      <td>Musée de Vulliod Saint-Germain</td>\n",
       "      <td>PEZENAS</td>\n",
       "      <td>Payante</td>\n",
       "      <td>2013</td>\n",
       "      <td>3221.0</td>\n",
       "    </tr>\n",
       "    <tr>\n",
       "      <th>44129</th>\n",
       "      <td>3419901</td>\n",
       "      <td>OCCITANIE</td>\n",
       "      <td>Musée de Vulliod Saint-Germain</td>\n",
       "      <td>PEZENAS</td>\n",
       "      <td>Gratuite</td>\n",
       "      <td>2014</td>\n",
       "      <td>3085.0</td>\n",
       "    </tr>\n",
       "    <tr>\n",
       "      <th>33588</th>\n",
       "      <td>3419901</td>\n",
       "      <td>OCCITANIE</td>\n",
       "      <td>Musée de Vulliod Saint-Germain</td>\n",
       "      <td>PEZENAS</td>\n",
       "      <td>Payante</td>\n",
       "      <td>2014</td>\n",
       "      <td>4467.0</td>\n",
       "    </tr>\n",
       "    <tr>\n",
       "      <th>55067</th>\n",
       "      <td>3419901</td>\n",
       "      <td>OCCITANIE</td>\n",
       "      <td>Musée de Vulliod Saint-Germain</td>\n",
       "      <td>PEZENAS</td>\n",
       "      <td>Totale</td>\n",
       "      <td>2014</td>\n",
       "      <td>7552.0</td>\n",
       "    </tr>\n",
       "    <tr>\n",
       "      <th>29534</th>\n",
       "      <td>3419901</td>\n",
       "      <td>OCCITANIE</td>\n",
       "      <td>Musée de Vulliod Saint-Germain</td>\n",
       "      <td>PEZENAS</td>\n",
       "      <td>Gratuite</td>\n",
       "      <td>2016</td>\n",
       "      <td>NaN</td>\n",
       "    </tr>\n",
       "    <tr>\n",
       "      <th>53058</th>\n",
       "      <td>3419901</td>\n",
       "      <td>OCCITANIE</td>\n",
       "      <td>Musée de Vulliod Saint-Germain</td>\n",
       "      <td>PEZENAS</td>\n",
       "      <td>Gratuite</td>\n",
       "      <td>2017</td>\n",
       "      <td>1995.0</td>\n",
       "    </tr>\n",
       "    <tr>\n",
       "      <th>17191</th>\n",
       "      <td>3419901</td>\n",
       "      <td>OCCITANIE</td>\n",
       "      <td>Musée de Vulliod Saint-Germain</td>\n",
       "      <td>PEZENAS</td>\n",
       "      <td>Payante</td>\n",
       "      <td>2017</td>\n",
       "      <td>2872.0</td>\n",
       "    </tr>\n",
       "    <tr>\n",
       "      <th>49077</th>\n",
       "      <td>3419901</td>\n",
       "      <td>OCCITANIE</td>\n",
       "      <td>Musée de Vulliod Saint-Germain</td>\n",
       "      <td>PEZENAS</td>\n",
       "      <td>Totale</td>\n",
       "      <td>2017</td>\n",
       "      <td>4867.0</td>\n",
       "    </tr>\n",
       "  </tbody>\n",
       "</table>\n",
       "</div>"
      ],
      "text/plain": [
       "      REF_DU_MUSEE     REGION                    NOM_DU_MUSEE    VILLE  \\\n",
       "55066      3419901  OCCITANIE  Musée de Vulliod Saint-Germain  PEZENAS   \n",
       "17189      3419901  OCCITANIE  Musée de Vulliod Saint-Germain  PEZENAS   \n",
       "53055      3419901  OCCITANIE  Musée de Vulliod Saint-Germain  PEZENAS   \n",
       "53054      3419901  OCCITANIE  Musée de Vulliod Saint-Germain  PEZENAS   \n",
       "3766       3419901  OCCITANIE  Musée de Vulliod Saint-Germain  PEZENAS   \n",
       "33586      3419901  OCCITANIE  Musée de Vulliod Saint-Germain  PEZENAS   \n",
       "41171      3419901  OCCITANIE  Musée de Vulliod Saint-Germain  PEZENAS   \n",
       "35367      3419901  OCCITANIE  Musée de Vulliod Saint-Germain  PEZENAS   \n",
       "55065      3419901  OCCITANIE  Musée de Vulliod Saint-Germain  PEZENAS   \n",
       "53057      3419901  OCCITANIE  Musée de Vulliod Saint-Germain  PEZENAS   \n",
       "11236      3419901  OCCITANIE  Musée de Vulliod Saint-Germain  PEZENAS   \n",
       "21117      3419901  OCCITANIE  Musée de Vulliod Saint-Germain  PEZENAS   \n",
       "25139      3419901  OCCITANIE  Musée de Vulliod Saint-Germain  PEZENAS   \n",
       "11237      3419901  OCCITANIE  Musée de Vulliod Saint-Germain  PEZENAS   \n",
       "17190      3419901  OCCITANIE  Musée de Vulliod Saint-Germain  PEZENAS   \n",
       "49076      3419901  OCCITANIE  Musée de Vulliod Saint-Germain  PEZENAS   \n",
       "1319       3419901  OCCITANIE  Musée de Vulliod Saint-Germain  PEZENAS   \n",
       "53056      3419901  OCCITANIE  Musée de Vulliod Saint-Germain  PEZENAS   \n",
       "1321       3419901  OCCITANIE  Musée de Vulliod Saint-Germain  PEZENAS   \n",
       "44127      3419901  OCCITANIE  Musée de Vulliod Saint-Germain  PEZENAS   \n",
       "11235      3419901  OCCITANIE  Musée de Vulliod Saint-Germain  PEZENAS   \n",
       "44125      3419901  OCCITANIE  Musée de Vulliod Saint-Germain  PEZENAS   \n",
       "35365      3419901  OCCITANIE  Musée de Vulliod Saint-Germain  PEZENAS   \n",
       "55064      3419901  OCCITANIE  Musée de Vulliod Saint-Germain  PEZENAS   \n",
       "3764       3419901  OCCITANIE  Musée de Vulliod Saint-Germain  PEZENAS   \n",
       "25138      3419901  OCCITANIE  Musée de Vulliod Saint-Germain  PEZENAS   \n",
       "17188      3419901  OCCITANIE  Musée de Vulliod Saint-Germain  PEZENAS   \n",
       "21119      3419901  OCCITANIE  Musée de Vulliod Saint-Germain  PEZENAS   \n",
       "55068      3419901  OCCITANIE  Musée de Vulliod Saint-Germain  PEZENAS   \n",
       "25141      3419901  OCCITANIE  Musée de Vulliod Saint-Germain  PEZENAS   \n",
       "25140      3419901  OCCITANIE  Musée de Vulliod Saint-Germain  PEZENAS   \n",
       "21118      3419901  OCCITANIE  Musée de Vulliod Saint-Germain  PEZENAS   \n",
       "11238      3419901  OCCITANIE  Musée de Vulliod Saint-Germain  PEZENAS   \n",
       "35369      3419901  OCCITANIE  Musée de Vulliod Saint-Germain  PEZENAS   \n",
       "25142      3419901  OCCITANIE  Musée de Vulliod Saint-Germain  PEZENAS   \n",
       "3768       3419901  OCCITANIE  Musée de Vulliod Saint-Germain  PEZENAS   \n",
       "53059      3419901  OCCITANIE  Musée de Vulliod Saint-Germain  PEZENAS   \n",
       "55069      3419901  OCCITANIE  Musée de Vulliod Saint-Germain  PEZENAS   \n",
       "1323       3419901  OCCITANIE  Musée de Vulliod Saint-Germain  PEZENAS   \n",
       "44129      3419901  OCCITANIE  Musée de Vulliod Saint-Germain  PEZENAS   \n",
       "33588      3419901  OCCITANIE  Musée de Vulliod Saint-Germain  PEZENAS   \n",
       "55067      3419901  OCCITANIE  Musée de Vulliod Saint-Germain  PEZENAS   \n",
       "29534      3419901  OCCITANIE  Musée de Vulliod Saint-Germain  PEZENAS   \n",
       "53058      3419901  OCCITANIE  Musée de Vulliod Saint-Germain  PEZENAS   \n",
       "17191      3419901  OCCITANIE  Musée de Vulliod Saint-Germain  PEZENAS   \n",
       "49077      3419901  OCCITANIE  Musée de Vulliod Saint-Germain  PEZENAS   \n",
       "\n",
       "      Type_de_fréquentation  Année  Entrées  \n",
       "55066                Totale   2001   6168.0  \n",
       "17189               Payante   2001   3570.0  \n",
       "53055              Gratuite   2001   2598.0  \n",
       "53054              Gratuite   2002   2982.0  \n",
       "3766                 Totale   2002   5517.0  \n",
       "33586               Payante   2002   2535.0  \n",
       "41171              Gratuite   2003   2719.0  \n",
       "35367               Payante   2003   2314.0  \n",
       "55065                Totale   2003   5033.0  \n",
       "53057              Gratuite   2004      0.0  \n",
       "11236                Totale   2004   4451.0  \n",
       "21117               Payante   2004   4451.0  \n",
       "25139              Gratuite   2005   1943.0  \n",
       "11237                Totale   2005   3742.0  \n",
       "17190               Payante   2005   1799.0  \n",
       "49076                Totale   2006   3984.0  \n",
       "1319                Payante   2006   1732.0  \n",
       "53056              Gratuite   2006   2252.0  \n",
       "1321                Payante   2007   1782.0  \n",
       "44127              Gratuite   2007      0.0  \n",
       "11235                Totale   2007   1782.0  \n",
       "44125              Gratuite   2008   1733.0  \n",
       "35365               Payante   2008   2104.0  \n",
       "55064                Totale   2008   3837.0  \n",
       "3764                 Totale   2009   5522.0  \n",
       "25138              Gratuite   2009   3356.0  \n",
       "17188               Payante   2009   2166.0  \n",
       "21119               Payante   2010   1980.0  \n",
       "55068                Totale   2010   4971.0  \n",
       "25141              Gratuite   2010   2991.0  \n",
       "25140              Gratuite   2011   4603.0  \n",
       "21118               Payante   2011   1907.0  \n",
       "11238                Totale   2011   6510.0  \n",
       "35369               Payante   2012   2979.0  \n",
       "25142              Gratuite   2012   5115.0  \n",
       "3768                 Totale   2012   8094.0  \n",
       "53059              Gratuite   2013   5494.0  \n",
       "55069                Totale   2013   8715.0  \n",
       "1323                Payante   2013   3221.0  \n",
       "44129              Gratuite   2014   3085.0  \n",
       "33588               Payante   2014   4467.0  \n",
       "55067                Totale   2014   7552.0  \n",
       "29534              Gratuite   2016      NaN  \n",
       "53058              Gratuite   2017   1995.0  \n",
       "17191               Payante   2017   2872.0  \n",
       "49077                Totale   2017   4867.0  "
      ]
     },
     "execution_count": 17,
     "metadata": {},
     "output_type": "execute_result"
    }
   ],
   "source": [
    "df_freq[df_freq['NOM_DU_MUSEE']=='Musée de Vulliod Saint-Germain'].sort_values(by=['Année'])"
   ]
  },
  {
   "cell_type": "markdown",
   "metadata": {
    "hidden": true
   },
   "source": [
    "#### Réorganisation du DataFrame:"
   ]
  },
  {
   "cell_type": "code",
   "execution_count": 18,
   "metadata": {
    "hidden": true
   },
   "outputs": [
    {
     "data": {
      "text/plain": [
       "array([2001, 2002, 2003, 2004, 2005, 2006, 2007, 2008, 2009, 2010, 2011,\n",
       "       2012, 2013, 2014, 2015, 2016, 2017], dtype=int64)"
      ]
     },
     "execution_count": 18,
     "metadata": {},
     "output_type": "execute_result"
    }
   ],
   "source": [
    "unique_annees = np.sort(df_freq['Année'].unique())\n",
    "unique_annees"
   ]
  },
  {
   "cell_type": "code",
   "execution_count": 19,
   "metadata": {
    "hidden": true
   },
   "outputs": [
    {
     "data": {
      "text/plain": [
       "array(['Gratuite', 'Payante', 'Totale'], dtype=object)"
      ]
     },
     "execution_count": 19,
     "metadata": {},
     "output_type": "execute_result"
    }
   ],
   "source": [
    "unique_type_freq = np.sort(df_freq['Type_de_fréquentation'].unique())\n",
    "unique_type_freq"
   ]
  },
  {
   "cell_type": "markdown",
   "metadata": {
    "hidden": true
   },
   "source": [
    "### Saving the results:"
   ]
  },
  {
   "cell_type": "code",
   "execution_count": 20,
   "metadata": {
    "hidden": true
   },
   "outputs": [],
   "source": [
    "df_freq.to_csv('data_clean/df_freq_clean.csv', index=False)"
   ]
  },
  {
   "cell_type": "markdown",
   "metadata": {
    "heading_collapsed": true
   },
   "source": [
    "## Base Muséofile :"
   ]
  },
  {
   "cell_type": "markdown",
   "metadata": {
    "hidden": true
   },
   "source": [
    "### Opening"
   ]
  },
  {
   "cell_type": "code",
   "execution_count": 21,
   "metadata": {
    "hidden": true
   },
   "outputs": [],
   "source": [
    "df_museofile = pd.read_csv('data/musees-de-france-base-museofile.csv', sep=';')"
   ]
  },
  {
   "cell_type": "markdown",
   "metadata": {
    "hidden": true
   },
   "source": [
    "### Basic information"
   ]
  },
  {
   "cell_type": "code",
   "execution_count": 22,
   "metadata": {
    "hidden": true
   },
   "outputs": [
    {
     "data": {
      "text/plain": [
       "(1216, 23)"
      ]
     },
     "execution_count": 22,
     "metadata": {},
     "output_type": "execute_result"
    }
   ],
   "source": [
    "df_museofile.shape"
   ]
  },
  {
   "cell_type": "code",
   "execution_count": 23,
   "metadata": {
    "hidden": true
   },
   "outputs": [
    {
     "data": {
      "text/html": [
       "<div>\n",
       "<style scoped>\n",
       "    .dataframe tbody tr th:only-of-type {\n",
       "        vertical-align: middle;\n",
       "    }\n",
       "\n",
       "    .dataframe tbody tr th {\n",
       "        vertical-align: top;\n",
       "    }\n",
       "\n",
       "    .dataframe thead th {\n",
       "        text-align: right;\n",
       "    }\n",
       "</style>\n",
       "<table border=\"1\" class=\"dataframe\">\n",
       "  <thead>\n",
       "    <tr style=\"text-align: right;\">\n",
       "      <th></th>\n",
       "      <th>Identifiant</th>\n",
       "      <th>Adresse</th>\n",
       "      <th>Artiste</th>\n",
       "      <th>Atout</th>\n",
       "      <th>Catégorie</th>\n",
       "      <th>Code Postal</th>\n",
       "      <th>Domaine thématique</th>\n",
       "      <th>Département</th>\n",
       "      <th>Date de saisie</th>\n",
       "      <th>Histoire</th>\n",
       "      <th>...</th>\n",
       "      <th>Nom usage</th>\n",
       "      <th>Personnage phare</th>\n",
       "      <th>Protection bâtiment</th>\n",
       "      <th>Protection espace</th>\n",
       "      <th>Région</th>\n",
       "      <th>Téléphone</th>\n",
       "      <th>Thèmes</th>\n",
       "      <th>URL</th>\n",
       "      <th>Ville</th>\n",
       "      <th>geolocalisation</th>\n",
       "    </tr>\n",
       "  </thead>\n",
       "  <tbody>\n",
       "    <tr>\n",
       "      <th>0</th>\n",
       "      <td>M0410</td>\n",
       "      <td>Parc de Bécon, 178 Boulevard Saint Denis</td>\n",
       "      <td>Ary Scheffer, René Ménard, Fernand Roybet, Car...</td>\n",
       "      <td>Situé dans le parc de Bécon dont l’origine rem...</td>\n",
       "      <td>Maison d'artiste</td>\n",
       "      <td>92400.0</td>\n",
       "      <td>Arts décoratifs;Art moderne et contemporain;Be...</td>\n",
       "      <td>Hauts-de-Seine</td>\n",
       "      <td>2019-01-21</td>\n",
       "      <td>Les collections furent constituées au départ p...</td>\n",
       "      <td>...</td>\n",
       "      <td>NaN</td>\n",
       "      <td>Le musée présente des oeuvres de la seconde mo...</td>\n",
       "      <td>NaN</td>\n",
       "      <td>Aux abords d'un monument historique ; Dans un ...</td>\n",
       "      <td>Ile-de-France</td>\n",
       "      <td>01 71 05 77 92</td>\n",
       "      <td>Beaux-Arts : Dessin, Estampe et Affiche, Peint...</td>\n",
       "      <td>www.museeroybetfould.fr</td>\n",
       "      <td>Courbevoie</td>\n",
       "      <td>48.900998,2.271279</td>\n",
       "    </tr>\n",
       "    <tr>\n",
       "      <th>1</th>\n",
       "      <td>M5050</td>\n",
       "      <td>Place Georges Pompidou</td>\n",
       "      <td>Arman, Arp, Ben, Brancusi, Braque, Calder, Cés...</td>\n",
       "      <td>Le musée National d'Art Moderne/Centre de Créa...</td>\n",
       "      <td>NaN</td>\n",
       "      <td>75191.0</td>\n",
       "      <td>Art moderne et contemporain;Photographie;Techn...</td>\n",
       "      <td>Paris</td>\n",
       "      <td>2019-01-21</td>\n",
       "      <td>En 1818 on consacre le musée du Luxembourg aux...</td>\n",
       "      <td>...</td>\n",
       "      <td>Musée national d'Art Moderne</td>\n",
       "      <td>NaN</td>\n",
       "      <td>NaN</td>\n",
       "      <td>Dans un site patrimonial remarquable</td>\n",
       "      <td>Ile-de-France</td>\n",
       "      <td>01 44 78 12 33</td>\n",
       "      <td>Architecture et urbanisme;Art moderne et conte...</td>\n",
       "      <td>www.centrepompidou.fr</td>\n",
       "      <td>Paris</td>\n",
       "      <td>NaN</td>\n",
       "    </tr>\n",
       "    <tr>\n",
       "      <th>2</th>\n",
       "      <td>M5076</td>\n",
       "      <td>Place Monsenergue</td>\n",
       "      <td>Joseph Vernet, Pascal de La Rose, Morel-Fatio,...</td>\n",
       "      <td>Conservatoire de l'histoire de l'arsenal et du...</td>\n",
       "      <td>NaN</td>\n",
       "      <td>83000.0</td>\n",
       "      <td>Histoire</td>\n",
       "      <td>Var</td>\n",
       "      <td>2019-01-21</td>\n",
       "      <td>Créé à la fin du Premier Empire et ouvert au p...</td>\n",
       "      <td>...</td>\n",
       "      <td>Musée National de La Marine</td>\n",
       "      <td>NaN</td>\n",
       "      <td>Abords d'un Monument Historique</td>\n",
       "      <td>NaN</td>\n",
       "      <td>Provence-Alpes-Côte d'Azur</td>\n",
       "      <td>04 94 02 02 01</td>\n",
       "      <td>Archéologie nationale : Gallo-romain, Moderne;...</td>\n",
       "      <td>www.musee-marine.fr</td>\n",
       "      <td>Toulon</td>\n",
       "      <td>43.122018,5.929368</td>\n",
       "    </tr>\n",
       "    <tr>\n",
       "      <th>3</th>\n",
       "      <td>M5071</td>\n",
       "      <td>129 rue de Grenelle</td>\n",
       "      <td>NaN</td>\n",
       "      <td>Objets d'art et supports pédagogiques. Collect...</td>\n",
       "      <td>NaN</td>\n",
       "      <td>75007.0</td>\n",
       "      <td>Histoire;Technique et industrie</td>\n",
       "      <td>Paris</td>\n",
       "      <td>2019-01-21</td>\n",
       "      <td>Collection de maquettes historiques de villes ...</td>\n",
       "      <td>...</td>\n",
       "      <td>Musée des Plans-Reliefs</td>\n",
       "      <td>Vauban - Louis XIV - Napoléon Ier</td>\n",
       "      <td>NaN</td>\n",
       "      <td>NaN</td>\n",
       "      <td>Ile-de-France</td>\n",
       "      <td>01 45 51 95 05</td>\n",
       "      <td>Architecture et urbanisme;Collections militair...</td>\n",
       "      <td>www.museedesplansreliefs.culture.fr/</td>\n",
       "      <td>Paris</td>\n",
       "      <td>48.858219,2.312885</td>\n",
       "    </tr>\n",
       "    <tr>\n",
       "      <th>4</th>\n",
       "      <td>M0387</td>\n",
       "      <td>Place Gévelot</td>\n",
       "      <td>NaN</td>\n",
       "      <td>Maquettes anciennes de bateaux fluviaux, archi...</td>\n",
       "      <td>NaN</td>\n",
       "      <td>78700.0</td>\n",
       "      <td>Beaux-arts;Histoire;Technique et industrie</td>\n",
       "      <td>Yvelines</td>\n",
       "      <td>2019-01-21</td>\n",
       "      <td>Les collections du musée ont été constituées d...</td>\n",
       "      <td>...</td>\n",
       "      <td>musée de la batellerie et des voies navigables</td>\n",
       "      <td>NaN</td>\n",
       "      <td>NaN</td>\n",
       "      <td>Dans un site inscrit</td>\n",
       "      <td>Ile-de-France</td>\n",
       "      <td>01 34 90 39 50</td>\n",
       "      <td>Ethnologie : Métiers et Outils;Histoire : Musé...</td>\n",
       "      <td>www.conflans-sainte-honorine.fr/decouvrir-et-s...</td>\n",
       "      <td>Conflans-Sainte-Honorine</td>\n",
       "      <td>48.992445,2.095621</td>\n",
       "    </tr>\n",
       "  </tbody>\n",
       "</table>\n",
       "<p>5 rows × 23 columns</p>\n",
       "</div>"
      ],
      "text/plain": [
       "  Identifiant                                   Adresse  \\\n",
       "0       M0410  Parc de Bécon, 178 Boulevard Saint Denis   \n",
       "1       M5050                    Place Georges Pompidou   \n",
       "2       M5076                         Place Monsenergue   \n",
       "3       M5071                       129 rue de Grenelle   \n",
       "4       M0387                             Place Gévelot   \n",
       "\n",
       "                                             Artiste  \\\n",
       "0  Ary Scheffer, René Ménard, Fernand Roybet, Car...   \n",
       "1  Arman, Arp, Ben, Brancusi, Braque, Calder, Cés...   \n",
       "2  Joseph Vernet, Pascal de La Rose, Morel-Fatio,...   \n",
       "3                                                NaN   \n",
       "4                                                NaN   \n",
       "\n",
       "                                               Atout         Catégorie  \\\n",
       "0  Situé dans le parc de Bécon dont l’origine rem...  Maison d'artiste   \n",
       "1  Le musée National d'Art Moderne/Centre de Créa...               NaN   \n",
       "2  Conservatoire de l'histoire de l'arsenal et du...               NaN   \n",
       "3  Objets d'art et supports pédagogiques. Collect...               NaN   \n",
       "4  Maquettes anciennes de bateaux fluviaux, archi...               NaN   \n",
       "\n",
       "   Code Postal                                 Domaine thématique  \\\n",
       "0      92400.0  Arts décoratifs;Art moderne et contemporain;Be...   \n",
       "1      75191.0  Art moderne et contemporain;Photographie;Techn...   \n",
       "2      83000.0                                           Histoire   \n",
       "3      75007.0                    Histoire;Technique et industrie   \n",
       "4      78700.0         Beaux-arts;Histoire;Technique et industrie   \n",
       "\n",
       "      Département Date de saisie  \\\n",
       "0  Hauts-de-Seine     2019-01-21   \n",
       "1           Paris     2019-01-21   \n",
       "2             Var     2019-01-21   \n",
       "3           Paris     2019-01-21   \n",
       "4        Yvelines     2019-01-21   \n",
       "\n",
       "                                            Histoire  ...  \\\n",
       "0  Les collections furent constituées au départ p...  ...   \n",
       "1  En 1818 on consacre le musée du Luxembourg aux...  ...   \n",
       "2  Créé à la fin du Premier Empire et ouvert au p...  ...   \n",
       "3  Collection de maquettes historiques de villes ...  ...   \n",
       "4  Les collections du musée ont été constituées d...  ...   \n",
       "\n",
       "                                        Nom usage  \\\n",
       "0                                             NaN   \n",
       "1                    Musée national d'Art Moderne   \n",
       "2                     Musée National de La Marine   \n",
       "3                         Musée des Plans-Reliefs   \n",
       "4  musée de la batellerie et des voies navigables   \n",
       "\n",
       "                                    Personnage phare  \\\n",
       "0  Le musée présente des oeuvres de la seconde mo...   \n",
       "1                                                NaN   \n",
       "2                                                NaN   \n",
       "3                  Vauban - Louis XIV - Napoléon Ier   \n",
       "4                                                NaN   \n",
       "\n",
       "               Protection bâtiment  \\\n",
       "0                              NaN   \n",
       "1                              NaN   \n",
       "2  Abords d'un Monument Historique   \n",
       "3                              NaN   \n",
       "4                              NaN   \n",
       "\n",
       "                                   Protection espace  \\\n",
       "0  Aux abords d'un monument historique ; Dans un ...   \n",
       "1               Dans un site patrimonial remarquable   \n",
       "2                                                NaN   \n",
       "3                                                NaN   \n",
       "4                               Dans un site inscrit   \n",
       "\n",
       "                       Région       Téléphone  \\\n",
       "0               Ile-de-France  01 71 05 77 92   \n",
       "1               Ile-de-France  01 44 78 12 33   \n",
       "2  Provence-Alpes-Côte d'Azur  04 94 02 02 01   \n",
       "3               Ile-de-France  01 45 51 95 05   \n",
       "4               Ile-de-France  01 34 90 39 50   \n",
       "\n",
       "                                              Thèmes  \\\n",
       "0  Beaux-Arts : Dessin, Estampe et Affiche, Peint...   \n",
       "1  Architecture et urbanisme;Art moderne et conte...   \n",
       "2  Archéologie nationale : Gallo-romain, Moderne;...   \n",
       "3  Architecture et urbanisme;Collections militair...   \n",
       "4  Ethnologie : Métiers et Outils;Histoire : Musé...   \n",
       "\n",
       "                                                 URL  \\\n",
       "0                            www.museeroybetfould.fr   \n",
       "1                              www.centrepompidou.fr   \n",
       "2                                www.musee-marine.fr   \n",
       "3               www.museedesplansreliefs.culture.fr/   \n",
       "4  www.conflans-sainte-honorine.fr/decouvrir-et-s...   \n",
       "\n",
       "                      Ville     geolocalisation  \n",
       "0                Courbevoie  48.900998,2.271279  \n",
       "1                     Paris                 NaN  \n",
       "2                    Toulon  43.122018,5.929368  \n",
       "3                     Paris  48.858219,2.312885  \n",
       "4  Conflans-Sainte-Honorine  48.992445,2.095621  \n",
       "\n",
       "[5 rows x 23 columns]"
      ]
     },
     "execution_count": 23,
     "metadata": {},
     "output_type": "execute_result"
    }
   ],
   "source": [
    "df_museofile.head()"
   ]
  },
  {
   "cell_type": "markdown",
   "metadata": {
    "hidden": true
   },
   "source": [
    "#### Nans :"
   ]
  },
  {
   "cell_type": "code",
   "execution_count": 24,
   "metadata": {
    "hidden": true
   },
   "outputs": [
    {
     "data": {
      "text/plain": [
       "Identifiant              0\n",
       "Adresse                 68\n",
       "Artiste                776\n",
       "Atout                   90\n",
       "Catégorie              959\n",
       "Code Postal              1\n",
       "Domaine thématique      37\n",
       "Département              0\n",
       "Date de saisie          37\n",
       "Histoire               104\n",
       "Intérêt                353\n",
       "Lieu                   702\n",
       "Nom officiel             1\n",
       "Nom usage              486\n",
       "Personnage phare       658\n",
       "Protection bâtiment    778\n",
       "Protection espace      669\n",
       "Région                   0\n",
       "Téléphone               27\n",
       "Thèmes                 132\n",
       "URL                    138\n",
       "Ville                    0\n",
       "geolocalisation        102\n",
       "dtype: int64"
      ]
     },
     "execution_count": 24,
     "metadata": {},
     "output_type": "execute_result"
    }
   ],
   "source": [
    "df_museofile.isna().sum()"
   ]
  },
  {
   "cell_type": "markdown",
   "metadata": {
    "hidden": true
   },
   "source": [
    "Il y a 102 géolocalisations manquantes sur les 1216 musées présents dans ce dataset."
   ]
  },
  {
   "cell_type": "markdown",
   "metadata": {
    "hidden": true
   },
   "source": [
    "### Cleaning :"
   ]
  },
  {
   "cell_type": "markdown",
   "metadata": {
    "hidden": true
   },
   "source": [
    "#### Restricting the DataFrame:"
   ]
  },
  {
   "cell_type": "markdown",
   "metadata": {
    "hidden": true
   },
   "source": [
    "**Pour des raisons de simplicité, nous n'allons considérer que les musées dont la géolocalisation est présente**:"
   ]
  },
  {
   "cell_type": "code",
   "execution_count": 25,
   "metadata": {
    "hidden": true
   },
   "outputs": [],
   "source": [
    "df_geo_museofile=df_museofile.dropna(subset=['geolocalisation'], axis=0)"
   ]
  },
  {
   "cell_type": "code",
   "execution_count": 26,
   "metadata": {
    "hidden": true
   },
   "outputs": [
    {
     "data": {
      "text/plain": [
       "(1114, 23)"
      ]
     },
     "execution_count": 26,
     "metadata": {},
     "output_type": "execute_result"
    }
   ],
   "source": [
    "df_geo_museofile.shape"
   ]
  },
  {
   "cell_type": "markdown",
   "metadata": {
    "hidden": true
   },
   "source": [
    "Sur les **1216** musées au départ, **1114** sont maintenant considérés. "
   ]
  },
  {
   "cell_type": "markdown",
   "metadata": {
    "hidden": true
   },
   "source": [
    "#### Renaming columns:"
   ]
  },
  {
   "cell_type": "markdown",
   "metadata": {
    "hidden": true
   },
   "source": [
    "Noms des colonnes au départ:"
   ]
  },
  {
   "cell_type": "code",
   "execution_count": 27,
   "metadata": {
    "hidden": true
   },
   "outputs": [
    {
     "data": {
      "text/plain": [
       "Index(['Identifiant', 'Adresse', 'Artiste', 'Atout', 'Catégorie',\n",
       "       'Code Postal', 'Domaine thématique', 'Département', 'Date de saisie',\n",
       "       'Histoire', 'Intérêt', 'Lieu', 'Nom officiel', 'Nom usage',\n",
       "       'Personnage phare', 'Protection bâtiment', 'Protection espace',\n",
       "       'Région', 'Téléphone', 'Thèmes', 'URL', 'Ville', 'geolocalisation'],\n",
       "      dtype='object')"
      ]
     },
     "execution_count": 27,
     "metadata": {},
     "output_type": "execute_result"
    }
   ],
   "source": [
    "df_geo_museofile.columns"
   ]
  },
  {
   "cell_type": "markdown",
   "metadata": {
    "hidden": true
   },
   "source": [
    "Tout comme avec la base de fréquentation des musées, certains noms de colonnes comportent des espaces, on utilise la fonction définie plus haut `rename_columns_spaces` pour remédier à cela."
   ]
  },
  {
   "cell_type": "markdown",
   "metadata": {
    "hidden": true
   },
   "source": [
    "Application de la fonction:"
   ]
  },
  {
   "cell_type": "code",
   "execution_count": 28,
   "metadata": {
    "hidden": true
   },
   "outputs": [],
   "source": [
    "df_geo_museofile=rename_columns_spaces(df_geo_museofile)"
   ]
  },
  {
   "cell_type": "markdown",
   "metadata": {
    "hidden": true
   },
   "source": [
    "Vérification du résultat de la fonction:"
   ]
  },
  {
   "cell_type": "code",
   "execution_count": 29,
   "metadata": {
    "hidden": true
   },
   "outputs": [
    {
     "data": {
      "text/plain": [
       "Index(['Identifiant', 'Adresse', 'Artiste', 'Atout', 'Catégorie',\n",
       "       'Code_Postal', 'Domaine_thématique', 'Département', 'Date_de_saisie',\n",
       "       'Histoire', 'Intérêt', 'Lieu', 'Nom_officiel', 'Nom_usage',\n",
       "       'Personnage_phare', 'Protection_bâtiment', 'Protection_espace',\n",
       "       'Région', 'Téléphone', 'Thèmes', 'URL', 'Ville', 'geolocalisation'],\n",
       "      dtype='object')"
      ]
     },
     "execution_count": 29,
     "metadata": {},
     "output_type": "execute_result"
    }
   ],
   "source": [
    "df_geo_museofile.columns"
   ]
  },
  {
   "cell_type": "markdown",
   "metadata": {
    "hidden": true
   },
   "source": [
    "Les colonnes ont bien été modifiées."
   ]
  },
  {
   "cell_type": "markdown",
   "metadata": {
    "heading_collapsed": true,
    "hidden": true
   },
   "source": [
    "#### From GPS coordinates to Mercator projection:"
   ]
  },
  {
   "cell_type": "code",
   "execution_count": 30,
   "metadata": {
    "hidden": true,
    "scrolled": true
   },
   "outputs": [],
   "source": [
    "#Defining the geographical coordinates : \n",
    "df_coord=df_geo_museofile['geolocalisation'].str.split(',', expand=True).rename(columns={0:'coord_x', 1:'coord_y'})"
   ]
  },
  {
   "cell_type": "code",
   "execution_count": 31,
   "metadata": {
    "hidden": true
   },
   "outputs": [],
   "source": [
    "df_geo_museofile=df_geo_museofile.join(df_coord)"
   ]
  },
  {
   "cell_type": "code",
   "execution_count": 32,
   "metadata": {
    "hidden": true,
    "scrolled": true
   },
   "outputs": [
    {
     "data": {
      "text/html": [
       "<div>\n",
       "<style scoped>\n",
       "    .dataframe tbody tr th:only-of-type {\n",
       "        vertical-align: middle;\n",
       "    }\n",
       "\n",
       "    .dataframe tbody tr th {\n",
       "        vertical-align: top;\n",
       "    }\n",
       "\n",
       "    .dataframe thead th {\n",
       "        text-align: right;\n",
       "    }\n",
       "</style>\n",
       "<table border=\"1\" class=\"dataframe\">\n",
       "  <thead>\n",
       "    <tr style=\"text-align: right;\">\n",
       "      <th></th>\n",
       "      <th>Identifiant</th>\n",
       "      <th>Adresse</th>\n",
       "      <th>Artiste</th>\n",
       "      <th>Atout</th>\n",
       "      <th>Catégorie</th>\n",
       "      <th>Code_Postal</th>\n",
       "      <th>Domaine_thématique</th>\n",
       "      <th>Département</th>\n",
       "      <th>Date_de_saisie</th>\n",
       "      <th>Histoire</th>\n",
       "      <th>...</th>\n",
       "      <th>Protection_bâtiment</th>\n",
       "      <th>Protection_espace</th>\n",
       "      <th>Région</th>\n",
       "      <th>Téléphone</th>\n",
       "      <th>Thèmes</th>\n",
       "      <th>URL</th>\n",
       "      <th>Ville</th>\n",
       "      <th>geolocalisation</th>\n",
       "      <th>coord_x</th>\n",
       "      <th>coord_y</th>\n",
       "    </tr>\n",
       "  </thead>\n",
       "  <tbody>\n",
       "    <tr>\n",
       "      <th>0</th>\n",
       "      <td>M0410</td>\n",
       "      <td>Parc de Bécon, 178 Boulevard Saint Denis</td>\n",
       "      <td>Ary Scheffer, René Ménard, Fernand Roybet, Car...</td>\n",
       "      <td>Situé dans le parc de Bécon dont l’origine rem...</td>\n",
       "      <td>Maison d'artiste</td>\n",
       "      <td>92400.0</td>\n",
       "      <td>Arts décoratifs;Art moderne et contemporain;Be...</td>\n",
       "      <td>Hauts-de-Seine</td>\n",
       "      <td>2019-01-21</td>\n",
       "      <td>Les collections furent constituées au départ p...</td>\n",
       "      <td>...</td>\n",
       "      <td>NaN</td>\n",
       "      <td>Aux abords d'un monument historique ; Dans un ...</td>\n",
       "      <td>Ile-de-France</td>\n",
       "      <td>01 71 05 77 92</td>\n",
       "      <td>Beaux-Arts : Dessin, Estampe et Affiche, Peint...</td>\n",
       "      <td>www.museeroybetfould.fr</td>\n",
       "      <td>Courbevoie</td>\n",
       "      <td>48.900998,2.271279</td>\n",
       "      <td>48.900998</td>\n",
       "      <td>2.271279</td>\n",
       "    </tr>\n",
       "  </tbody>\n",
       "</table>\n",
       "<p>1 rows × 25 columns</p>\n",
       "</div>"
      ],
      "text/plain": [
       "  Identifiant                                   Adresse  \\\n",
       "0       M0410  Parc de Bécon, 178 Boulevard Saint Denis   \n",
       "\n",
       "                                             Artiste  \\\n",
       "0  Ary Scheffer, René Ménard, Fernand Roybet, Car...   \n",
       "\n",
       "                                               Atout         Catégorie  \\\n",
       "0  Situé dans le parc de Bécon dont l’origine rem...  Maison d'artiste   \n",
       "\n",
       "   Code_Postal                                 Domaine_thématique  \\\n",
       "0      92400.0  Arts décoratifs;Art moderne et contemporain;Be...   \n",
       "\n",
       "      Département Date_de_saisie  \\\n",
       "0  Hauts-de-Seine     2019-01-21   \n",
       "\n",
       "                                            Histoire  ... Protection_bâtiment  \\\n",
       "0  Les collections furent constituées au départ p...  ...                 NaN   \n",
       "\n",
       "                                   Protection_espace         Région  \\\n",
       "0  Aux abords d'un monument historique ; Dans un ...  Ile-de-France   \n",
       "\n",
       "        Téléphone                                             Thèmes  \\\n",
       "0  01 71 05 77 92  Beaux-Arts : Dessin, Estampe et Affiche, Peint...   \n",
       "\n",
       "                       URL       Ville     geolocalisation    coord_x  \\\n",
       "0  www.museeroybetfould.fr  Courbevoie  48.900998,2.271279  48.900998   \n",
       "\n",
       "    coord_y  \n",
       "0  2.271279  \n",
       "\n",
       "[1 rows x 25 columns]"
      ]
     },
     "execution_count": 32,
     "metadata": {},
     "output_type": "execute_result"
    }
   ],
   "source": [
    "df_geo_museofile.head(1)"
   ]
  },
  {
   "cell_type": "markdown",
   "metadata": {
    "hidden": true
   },
   "source": [
    "Nous avons maintenant deux colonnes : \n",
    "- `coord_x`\n",
    "- `coord_y`\n",
    "\n",
    "correspondant aux coordonnées GPS, au lieu d'une seule contenant ces deux informations, ce qui va simplifier le travail ensuite."
   ]
  },
  {
   "cell_type": "markdown",
   "metadata": {
    "hidden": true
   },
   "source": [
    "Fonction pour convertir les coordonnées, des coordonnées GPS aux coordonnées MERCATOR:"
   ]
  },
  {
   "cell_type": "code",
   "execution_count": 33,
   "metadata": {
    "hidden": true
   },
   "outputs": [],
   "source": [
    "def convertCoords(row):\n",
    "    x2,y2=Proj('epsg:3857')(row['coord_y'],row['coord_x'])\n",
    "    return pd.Series({'merc_x':x2,'merc_y':y2})"
   ]
  },
  {
   "cell_type": "markdown",
   "metadata": {
    "hidden": true
   },
   "source": [
    "On applique la fonction sur le dataset:"
   ]
  },
  {
   "cell_type": "code",
   "execution_count": 34,
   "metadata": {
    "hidden": true
   },
   "outputs": [],
   "source": [
    "df_geo_museofile = df_geo_museofile.join(df_geo_museofile.apply(convertCoords, axis=1))"
   ]
  },
  {
   "cell_type": "markdown",
   "metadata": {
    "hidden": true
   },
   "source": [
    "On vérifie le résultat:"
   ]
  },
  {
   "cell_type": "code",
   "execution_count": 35,
   "metadata": {
    "hidden": true
   },
   "outputs": [
    {
     "data": {
      "text/html": [
       "<div>\n",
       "<style scoped>\n",
       "    .dataframe tbody tr th:only-of-type {\n",
       "        vertical-align: middle;\n",
       "    }\n",
       "\n",
       "    .dataframe tbody tr th {\n",
       "        vertical-align: top;\n",
       "    }\n",
       "\n",
       "    .dataframe thead th {\n",
       "        text-align: right;\n",
       "    }\n",
       "</style>\n",
       "<table border=\"1\" class=\"dataframe\">\n",
       "  <thead>\n",
       "    <tr style=\"text-align: right;\">\n",
       "      <th></th>\n",
       "      <th>Identifiant</th>\n",
       "      <th>Adresse</th>\n",
       "      <th>Artiste</th>\n",
       "      <th>Atout</th>\n",
       "      <th>Catégorie</th>\n",
       "      <th>Code_Postal</th>\n",
       "      <th>Domaine_thématique</th>\n",
       "      <th>Département</th>\n",
       "      <th>Date_de_saisie</th>\n",
       "      <th>Histoire</th>\n",
       "      <th>...</th>\n",
       "      <th>Région</th>\n",
       "      <th>Téléphone</th>\n",
       "      <th>Thèmes</th>\n",
       "      <th>URL</th>\n",
       "      <th>Ville</th>\n",
       "      <th>geolocalisation</th>\n",
       "      <th>coord_x</th>\n",
       "      <th>coord_y</th>\n",
       "      <th>merc_x</th>\n",
       "      <th>merc_y</th>\n",
       "    </tr>\n",
       "  </thead>\n",
       "  <tbody>\n",
       "    <tr>\n",
       "      <th>0</th>\n",
       "      <td>M0410</td>\n",
       "      <td>Parc de Bécon, 178 Boulevard Saint Denis</td>\n",
       "      <td>Ary Scheffer, René Ménard, Fernand Roybet, Car...</td>\n",
       "      <td>Situé dans le parc de Bécon dont l’origine rem...</td>\n",
       "      <td>Maison d'artiste</td>\n",
       "      <td>92400.0</td>\n",
       "      <td>Arts décoratifs;Art moderne et contemporain;Be...</td>\n",
       "      <td>Hauts-de-Seine</td>\n",
       "      <td>2019-01-21</td>\n",
       "      <td>Les collections furent constituées au départ p...</td>\n",
       "      <td>...</td>\n",
       "      <td>Ile-de-France</td>\n",
       "      <td>01 71 05 77 92</td>\n",
       "      <td>Beaux-Arts : Dessin, Estampe et Affiche, Peint...</td>\n",
       "      <td>www.museeroybetfould.fr</td>\n",
       "      <td>Courbevoie</td>\n",
       "      <td>48.900998,2.271279</td>\n",
       "      <td>48.900998</td>\n",
       "      <td>2.271279</td>\n",
       "      <td>252837.621729</td>\n",
       "      <td>6.258079e+06</td>\n",
       "    </tr>\n",
       "    <tr>\n",
       "      <th>2</th>\n",
       "      <td>M5076</td>\n",
       "      <td>Place Monsenergue</td>\n",
       "      <td>Joseph Vernet, Pascal de La Rose, Morel-Fatio,...</td>\n",
       "      <td>Conservatoire de l'histoire de l'arsenal et du...</td>\n",
       "      <td>NaN</td>\n",
       "      <td>83000.0</td>\n",
       "      <td>Histoire</td>\n",
       "      <td>Var</td>\n",
       "      <td>2019-01-21</td>\n",
       "      <td>Créé à la fin du Premier Empire et ouvert au p...</td>\n",
       "      <td>...</td>\n",
       "      <td>Provence-Alpes-Côte d'Azur</td>\n",
       "      <td>04 94 02 02 01</td>\n",
       "      <td>Archéologie nationale : Gallo-romain, Moderne;...</td>\n",
       "      <td>www.musee-marine.fr</td>\n",
       "      <td>Toulon</td>\n",
       "      <td>43.122018,5.929368</td>\n",
       "      <td>43.122018</td>\n",
       "      <td>5.929368</td>\n",
       "      <td>660054.226486</td>\n",
       "      <td>5.330563e+06</td>\n",
       "    </tr>\n",
       "  </tbody>\n",
       "</table>\n",
       "<p>2 rows × 27 columns</p>\n",
       "</div>"
      ],
      "text/plain": [
       "  Identifiant                                   Adresse  \\\n",
       "0       M0410  Parc de Bécon, 178 Boulevard Saint Denis   \n",
       "2       M5076                         Place Monsenergue   \n",
       "\n",
       "                                             Artiste  \\\n",
       "0  Ary Scheffer, René Ménard, Fernand Roybet, Car...   \n",
       "2  Joseph Vernet, Pascal de La Rose, Morel-Fatio,...   \n",
       "\n",
       "                                               Atout         Catégorie  \\\n",
       "0  Situé dans le parc de Bécon dont l’origine rem...  Maison d'artiste   \n",
       "2  Conservatoire de l'histoire de l'arsenal et du...               NaN   \n",
       "\n",
       "   Code_Postal                                 Domaine_thématique  \\\n",
       "0      92400.0  Arts décoratifs;Art moderne et contemporain;Be...   \n",
       "2      83000.0                                           Histoire   \n",
       "\n",
       "      Département Date_de_saisie  \\\n",
       "0  Hauts-de-Seine     2019-01-21   \n",
       "2             Var     2019-01-21   \n",
       "\n",
       "                                            Histoire  ...  \\\n",
       "0  Les collections furent constituées au départ p...  ...   \n",
       "2  Créé à la fin du Premier Empire et ouvert au p...  ...   \n",
       "\n",
       "                       Région       Téléphone  \\\n",
       "0               Ile-de-France  01 71 05 77 92   \n",
       "2  Provence-Alpes-Côte d'Azur  04 94 02 02 01   \n",
       "\n",
       "                                              Thèmes                      URL  \\\n",
       "0  Beaux-Arts : Dessin, Estampe et Affiche, Peint...  www.museeroybetfould.fr   \n",
       "2  Archéologie nationale : Gallo-romain, Moderne;...      www.musee-marine.fr   \n",
       "\n",
       "        Ville     geolocalisation    coord_x   coord_y         merc_x  \\\n",
       "0  Courbevoie  48.900998,2.271279  48.900998  2.271279  252837.621729   \n",
       "2      Toulon  43.122018,5.929368  43.122018  5.929368  660054.226486   \n",
       "\n",
       "         merc_y  \n",
       "0  6.258079e+06  \n",
       "2  5.330563e+06  \n",
       "\n",
       "[2 rows x 27 columns]"
      ]
     },
     "execution_count": 35,
     "metadata": {},
     "output_type": "execute_result"
    }
   ],
   "source": [
    "df_geo_museofile.head(2)"
   ]
  },
  {
   "cell_type": "markdown",
   "metadata": {
    "hidden": true
   },
   "source": [
    "Nous avons bien maintenant deux colonnes:\n",
    "- `merc_x`\n",
    "- `merc_y`\n",
    "\n",
    "Contenant les coordonnées Mercator projetées et utilisables pour chaque musée."
   ]
  },
  {
   "cell_type": "markdown",
   "metadata": {
    "heading_collapsed": true,
    "hidden": true
   },
   "source": [
    "#### Url and links:"
   ]
  },
  {
   "cell_type": "markdown",
   "metadata": {
    "hidden": true
   },
   "source": [
    "Nous avons vu que certains liens n'étaient pas bien formatés: \n",
    "\n",
    "Beaucoup commencent par `www.`, tandis que si on veut pouvoir ouvrir le lien, notamment avec Bokeh ou dans une intégration HTML classique, le lien doit commencer par `http://`."
   ]
  },
  {
   "cell_type": "code",
   "execution_count": 36,
   "metadata": {
    "hidden": true
   },
   "outputs": [
    {
     "data": {
      "text/plain": [
       "0                              www.museeroybetfould.fr\n",
       "2                                  www.musee-marine.fr\n",
       "3                 www.museedesplansreliefs.culture.fr/\n",
       "4    www.conflans-sainte-honorine.fr/decouvrir-et-s...\n",
       "5    www.ales.fr/sortir-bouger/musees/musee-du-colo...\n",
       "Name: URL, dtype: object"
      ]
     },
     "execution_count": 36,
     "metadata": {},
     "output_type": "execute_result"
    }
   ],
   "source": [
    "df_geo_museofile['URL'].head()"
   ]
  },
  {
   "cell_type": "markdown",
   "metadata": {
    "hidden": true
   },
   "source": [
    "Fonction `clear_links` pour nettoyer les liens:"
   ]
  },
  {
   "cell_type": "code",
   "execution_count": 37,
   "metadata": {
    "hidden": true
   },
   "outputs": [],
   "source": [
    "def clear_links(url):\n",
    "    if not str(url).startswith(\"http\"):\n",
    "        return \"http://\"+str(url)\n",
    "    else:\n",
    "        return url"
   ]
  },
  {
   "cell_type": "markdown",
   "metadata": {
    "hidden": true
   },
   "source": [
    "On applique la fonction:"
   ]
  },
  {
   "cell_type": "code",
   "execution_count": 38,
   "metadata": {
    "hidden": true
   },
   "outputs": [],
   "source": [
    "df_geo_museofile['URL']=df_geo_museofile['URL'].apply(clear_links)"
   ]
  },
  {
   "cell_type": "markdown",
   "metadata": {
    "hidden": true
   },
   "source": [
    "On vérifie maintenant le résultat:"
   ]
  },
  {
   "cell_type": "code",
   "execution_count": 39,
   "metadata": {
    "hidden": true
   },
   "outputs": [
    {
     "data": {
      "text/plain": [
       "0                       http://www.museeroybetfould.fr\n",
       "2                           http://www.musee-marine.fr\n",
       "3          http://www.museedesplansreliefs.culture.fr/\n",
       "4    http://www.conflans-sainte-honorine.fr/decouvr...\n",
       "5    http://www.ales.fr/sortir-bouger/musees/musee-...\n",
       "Name: URL, dtype: object"
      ]
     },
     "execution_count": 39,
     "metadata": {},
     "output_type": "execute_result"
    }
   ],
   "source": [
    "df_geo_museofile['URL'].head()"
   ]
  },
  {
   "cell_type": "markdown",
   "metadata": {
    "hidden": true
   },
   "source": [
    "Les liens sont maintenant bien dans la bonne forme, et seront utilisables notamment dans Bokeh."
   ]
  },
  {
   "cell_type": "markdown",
   "metadata": {
    "heading_collapsed": true,
    "hidden": true
   },
   "source": [
    "#### Zip Code"
   ]
  },
  {
   "cell_type": "markdown",
   "metadata": {
    "hidden": true
   },
   "source": [
    "We can see that there is only one missing zip code. \n",
    "\n",
    "Let's check to what city it corresponds :"
   ]
  },
  {
   "cell_type": "code",
   "execution_count": 40,
   "metadata": {
    "hidden": true
   },
   "outputs": [
    {
     "data": {
      "text/html": [
       "<div>\n",
       "<style scoped>\n",
       "    .dataframe tbody tr th:only-of-type {\n",
       "        vertical-align: middle;\n",
       "    }\n",
       "\n",
       "    .dataframe tbody tr th {\n",
       "        vertical-align: top;\n",
       "    }\n",
       "\n",
       "    .dataframe thead th {\n",
       "        text-align: right;\n",
       "    }\n",
       "</style>\n",
       "<table border=\"1\" class=\"dataframe\">\n",
       "  <thead>\n",
       "    <tr style=\"text-align: right;\">\n",
       "      <th></th>\n",
       "      <th>Identifiant</th>\n",
       "      <th>Adresse</th>\n",
       "      <th>Artiste</th>\n",
       "      <th>Atout</th>\n",
       "      <th>Catégorie</th>\n",
       "      <th>Code_Postal</th>\n",
       "      <th>Domaine_thématique</th>\n",
       "      <th>Département</th>\n",
       "      <th>Date_de_saisie</th>\n",
       "      <th>Histoire</th>\n",
       "      <th>...</th>\n",
       "      <th>Région</th>\n",
       "      <th>Téléphone</th>\n",
       "      <th>Thèmes</th>\n",
       "      <th>URL</th>\n",
       "      <th>Ville</th>\n",
       "      <th>geolocalisation</th>\n",
       "      <th>coord_x</th>\n",
       "      <th>coord_y</th>\n",
       "      <th>merc_x</th>\n",
       "      <th>merc_y</th>\n",
       "    </tr>\n",
       "  </thead>\n",
       "  <tbody>\n",
       "    <tr>\n",
       "      <th>807</th>\n",
       "      <td>M0592</td>\n",
       "      <td>Place Sainte-Cécile</td>\n",
       "      <td>Georges de La Tour, Francesco Guardi, Bonnard,...</td>\n",
       "      <td>Depuis 1922, plus de mille oeuvres, tableaux, ...</td>\n",
       "      <td>NaN</td>\n",
       "      <td>NaN</td>\n",
       "      <td>Art moderne et contemporain;Beaux-arts</td>\n",
       "      <td>Tarn</td>\n",
       "      <td>2019-01-21</td>\n",
       "      <td>Collection Toulouse-Lautrec. Le musée réunit l...</td>\n",
       "      <td>...</td>\n",
       "      <td>Occitanie</td>\n",
       "      <td>05 63 49 48 70</td>\n",
       "      <td>Archéologie nationale : Préhistoire, Protohist...</td>\n",
       "      <td>http://www.musee-toulouse-lautrec.com</td>\n",
       "      <td>Albi</td>\n",
       "      <td>43.928096,2.143551</td>\n",
       "      <td>43.928096</td>\n",
       "      <td>2.143551</td>\n",
       "      <td>238619.005809</td>\n",
       "      <td>5.454322e+06</td>\n",
       "    </tr>\n",
       "  </tbody>\n",
       "</table>\n",
       "<p>1 rows × 27 columns</p>\n",
       "</div>"
      ],
      "text/plain": [
       "    Identifiant              Adresse  \\\n",
       "807       M0592  Place Sainte-Cécile   \n",
       "\n",
       "                                               Artiste  \\\n",
       "807  Georges de La Tour, Francesco Guardi, Bonnard,...   \n",
       "\n",
       "                                                 Atout Catégorie  Code_Postal  \\\n",
       "807  Depuis 1922, plus de mille oeuvres, tableaux, ...       NaN          NaN   \n",
       "\n",
       "                         Domaine_thématique Département Date_de_saisie  \\\n",
       "807  Art moderne et contemporain;Beaux-arts        Tarn     2019-01-21   \n",
       "\n",
       "                                              Histoire  ...     Région  \\\n",
       "807  Collection Toulouse-Lautrec. Le musée réunit l...  ...  Occitanie   \n",
       "\n",
       "          Téléphone                                             Thèmes  \\\n",
       "807  05 63 49 48 70  Archéologie nationale : Préhistoire, Protohist...   \n",
       "\n",
       "                                       URL Ville     geolocalisation  \\\n",
       "807  http://www.musee-toulouse-lautrec.com  Albi  43.928096,2.143551   \n",
       "\n",
       "       coord_x   coord_y         merc_x        merc_y  \n",
       "807  43.928096  2.143551  238619.005809  5.454322e+06  \n",
       "\n",
       "[1 rows x 27 columns]"
      ]
     },
     "execution_count": 40,
     "metadata": {},
     "output_type": "execute_result"
    }
   ],
   "source": [
    "df_geo_museofile[df_geo_museofile['Code_Postal'].isna()]"
   ]
  },
  {
   "cell_type": "markdown",
   "metadata": {
    "hidden": true
   },
   "source": [
    "The corresponding city is Albi, for which the zip code is 81000. \n",
    "\n",
    "We place it in the corresponding field."
   ]
  },
  {
   "cell_type": "code",
   "execution_count": 41,
   "metadata": {
    "hidden": true
   },
   "outputs": [],
   "source": [
    "df_geo_museofile.fillna({'Code_Postal':81000}, inplace=True)"
   ]
  },
  {
   "cell_type": "markdown",
   "metadata": {
    "hidden": true
   },
   "source": [
    "We can now verify that there isn't any missing zip code anymore in this DataFrame. "
   ]
  },
  {
   "cell_type": "code",
   "execution_count": 42,
   "metadata": {
    "hidden": true,
    "scrolled": true
   },
   "outputs": [
    {
     "data": {
      "text/plain": [
       "0"
      ]
     },
     "execution_count": 42,
     "metadata": {},
     "output_type": "execute_result"
    }
   ],
   "source": [
    "df_geo_museofile['Code_Postal'].isna().sum()"
   ]
  },
  {
   "cell_type": "markdown",
   "metadata": {
    "hidden": true
   },
   "source": [
    "Then, we must specify that the type of the zip codes is int : "
   ]
  },
  {
   "cell_type": "code",
   "execution_count": 43,
   "metadata": {
    "hidden": true
   },
   "outputs": [],
   "source": [
    "df_geo_museofile['Code_Postal']=df_geo_museofile['Code_Postal'].astype(int)"
   ]
  },
  {
   "cell_type": "markdown",
   "metadata": {
    "heading_collapsed": true,
    "hidden": true
   },
   "source": [
    "### Saving the results:"
   ]
  },
  {
   "cell_type": "code",
   "execution_count": 44,
   "metadata": {
    "hidden": true
   },
   "outputs": [],
   "source": [
    "df_geo_museofile.to_csv('data_clean/df_geo_museofile.csv', index=False)"
   ]
  },
  {
   "cell_type": "markdown",
   "metadata": {
    "heading_collapsed": true
   },
   "source": [
    "## Base Joconde :"
   ]
  },
  {
   "cell_type": "markdown",
   "metadata": {
    "heading_collapsed": true,
    "hidden": true
   },
   "source": [
    "### Opening"
   ]
  },
  {
   "cell_type": "code",
   "execution_count": 45,
   "metadata": {
    "hidden": true
   },
   "outputs": [],
   "source": [
    "df_joconde=pd.read_csv('data/base-joconde-extrait.csv', sep=';')"
   ]
  },
  {
   "cell_type": "markdown",
   "metadata": {
    "hidden": true
   },
   "source": [
    "### Basic information"
   ]
  },
  {
   "cell_type": "code",
   "execution_count": 46,
   "metadata": {
    "hidden": true,
    "scrolled": true
   },
   "outputs": [
    {
     "data": {
      "text/html": [
       "<div>\n",
       "<style scoped>\n",
       "    .dataframe tbody tr th:only-of-type {\n",
       "        vertical-align: middle;\n",
       "    }\n",
       "\n",
       "    .dataframe tbody tr th {\n",
       "        vertical-align: top;\n",
       "    }\n",
       "\n",
       "    .dataframe thead th {\n",
       "        text-align: right;\n",
       "    }\n",
       "</style>\n",
       "<table border=\"1\" class=\"dataframe\">\n",
       "  <thead>\n",
       "    <tr style=\"text-align: right;\">\n",
       "      <th></th>\n",
       "      <th>Numéro de l'objet</th>\n",
       "      <th>Domaine</th>\n",
       "      <th>Dénomination</th>\n",
       "      <th>Appellation</th>\n",
       "      <th>Titre</th>\n",
       "      <th>Auteur</th>\n",
       "      <th>Précisions sur l'auteur</th>\n",
       "      <th>Lieu de création</th>\n",
       "      <th>Période de création</th>\n",
       "      <th>Millésime</th>\n",
       "      <th>...</th>\n",
       "      <th>ID-notice</th>\n",
       "      <th>Lieu de conservation</th>\n",
       "      <th>Identifiant Museofile</th>\n",
       "      <th>Date d'import</th>\n",
       "      <th>Date de mise à jour</th>\n",
       "      <th>Label Musée de France</th>\n",
       "      <th>Ecole</th>\n",
       "      <th>Dépôt</th>\n",
       "      <th>ville</th>\n",
       "      <th>geolocalisation_ville</th>\n",
       "    </tr>\n",
       "  </thead>\n",
       "  <tbody>\n",
       "    <tr>\n",
       "      <th>0</th>\n",
       "      <td>914-12-663 ; La 1116</td>\n",
       "      <td>hippiqua;ethnologie</td>\n",
       "      <td>étrier</td>\n",
       "      <td>NaN</td>\n",
       "      <td>NaN</td>\n",
       "      <td>NaN</td>\n",
       "      <td>NaN</td>\n",
       "      <td>NaN</td>\n",
       "      <td>15e siècle</td>\n",
       "      <td>NaN</td>\n",
       "      <td>...</td>\n",
       "      <td>M0759000889</td>\n",
       "      <td>Saumur;Château-musée</td>\n",
       "      <td>M0759</td>\n",
       "      <td>2001-03-19</td>\n",
       "      <td>2002-04-26</td>\n",
       "      <td>Musée de France#au sens de la loi n°2002-5 du ...</td>\n",
       "      <td>NaN</td>\n",
       "      <td>NaN</td>\n",
       "      <td>Saumur</td>\n",
       "      <td>47.258651,-0.079223</td>\n",
       "    </tr>\n",
       "    <tr>\n",
       "      <th>1</th>\n",
       "      <td>914-12-664 ; La 1117</td>\n",
       "      <td>hippiqua;ethnologie</td>\n",
       "      <td>étrier</td>\n",
       "      <td>NaN</td>\n",
       "      <td>NaN</td>\n",
       "      <td>NaN</td>\n",
       "      <td>NaN</td>\n",
       "      <td>NaN</td>\n",
       "      <td>15e siècle</td>\n",
       "      <td>NaN</td>\n",
       "      <td>...</td>\n",
       "      <td>M0759000890</td>\n",
       "      <td>Saumur;Château-musée</td>\n",
       "      <td>M0759</td>\n",
       "      <td>2001-03-19</td>\n",
       "      <td>2002-04-26</td>\n",
       "      <td>Musée de France#au sens de la loi n°2002-5 du ...</td>\n",
       "      <td>NaN</td>\n",
       "      <td>NaN</td>\n",
       "      <td>Saumur</td>\n",
       "      <td>47.258651,-0.079223</td>\n",
       "    </tr>\n",
       "    <tr>\n",
       "      <th>2</th>\n",
       "      <td>03 2 3</td>\n",
       "      <td>dessin</td>\n",
       "      <td>NaN</td>\n",
       "      <td>NaN</td>\n",
       "      <td>VUE PRISE A CHARBONNIERE ; BOIS DE L'ETOILE</td>\n",
       "      <td>ALLEMAND Hector</td>\n",
       "      <td>Lyon, 1809 ; Lyon, 1886</td>\n",
       "      <td>NaN</td>\n",
       "      <td>4e quart 19e siècle</td>\n",
       "      <td>1880</td>\n",
       "      <td>...</td>\n",
       "      <td>000DE021526</td>\n",
       "      <td>Montpellier;musée Fabre</td>\n",
       "      <td>M0476</td>\n",
       "      <td>NaN</td>\n",
       "      <td>NaN</td>\n",
       "      <td>Musée de France#au sens de la loi n°2002-5 du ...</td>\n",
       "      <td>France</td>\n",
       "      <td>NaN</td>\n",
       "      <td>Montpellier</td>\n",
       "      <td>43.611024,3.875521</td>\n",
       "    </tr>\n",
       "    <tr>\n",
       "      <th>3</th>\n",
       "      <td>Cl. 18069 ; D.B. 551 (cat. enseignes, 1996 :)</td>\n",
       "      <td>médiéval;costume - accessoires du costume;ethn...</td>\n",
       "      <td>enseigne profane</td>\n",
       "      <td>NaN</td>\n",
       "      <td>NaN</td>\n",
       "      <td>anonyme</td>\n",
       "      <td>NaN</td>\n",
       "      <td>France (lieu d'exécution)</td>\n",
       "      <td>1er quart 15e siècle (?)</td>\n",
       "      <td>NaN</td>\n",
       "      <td>...</td>\n",
       "      <td>50030017787</td>\n",
       "      <td>Paris;musée national du Moyen Age - Thermes de...</td>\n",
       "      <td>M5003</td>\n",
       "      <td>2001-03-21</td>\n",
       "      <td>NaN</td>\n",
       "      <td>Musée de France#au sens de la loi n°2002-5 du ...</td>\n",
       "      <td>NaN</td>\n",
       "      <td>NaN</td>\n",
       "      <td>Paris</td>\n",
       "      <td>48.8589,2.3469</td>\n",
       "    </tr>\n",
       "    <tr>\n",
       "      <th>4</th>\n",
       "      <td>876 3 105</td>\n",
       "      <td>dessin</td>\n",
       "      <td>NaN</td>\n",
       "      <td>NaN</td>\n",
       "      <td>LA CHASSE AUX LOUPS ET AUX RENARDS</td>\n",
       "      <td>DELACROIX Eugène ; RUBENS Peter Paul (d'après)</td>\n",
       "      <td>Delacroix : Charenton-Saint-Maurice, 1798 ; Pa...</td>\n",
       "      <td>NaN</td>\n",
       "      <td>2e quart 19e siècle;3e quart 19e siècle</td>\n",
       "      <td>1863 avant</td>\n",
       "      <td>...</td>\n",
       "      <td>000DE021580</td>\n",
       "      <td>Montpellier;musée Fabre</td>\n",
       "      <td>M0476</td>\n",
       "      <td>NaN</td>\n",
       "      <td>1995-06-19</td>\n",
       "      <td>Musée de France#au sens de la loi n°2002-5 du ...</td>\n",
       "      <td>France ; Flandres (d'après)</td>\n",
       "      <td>NaN</td>\n",
       "      <td>Montpellier</td>\n",
       "      <td>43.611024,3.875521</td>\n",
       "    </tr>\n",
       "  </tbody>\n",
       "</table>\n",
       "<p>5 rows × 36 columns</p>\n",
       "</div>"
      ],
      "text/plain": [
       "                               Numéro de l'objet  \\\n",
       "0                           914-12-663 ; La 1116   \n",
       "1                           914-12-664 ; La 1117   \n",
       "2                                         03 2 3   \n",
       "3  Cl. 18069 ; D.B. 551 (cat. enseignes, 1996 :)   \n",
       "4                                      876 3 105   \n",
       "\n",
       "                                             Domaine      Dénomination  \\\n",
       "0                                hippiqua;ethnologie            étrier   \n",
       "1                                hippiqua;ethnologie            étrier   \n",
       "2                                             dessin               NaN   \n",
       "3  médiéval;costume - accessoires du costume;ethn...  enseigne profane   \n",
       "4                                             dessin               NaN   \n",
       "\n",
       "  Appellation                                        Titre  \\\n",
       "0         NaN                                          NaN   \n",
       "1         NaN                                          NaN   \n",
       "2         NaN  VUE PRISE A CHARBONNIERE ; BOIS DE L'ETOILE   \n",
       "3         NaN                                          NaN   \n",
       "4         NaN           LA CHASSE AUX LOUPS ET AUX RENARDS   \n",
       "\n",
       "                                           Auteur  \\\n",
       "0                                             NaN   \n",
       "1                                             NaN   \n",
       "2                                 ALLEMAND Hector   \n",
       "3                                         anonyme   \n",
       "4  DELACROIX Eugène ; RUBENS Peter Paul (d'après)   \n",
       "\n",
       "                             Précisions sur l'auteur  \\\n",
       "0                                                NaN   \n",
       "1                                                NaN   \n",
       "2                            Lyon, 1809 ; Lyon, 1886   \n",
       "3                                                NaN   \n",
       "4  Delacroix : Charenton-Saint-Maurice, 1798 ; Pa...   \n",
       "\n",
       "            Lieu de création                      Période de création  \\\n",
       "0                        NaN                               15e siècle   \n",
       "1                        NaN                               15e siècle   \n",
       "2                        NaN                      4e quart 19e siècle   \n",
       "3  France (lieu d'exécution)                 1er quart 15e siècle (?)   \n",
       "4                        NaN  2e quart 19e siècle;3e quart 19e siècle   \n",
       "\n",
       "    Millésime  ...    ID-notice  \\\n",
       "0         NaN  ...  M0759000889   \n",
       "1         NaN  ...  M0759000890   \n",
       "2        1880  ...  000DE021526   \n",
       "3         NaN  ...  50030017787   \n",
       "4  1863 avant  ...  000DE021580   \n",
       "\n",
       "                                Lieu de conservation Identifiant Museofile  \\\n",
       "0                               Saumur;Château-musée                 M0759   \n",
       "1                               Saumur;Château-musée                 M0759   \n",
       "2                            Montpellier;musée Fabre                 M0476   \n",
       "3  Paris;musée national du Moyen Age - Thermes de...                 M5003   \n",
       "4                            Montpellier;musée Fabre                 M0476   \n",
       "\n",
       "  Date d'import Date de mise à jour  \\\n",
       "0    2001-03-19          2002-04-26   \n",
       "1    2001-03-19          2002-04-26   \n",
       "2           NaN                 NaN   \n",
       "3    2001-03-21                 NaN   \n",
       "4           NaN          1995-06-19   \n",
       "\n",
       "                               Label Musée de France  \\\n",
       "0  Musée de France#au sens de la loi n°2002-5 du ...   \n",
       "1  Musée de France#au sens de la loi n°2002-5 du ...   \n",
       "2  Musée de France#au sens de la loi n°2002-5 du ...   \n",
       "3  Musée de France#au sens de la loi n°2002-5 du ...   \n",
       "4  Musée de France#au sens de la loi n°2002-5 du ...   \n",
       "\n",
       "                         Ecole Dépôt        ville geolocalisation_ville  \n",
       "0                          NaN   NaN       Saumur   47.258651,-0.079223  \n",
       "1                          NaN   NaN       Saumur   47.258651,-0.079223  \n",
       "2                       France   NaN  Montpellier    43.611024,3.875521  \n",
       "3                          NaN   NaN        Paris        48.8589,2.3469  \n",
       "4  France ; Flandres (d'après)   NaN  Montpellier    43.611024,3.875521  \n",
       "\n",
       "[5 rows x 36 columns]"
      ]
     },
     "execution_count": 46,
     "metadata": {},
     "output_type": "execute_result"
    }
   ],
   "source": [
    "df_joconde.head()"
   ]
  },
  {
   "cell_type": "code",
   "execution_count": 47,
   "metadata": {
    "hidden": true
   },
   "outputs": [
    {
     "data": {
      "text/plain": [
       "(592279, 36)"
      ]
     },
     "execution_count": 47,
     "metadata": {},
     "output_type": "execute_result"
    }
   ],
   "source": [
    "df_joconde.shape"
   ]
  },
  {
   "cell_type": "code",
   "execution_count": 48,
   "metadata": {
    "hidden": true,
    "scrolled": true
   },
   "outputs": [
    {
     "data": {
      "text/plain": [
       "Numéro de l'objet                 391\n",
       "Domaine                             2\n",
       "Dénomination                   207367\n",
       "Appellation                    562082\n",
       "Titre                          125482\n",
       "Auteur                         101184\n",
       "Précisions sur l'auteur        207853\n",
       "Lieu de création               450462\n",
       "Période de création             91710\n",
       "Millésime                      345814\n",
       "Période de l'original copié    583985\n",
       "Epoque                         533411\n",
       "Utilisation                    491497\n",
       "Période d'utilisation          585828\n",
       "Millésime d'utilisation        587589\n",
       "Dimensions                      65425\n",
       "Matériaux-techniques            56700\n",
       "Géographie historique          586934\n",
       "Découverte                     521098\n",
       "Sujet                          273826\n",
       "Source de la représentation    578649\n",
       "Onomastique                    589675\n",
       "Statut juridique                 2760\n",
       "Date d'acquisition             118860\n",
       "Date de dépôt                  563590\n",
       "Ancien dépôt                   587107\n",
       "ID-notice                           0\n",
       "Lieu de conservation               32\n",
       "Identifiant Museofile            9844\n",
       "Date d'import                   84022\n",
       "Date de mise à jour            460903\n",
       "Label Musée de France           55792\n",
       "Ecole                          196797\n",
       "Dépôt                          554949\n",
       "ville                              32\n",
       "geolocalisation_ville             178\n",
       "dtype: int64"
      ]
     },
     "execution_count": 48,
     "metadata": {},
     "output_type": "execute_result"
    }
   ],
   "source": [
    "df_joconde.isna().sum()"
   ]
  },
  {
   "cell_type": "markdown",
   "metadata": {
    "hidden": true
   },
   "source": [
    "### Cleaning"
   ]
  },
  {
   "cell_type": "markdown",
   "metadata": {
    "hidden": true
   },
   "source": [
    "#### Renaming columns"
   ]
  },
  {
   "cell_type": "markdown",
   "metadata": {
    "hidden": true
   },
   "source": [
    "Noms des colonnes au départ:"
   ]
  },
  {
   "cell_type": "code",
   "execution_count": 49,
   "metadata": {
    "hidden": true
   },
   "outputs": [
    {
     "data": {
      "text/plain": [
       "Index(['Numéro de l'objet', 'Domaine', 'Dénomination', 'Appellation', 'Titre',\n",
       "       'Auteur', 'Précisions sur l'auteur', 'Lieu de création',\n",
       "       'Période de création', 'Millésime', 'Période de l'original copié',\n",
       "       'Epoque', 'Utilisation', 'Période d'utilisation',\n",
       "       'Millésime d'utilisation', 'Dimensions', 'Matériaux-techniques',\n",
       "       'Géographie historique', 'Découverte', 'Sujet',\n",
       "       'Source de la représentation', 'Onomastique', 'Statut juridique',\n",
       "       'Date d'acquisition', 'Date de dépôt', 'Ancien dépôt', 'ID-notice',\n",
       "       'Lieu de conservation', 'Identifiant Museofile', 'Date d'import',\n",
       "       'Date de mise à jour', 'Label Musée de France', 'Ecole', 'Dépôt',\n",
       "       'ville', 'geolocalisation_ville'],\n",
       "      dtype='object')"
      ]
     },
     "execution_count": 49,
     "metadata": {},
     "output_type": "execute_result"
    }
   ],
   "source": [
    "df_joconde.columns"
   ]
  },
  {
   "cell_type": "markdown",
   "metadata": {
    "hidden": true
   },
   "source": [
    "Application de la fonction:"
   ]
  },
  {
   "cell_type": "code",
   "execution_count": 50,
   "metadata": {
    "hidden": true
   },
   "outputs": [],
   "source": [
    "df_joconde=rename_columns_spaces(df_joconde)"
   ]
  },
  {
   "cell_type": "markdown",
   "metadata": {
    "hidden": true
   },
   "source": [
    "Vérification du résultat de la fonction:"
   ]
  },
  {
   "cell_type": "code",
   "execution_count": 51,
   "metadata": {
    "hidden": true
   },
   "outputs": [
    {
     "data": {
      "text/plain": [
       "Index(['Numéro_de_l'objet', 'Domaine', 'Dénomination', 'Appellation', 'Titre',\n",
       "       'Auteur', 'Précisions_sur_l'auteur', 'Lieu_de_création',\n",
       "       'Période_de_création', 'Millésime', 'Période_de_l'original_copié',\n",
       "       'Epoque', 'Utilisation', 'Période_d'utilisation',\n",
       "       'Millésime_d'utilisation', 'Dimensions', 'Matériaux-techniques',\n",
       "       'Géographie_historique', 'Découverte', 'Sujet',\n",
       "       'Source_de_la_représentation', 'Onomastique', 'Statut_juridique',\n",
       "       'Date_d'acquisition', 'Date_de_dépôt', 'Ancien_dépôt', 'ID-notice',\n",
       "       'Lieu_de_conservation', 'Identifiant_Museofile', 'Date_d'import',\n",
       "       'Date_de_mise_à_jour', 'Label_Musée_de_France', 'Ecole', 'Dépôt',\n",
       "       'ville', 'geolocalisation_ville'],\n",
       "      dtype='object')"
      ]
     },
     "execution_count": 51,
     "metadata": {},
     "output_type": "execute_result"
    }
   ],
   "source": [
    "df_joconde.columns"
   ]
  },
  {
   "cell_type": "markdown",
   "metadata": {
    "hidden": true
   },
   "source": [
    "Les colonnes ont bien été modifiées."
   ]
  },
  {
   "cell_type": "markdown",
   "metadata": {
    "hidden": true
   },
   "source": [
    "#### Deleting rows without title, author or Musofile ID:"
   ]
  },
  {
   "cell_type": "code",
   "execution_count": 52,
   "metadata": {
    "hidden": true
   },
   "outputs": [],
   "source": [
    "df_joconde.dropna(subset=['Titre','Auteur','Identifiant_Museofile'], inplace=True)"
   ]
  },
  {
   "cell_type": "code",
   "execution_count": 53,
   "metadata": {
    "hidden": true,
    "scrolled": false
   },
   "outputs": [
    {
     "data": {
      "text/plain": [
       "Numéro_de_l'objet                 124\n",
       "Domaine                             1\n",
       "Dénomination                   202023\n",
       "Appellation                    433601\n",
       "Titre                               0\n",
       "Auteur                              0\n",
       "Précisions_sur_l'auteur         81482\n",
       "Lieu_de_création               358370\n",
       "Période_de_création             17589\n",
       "Millésime                      229685\n",
       "Période_de_l'original_copié    437223\n",
       "Epoque                         438028\n",
       "Utilisation                    410268\n",
       "Période_d'utilisation          444206\n",
       "Millésime_d'utilisation        444109\n",
       "Dimensions                      31614\n",
       "Matériaux-techniques            49926\n",
       "Géographie_historique          443822\n",
       "Découverte                     437628\n",
       "Sujet                          173246\n",
       "Source_de_la_représentation    432114\n",
       "Onomastique                    443219\n",
       "Statut_juridique                  569\n",
       "Date_d'acquisition              72627\n",
       "Date_de_dépôt                  423318\n",
       "Ancien_dépôt                   440216\n",
       "ID-notice                           0\n",
       "Lieu_de_conservation                3\n",
       "Identifiant_Museofile               0\n",
       "Date_d'import                   70180\n",
       "Date_de_mise_à_jour            342374\n",
       "Label_Musée_de_France           38628\n",
       "Ecole                           67822\n",
       "Dépôt                          416716\n",
       "ville                               3\n",
       "geolocalisation_ville               4\n",
       "dtype: int64"
      ]
     },
     "execution_count": 53,
     "metadata": {},
     "output_type": "execute_result"
    }
   ],
   "source": [
    "df_joconde.isna().sum()"
   ]
  },
  {
   "cell_type": "markdown",
   "metadata": {
    "hidden": true
   },
   "source": [
    "Il n'y a plus de lignes avec le titre de l'oeuvre manquant."
   ]
  },
  {
   "cell_type": "code",
   "execution_count": 54,
   "metadata": {
    "hidden": true
   },
   "outputs": [
    {
     "name": "stdout",
     "output_type": "stream",
     "text": [
      "Number of unique museofile ids: 405\n"
     ]
    }
   ],
   "source": [
    "print('Number of unique museofile ids: '+str(df_joconde['Identifiant_Museofile'].unique().shape[0]))"
   ]
  },
  {
   "cell_type": "markdown",
   "metadata": {
    "hidden": true
   },
   "source": [
    "### Restriciting the DataSet:"
   ]
  },
  {
   "cell_type": "markdown",
   "metadata": {
    "hidden": true
   },
   "source": [
    "We get the first 10 works of art for each Museofile Id : "
   ]
  },
  {
   "cell_type": "code",
   "execution_count": 55,
   "metadata": {
    "hidden": true
   },
   "outputs": [
    {
     "data": {
      "text/plain": [
       "8.071604938271605"
      ]
     },
     "execution_count": 55,
     "metadata": {},
     "output_type": "execute_result"
    }
   ],
   "source": [
    "df_joconde_reduced=df_joconde.groupby('Identifiant_Museofile').head(10)\n",
    "np.mean(df_joconde_reduced.groupby('Identifiant_Museofile').size())"
   ]
  },
  {
   "cell_type": "code",
   "execution_count": 56,
   "metadata": {
    "hidden": true
   },
   "outputs": [
    {
     "data": {
      "text/plain": [
       "(3269, 36)"
      ]
     },
     "execution_count": 56,
     "metadata": {},
     "output_type": "execute_result"
    }
   ],
   "source": [
    "df_joconde_reduced.shape"
   ]
  },
  {
   "cell_type": "markdown",
   "metadata": {
    "hidden": true
   },
   "source": [
    "### Saving the results:"
   ]
  },
  {
   "cell_type": "code",
   "execution_count": 57,
   "metadata": {
    "hidden": true
   },
   "outputs": [],
   "source": [
    "df_joconde_reduced.to_csv('data_clean/df_joconde_reduced.csv', index=False)"
   ]
  }
 ],
 "metadata": {
  "kernelspec": {
   "display_name": "Python 3",
   "language": "python",
   "name": "python3"
  },
  "language_info": {
   "codemirror_mode": {
    "name": "ipython",
    "version": 3
   },
   "file_extension": ".py",
   "mimetype": "text/x-python",
   "name": "python",
   "nbconvert_exporter": "python",
   "pygments_lexer": "ipython3",
   "version": "3.7.4"
  },
  "toc": {
   "base_numbering": 1,
   "nav_menu": {},
   "number_sections": true,
   "sideBar": true,
   "skip_h1_title": true,
   "title_cell": "Table of Contents",
   "title_sidebar": "Contents",
   "toc_cell": false,
   "toc_position": {
    "height": "calc(100% - 180px)",
    "left": "10px",
    "top": "150px",
    "width": "270.4px"
   },
   "toc_section_display": true,
   "toc_window_display": true
  }
 },
 "nbformat": 4,
 "nbformat_minor": 2
}
