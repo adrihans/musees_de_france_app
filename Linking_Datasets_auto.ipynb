{
 "cells": [
  {
   "cell_type": "markdown",
   "metadata": {},
   "source": [
    "# Méthode applicable de façon totalement automatique:"
   ]
  },
  {
   "cell_type": "markdown",
   "metadata": {},
   "source": [
    "Nous voulons maintenant développer une fonction pouvant traiter de façon totalement automatique tout ce que l'on vient de faire. \n",
    "\n",
    "Les entrées de cette fonction sont:\n",
    "- Les deux datasets\n",
    "- Les noms respectifs des colonnes communes à ces deux datasets\n",
    "\n",
    "Les sorties de cette fonction sont: \n",
    "- Le Dataset avec toutes les données associées trouvées\n",
    "- Le Dataset contenant exclusivement les résultats trouvés lors de l'étape 2, qui sont donc moins 'sûrs', avec le score TF-IDF associé, ce qui permet de trier par ordre croissant de ce score et par conséquent de vérifier en premier les résultats les 'moins' certains. \n",
    "\n",
    "**Etapes nécessaires:**\n",
    "\n",
    "    1) jkhjkh\n",
    "\n",
    "\n",
    "\n",
    "Affichages de cette fonction:\n",
    "- Nombre d'associations trouvées à chaque étape"
   ]
  }
 ],
 "metadata": {
  "kernelspec": {
   "display_name": "Python 3",
   "language": "python",
   "name": "python3"
  },
  "language_info": {
   "codemirror_mode": {
    "name": "ipython",
    "version": 3
   },
   "file_extension": ".py",
   "mimetype": "text/x-python",
   "name": "python",
   "nbconvert_exporter": "python",
   "pygments_lexer": "ipython3",
   "version": "3.7.4"
  },
  "toc": {
   "base_numbering": 1,
   "nav_menu": {},
   "number_sections": true,
   "sideBar": true,
   "skip_h1_title": true,
   "title_cell": "Table of Contents",
   "title_sidebar": "Contents",
   "toc_cell": false,
   "toc_position": {},
   "toc_section_display": true,
   "toc_window_display": true
  }
 },
 "nbformat": 4,
 "nbformat_minor": 2
}
